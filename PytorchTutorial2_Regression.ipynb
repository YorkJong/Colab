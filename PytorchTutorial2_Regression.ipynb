{
  "nbformat": 4,
  "nbformat_minor": 0,
  "metadata": {
    "colab": {
      "provenance": [],
      "authorship_tag": "ABX9TyOIS+gwqIoMmxjqcVzmu/hf",
      "include_colab_link": true
    },
    "kernelspec": {
      "name": "python3",
      "display_name": "Python 3"
    },
    "language_info": {
      "name": "python"
    }
  },
  "cells": [
    {
      "cell_type": "markdown",
      "metadata": {
        "id": "view-in-github",
        "colab_type": "text"
      },
      "source": [
        "<a href=\"https://colab.research.google.com/github/YorkJong/Colab/blob/main/PytorchTutorial2_Regression.ipynb\" target=\"_parent\"><img src=\"https://colab.research.google.com/assets/colab-badge.svg\" alt=\"Open In Colab\"/></a>"
      ]
    },
    {
      "cell_type": "markdown",
      "source": [
        "[莫凡Pytorch教程（二）：Pytorch回归模型搭建](https://juejin.cn/post/7089612360226177037)\n",
        "\n"
      ],
      "metadata": {
        "id": "56vfv49DLxJj"
      }
    },
    {
      "cell_type": "code",
      "source": [
        "import time\n",
        "import torch\n",
        "import torch.nn.functional as F\n",
        "import matplotlib.pyplot as plt\n",
        "import plotly.express as px\n",
        "import plotly.graph_objs as go\n",
        "from google.colab import widgets\n",
        "\n",
        "# x data (tensor), shape=(100, 1)\n",
        "x = torch.unsqueeze(torch.linspace(-1, 1, 100), dim=1)   \n",
        "#x = torch.linspace(-1, 1, 100)\n",
        "\n",
        "# noisy y data (tensor), shape=(100, 1)\n",
        "y = x.pow(2) + 0.2*torch.rand(x.size())                  \n",
        "\n",
        "print(\"x.shape:\", x.shape)\n",
        "print(\"y.shape:\", y.shape)"
      ],
      "metadata": {
        "colab": {
          "base_uri": "https://localhost:8080/"
        },
        "id": "M1a7djnbL4AF",
        "outputId": "5aca563c-9619-4f71-91cb-eb7f62083bdd"
      },
      "execution_count": 94,
      "outputs": [
        {
          "output_type": "stream",
          "name": "stdout",
          "text": [
            "x.shape: torch.Size([100, 1])\n",
            "y.shape: torch.Size([100, 1])\n"
          ]
        }
      ]
    },
    {
      "cell_type": "code",
      "source": [
        "grid = widgets.Grid(1, 2)\n",
        "\n",
        "# Scatter with matplotlib\n",
        "with grid.output_to(0, 0):\n",
        "    plt.scatter(x, y)\n",
        "    plt.show()\n",
        "\n",
        "# Scatter with Plotly\n",
        "with grid.output_to(0, 1):\n",
        "    #fig = go.Figure(layout=go.Layout(width=500, height=500))\n",
        "    #fig.add_trace(go.Scatter(y=y[:,0], x=x[:,0], mode='markers'))\n",
        "    fig = px.scatter(y=y[:,0], x=x[:,0], width=500, height=400)\n",
        "    fig.update_layout(\n",
        "        width=400, height=250,\n",
        "        margin=dict(l=20, r=20, t=20, b=20),\n",
        "    )\n",
        "    fig.show()"
      ],
      "metadata": {
        "colab": {
          "base_uri": "https://localhost:8080/",
          "height": 271
        },
        "id": "1ukmLew0MQ30",
        "outputId": "dd99c9f9-1d13-4243-f786-00ee0526dd3d"
      },
      "execution_count": 112,
      "outputs": [
        {
          "output_type": "display_data",
          "data": {
            "text/plain": [
              "<IPython.core.display.HTML object>"
            ],
            "text/html": [
              "<style>\n",
              "       table#id114, #id114 > tbody > tr > th, #id114 > tbody > tr > td {\n",
              "         border: 1px solid lightgray;\n",
              "         border-collapse:collapse;\n",
              "         \n",
              "        }</style>"
            ]
          },
          "metadata": {}
        },
        {
          "output_type": "display_data",
          "data": {
            "text/plain": [
              "<IPython.core.display.HTML object>"
            ],
            "text/html": [
              "<table id=id114><tr><td id=id114-0-0></td><td id=id114-0-1></td></tr></table>"
            ]
          },
          "metadata": {}
        },
        {
          "output_type": "display_data",
          "data": {
            "text/plain": [
              "<IPython.core.display.Javascript object>"
            ],
            "application/javascript": [
              "window[\"f63f8b2e-adeb-11ed-b4be-0242ac1c000c\"] = google.colab.output.getActiveOutputArea();\n",
              "//# sourceURL=js_a4111e2cc5"
            ]
          },
          "metadata": {}
        },
        {
          "output_type": "display_data",
          "data": {
            "text/plain": [
              "<IPython.core.display.Javascript object>"
            ],
            "application/javascript": [
              "window[\"f63fd552-adeb-11ed-b4be-0242ac1c000c\"] = document.querySelector(\"#id114-0-0\");\n",
              "//# sourceURL=js_bad47ddba9"
            ]
          },
          "metadata": {}
        },
        {
          "output_type": "display_data",
          "data": {
            "text/plain": [
              "<IPython.core.display.Javascript object>"
            ],
            "application/javascript": [
              "window[\"f640527a-adeb-11ed-b4be-0242ac1c000c\"] = google.colab.output.setActiveOutputArea(window[\"f63fd552-adeb-11ed-b4be-0242ac1c000c\"]);\n",
              "//# sourceURL=js_d4091e210a"
            ]
          },
          "metadata": {}
        },
        {
          "output_type": "display_data",
          "data": {
            "text/plain": [
              "<Figure size 432x288 with 1 Axes>"
            ],
            "image/png": "[encoded data removed]"
          },
          "metadata": {
            "needs_background": "light"
          }
        },
        {
          "output_type": "display_data",
          "data": {
            "text/plain": [
              "<IPython.core.display.Javascript object>"
            ],
            "application/javascript": [
              "window[\"f65e20e8-adeb-11ed-b4be-0242ac1c000c\"] = google.colab.output.setActiveOutputArea(window[\"f63f8b2e-adeb-11ed-b4be-0242ac1c000c\"]);\n",
              "//# sourceURL=js_d13fb8f441"
            ]
          },
          "metadata": {}
        },
        {
          "output_type": "display_data",
          "data": {
            "text/plain": [
              "<IPython.core.display.Javascript object>"
            ],
            "application/javascript": [
              "window[\"f661bece-adeb-11ed-b4be-0242ac1c000c\"] = google.colab.output.getActiveOutputArea();\n",
              "//# sourceURL=js_461e1ff96b"
            ]
          },
          "metadata": {}
        },
        {
          "output_type": "display_data",
          "data": {
            "text/plain": [
              "<IPython.core.display.Javascript object>"
            ],
            "application/javascript": [
              "window[\"f66250aa-adeb-11ed-b4be-0242ac1c000c\"] = document.querySelector(\"#id114-0-1\");\n",
              "//# sourceURL=js_757c8d3324"
            ]
          },
          "metadata": {}
        },
        {
          "output_type": "display_data",
          "data": {
            "text/plain": [
              "<IPython.core.display.Javascript object>"
            ],
            "application/javascript": [
              "window[\"f662c9ae-adeb-11ed-b4be-0242ac1c000c\"] = google.colab.output.setActiveOutputArea(window[\"f66250aa-adeb-11ed-b4be-0242ac1c000c\"]);\n",
              "//# sourceURL=js_bc53a0364f"
            ]
          },
          "metadata": {}
        },
        {
          "output_type": "display_data",
          "data": {
            "text/html": [
              "<html>\n",
              "<head><meta charset=\"utf-8\" /></head>\n",
              "<body>\n",
              "    <div>            <script src=\"https://cdnjs.cloudflare.com/ajax/libs/mathjax/2.7.5/MathJax.js?config=TeX-AMS-MML_SVG\"></script><script type=\"text/javascript\">if (window.MathJax) {MathJax.Hub.Config({SVG: {font: \"STIX-Web\"}});}</script>                <script type=\"text/javascript\">window.PlotlyConfig = {MathJaxConfig: 'local'};</script>\n",
              "        <script src=\"https://cdn.plot.ly/plotly-2.8.3.min.js\"></script>                <div id=\"0e1afd2f-1909-478a-a14e-be89ab4ac592\" class=\"plotly-graph-div\" style=\"height:250px; width:400px;\"></div>            <script type=\"text/javascript\">                                    window.PLOTLYENV=window.PLOTLYENV || {};                                    if (document.getElementById(\"0e1afd2f-1909-478a-a14e-be89ab4ac592\")) {                    Plotly.newPlot(                        \"0e1afd2f-1909-478a-a14e-be89ab4ac592\",                        [{\"hovertemplate\":\"x=%{x}<br>y=%{y}<extra></extra>\",\"legendgroup\":\"\",\"marker\":{\"color\":\"#636efa\",\"symbol\":\"circle\"},\"mode\":\"markers\",\"name\":\"\",\"orientation\":\"v\",\"showlegend\":false,\"x\":[-1.0,-0.9797979593276978,-0.9595959782600403,-0.939393937587738,-0.9191918969154358,-0.8989899158477783,-0.8787878751754761,-0.8585858345031738,-0.8383838534355164,-0.8181818127632141,-0.7979798316955566,-0.7777777910232544,-0.7575757503509521,-0.7373737692832947,-0.7171717286109924,-0.696969747543335,-0.6767677068710327,-0.6565656661987305,-0.636363685131073,-0.6161616444587708,-0.5959596037864685,-0.575757622718811,-0.5555555820465088,-0.5353535413742065,-0.5151515007019043,-0.49494948983192444,-0.4747474491596222,-0.45454543828964233,-0.4343434274196625,-0.4141414165496826,-0.39393937587738037,-0.3737373650074005,-0.35353535413742065,-0.3333333432674408,-0.31313130259513855,-0.2929292917251587,-0.27272728085517883,-0.252525269985199,-0.23232322931289673,-0.21212121844291687,-0.19191919267177582,-0.17171716690063477,-0.1515151560306549,-0.13131313025951385,-0.1111111119389534,-0.09090909361839294,-0.07070706784725189,-0.050505056977272034,-0.03030303120613098,-0.010101011022925377,0.010101009160280228,0.03030303120613098,0.05050504952669144,0.07070706784725189,0.09090909361839294,0.1111111044883728,0.13131313025951385,0.1515151560306549,0.17171716690063477,0.19191919267177582,0.21212121844291687,0.23232322931289673,0.252525269985199,0.27272725105285645,0.2929292917251587,0.31313130259513855,0.3333333432674408,0.35353535413742065,0.3737373650074005,0.39393937587738037,0.4141414165496826,0.4343434274196625,0.4545454680919647,0.4747474789619446,0.4949495196342468,0.5151515007019043,0.5353535413742065,0.5555555820465088,0.575757622718811,0.5959596037864685,0.6161616444587708,0.636363685131073,0.6565656661987305,0.6767677068710327,0.696969747543335,0.7171717286109924,0.7373737692832947,0.7575757503509521,0.7777777910232544,0.7979798316955566,0.8181818127632141,0.8383838534355164,0.8585858941078186,0.8787878751754761,0.8989899158477783,0.9191919565200806,0.939393937587738,0.9595959782600403,0.9797979593276978,1.0],\"xaxis\":\"x\",\"y\":[1.1858116388320923,1.1367673873901367,0.9805759787559509,1.0409570932388306,1.0114009380340576,0.9866403937339783,0.8213628530502319,0.8588727712631226,0.7581104040145874,0.8548388481140137,0.646523654460907,0.639096736907959,0.6023317575454712,0.6536114811897278,0.7051973342895508,0.6658982038497925,0.524988055229187,0.5428945422172546,0.5966377854347229,0.5373713970184326,0.5298033952713013,0.4565642476081848,0.34202781319618225,0.4702405333518982,0.3598328232765198,0.2517377734184265,0.354562371969223,0.35891038179397583,0.21429932117462158,0.21061742305755615,0.16155105829238892,0.22077633440494537,0.32325077056884766,0.15896588563919067,0.22832846641540527,0.14351460337638855,0.22190049290657043,0.08466479182243347,0.06070548668503761,0.1089714765548706,0.05487316846847534,0.1985783874988556,0.15958601236343384,0.19431014358997345,0.11859943717718124,0.10128261148929596,0.19445468485355377,0.14038871228694916,0.13167601823806763,0.013612102717161179,0.04578958824276924,0.0364082008600235,0.2007012665271759,0.09532686322927475,0.11706182360649109,0.18408392369747162,0.15383610129356384,0.03492662310600281,0.17449790239334106,0.09648880362510681,0.11189842969179153,0.1913323700428009,0.19697612524032593,0.21103373169898987,0.21251952648162842,0.14344170689582825,0.21449676156044006,0.18556971848011017,0.25404271483421326,0.28923189640045166,0.2231588363647461,0.320091187953949,0.3900507688522339,0.23537611961364746,0.4246155023574829,0.27530306577682495,0.42839181423187256,0.4406365752220154,0.3813621401786804,0.5117111206054688,0.5058697462081909,0.4845975935459137,0.46996763348579407,0.655159056186676,0.6044368147850037,0.5926774144172668,0.5469866394996643,0.7289740443229675,0.6383105516433716,0.769150972366333,0.7325733304023743,0.7733203172683716,0.9317299127578735,0.9177098274230957,0.9677114486694336,1.0331007242202759,1.0790364742279053,0.9465017318725586,0.9876506328582764,1.0431889295578003],\"yaxis\":\"y\",\"type\":\"scatter\"}],                        {\"template\":{\"data\":{\"bar\":[{\"error_x\":{\"color\":\"#2a3f5f\"},\"error_y\":{\"color\":\"#2a3f5f\"},\"marker\":{\"line\":{\"color\":\"#E5ECF6\",\"width\":0.5},\"pattern\":{\"fillmode\":\"overlay\",\"size\":10,\"solidity\":0.2}},\"type\":\"bar\"}],\"barpolar\":[{\"marker\":{\"line\":{\"color\":\"#E5ECF6\",\"width\":0.5},\"pattern\":{\"fillmode\":\"overlay\",\"size\":10,\"solidity\":0.2}},\"type\":\"barpolar\"}],\"carpet\":[{\"aaxis\":{\"endlinecolor\":\"#2a3f5f\",\"gridcolor\":\"white\",\"linecolor\":\"white\",\"minorgridcolor\":\"white\",\"startlinecolor\":\"#2a3f5f\"},\"baxis\":{\"endlinecolor\":\"#2a3f5f\",\"gridcolor\":\"white\",\"linecolor\":\"white\",\"minorgridcolor\":\"white\",\"startlinecolor\":\"#2a3f5f\"},\"type\":\"carpet\"}],\"choropleth\":[{\"colorbar\":{\"outlinewidth\":0,\"ticks\":\"\"},\"type\":\"choropleth\"}],\"contour\":[{\"colorbar\":{\"outlinewidth\":0,\"ticks\":\"\"},\"colorscale\":[[0.0,\"#0d0887\"],[0.1111111111111111,\"#46039f\"],[0.2222222222222222,\"#7201a8\"],[0.3333333333333333,\"#9c179e\"],[0.4444444444444444,\"#bd3786\"],[0.5555555555555556,\"#d8576b\"],[0.6666666666666666,\"#ed7953\"],[0.7777777777777778,\"#fb9f3a\"],[0.8888888888888888,\"#fdca26\"],[1.0,\"#f0f921\"]],\"type\":\"contour\"}],\"contourcarpet\":[{\"colorbar\":{\"outlinewidth\":0,\"ticks\":\"\"},\"type\":\"contourcarpet\"}],\"heatmap\":[{\"colorbar\":{\"outlinewidth\":0,\"ticks\":\"\"},\"colorscale\":[[0.0,\"#0d0887\"],[0.1111111111111111,\"#46039f\"],[0.2222222222222222,\"#7201a8\"],[0.3333333333333333,\"#9c179e\"],[0.4444444444444444,\"#bd3786\"],[0.5555555555555556,\"#d8576b\"],[0.6666666666666666,\"#ed7953\"],[0.7777777777777778,\"#fb9f3a\"],[0.8888888888888888,\"#fdca26\"],[1.0,\"#f0f921\"]],\"type\":\"heatmap\"}],\"heatmapgl\":[{\"colorbar\":{\"outlinewidth\":0,\"ticks\":\"\"},\"colorscale\":[[0.0,\"#0d0887\"],[0.1111111111111111,\"#46039f\"],[0.2222222222222222,\"#7201a8\"],[0.3333333333333333,\"#9c179e\"],[0.4444444444444444,\"#bd3786\"],[0.5555555555555556,\"#d8576b\"],[0.6666666666666666,\"#ed7953\"],[0.7777777777777778,\"#fb9f3a\"],[0.8888888888888888,\"#fdca26\"],[1.0,\"#f0f921\"]],\"type\":\"heatmapgl\"}],\"histogram\":[{\"marker\":{\"pattern\":{\"fillmode\":\"overlay\",\"size\":10,\"solidity\":0.2}},\"type\":\"histogram\"}],\"histogram2d\":[{\"colorbar\":{\"outlinewidth\":0,\"ticks\":\"\"},\"colorscale\":[[0.0,\"#0d0887\"],[0.1111111111111111,\"#46039f\"],[0.2222222222222222,\"#7201a8\"],[0.3333333333333333,\"#9c179e\"],[0.4444444444444444,\"#bd3786\"],[0.5555555555555556,\"#d8576b\"],[0.6666666666666666,\"#ed7953\"],[0.7777777777777778,\"#fb9f3a\"],[0.8888888888888888,\"#fdca26\"],[1.0,\"#f0f921\"]],\"type\":\"histogram2d\"}],\"histogram2dcontour\":[{\"colorbar\":{\"outlinewidth\":0,\"ticks\":\"\"},\"colorscale\":[[0.0,\"#0d0887\"],[0.1111111111111111,\"#46039f\"],[0.2222222222222222,\"#7201a8\"],[0.3333333333333333,\"#9c179e\"],[0.4444444444444444,\"#bd3786\"],[0.5555555555555556,\"#d8576b\"],[0.6666666666666666,\"#ed7953\"],[0.7777777777777778,\"#fb9f3a\"],[0.8888888888888888,\"#fdca26\"],[1.0,\"#f0f921\"]],\"type\":\"histogram2dcontour\"}],\"mesh3d\":[{\"colorbar\":{\"outlinewidth\":0,\"ticks\":\"\"},\"type\":\"mesh3d\"}],\"parcoords\":[{\"line\":{\"colorbar\":{\"outlinewidth\":0,\"ticks\":\"\"}},\"type\":\"parcoords\"}],\"pie\":[{\"automargin\":true,\"type\":\"pie\"}],\"scatter\":[{\"marker\":{\"colorbar\":{\"outlinewidth\":0,\"ticks\":\"\"}},\"type\":\"scatter\"}],\"scatter3d\":[{\"line\":{\"colorbar\":{\"outlinewidth\":0,\"ticks\":\"\"}},\"marker\":{\"colorbar\":{\"outlinewidth\":0,\"ticks\":\"\"}},\"type\":\"scatter3d\"}],\"scattercarpet\":[{\"marker\":{\"colorbar\":{\"outlinewidth\":0,\"ticks\":\"\"}},\"type\":\"scattercarpet\"}],\"scattergeo\":[{\"marker\":{\"colorbar\":{\"outlinewidth\":0,\"ticks\":\"\"}},\"type\":\"scattergeo\"}],\"scattergl\":[{\"marker\":{\"colorbar\":{\"outlinewidth\":0,\"ticks\":\"\"}},\"type\":\"scattergl\"}],\"scattermapbox\":[{\"marker\":{\"colorbar\":{\"outlinewidth\":0,\"ticks\":\"\"}},\"type\":\"scattermapbox\"}],\"scatterpolar\":[{\"marker\":{\"colorbar\":{\"outlinewidth\":0,\"ticks\":\"\"}},\"type\":\"scatterpolar\"}],\"scatterpolargl\":[{\"marker\":{\"colorbar\":{\"outlinewidth\":0,\"ticks\":\"\"}},\"type\":\"scatterpolargl\"}],\"scatterternary\":[{\"marker\":{\"colorbar\":{\"outlinewidth\":0,\"ticks\":\"\"}},\"type\":\"scatterternary\"}],\"surface\":[{\"colorbar\":{\"outlinewidth\":0,\"ticks\":\"\"},\"colorscale\":[[0.0,\"#0d0887\"],[0.1111111111111111,\"#46039f\"],[0.2222222222222222,\"#7201a8\"],[0.3333333333333333,\"#9c179e\"],[0.4444444444444444,\"#bd3786\"],[0.5555555555555556,\"#d8576b\"],[0.6666666666666666,\"#ed7953\"],[0.7777777777777778,\"#fb9f3a\"],[0.8888888888888888,\"#fdca26\"],[1.0,\"#f0f921\"]],\"type\":\"surface\"}],\"table\":[{\"cells\":{\"fill\":{\"color\":\"#EBF0F8\"},\"line\":{\"color\":\"white\"}},\"header\":{\"fill\":{\"color\":\"#C8D4E3\"},\"line\":{\"color\":\"white\"}},\"type\":\"table\"}]},\"layout\":{\"annotationdefaults\":{\"arrowcolor\":\"#2a3f5f\",\"arrowhead\":0,\"arrowwidth\":1},\"autotypenumbers\":\"strict\",\"coloraxis\":{\"colorbar\":{\"outlinewidth\":0,\"ticks\":\"\"}},\"colorscale\":{\"diverging\":[[0,\"#8e0152\"],[0.1,\"#c51b7d\"],[0.2,\"#de77ae\"],[0.3,\"#f1b6da\"],[0.4,\"#fde0ef\"],[0.5,\"#f7f7f7\"],[0.6,\"#e6f5d0\"],[0.7,\"#b8e186\"],[0.8,\"#7fbc41\"],[0.9,\"#4d9221\"],[1,\"#276419\"]],\"sequential\":[[0.0,\"#0d0887\"],[0.1111111111111111,\"#46039f\"],[0.2222222222222222,\"#7201a8\"],[0.3333333333333333,\"#9c179e\"],[0.4444444444444444,\"#bd3786\"],[0.5555555555555556,\"#d8576b\"],[0.6666666666666666,\"#ed7953\"],[0.7777777777777778,\"#fb9f3a\"],[0.8888888888888888,\"#fdca26\"],[1.0,\"#f0f921\"]],\"sequentialminus\":[[0.0,\"#0d0887\"],[0.1111111111111111,\"#46039f\"],[0.2222222222222222,\"#7201a8\"],[0.3333333333333333,\"#9c179e\"],[0.4444444444444444,\"#bd3786\"],[0.5555555555555556,\"#d8576b\"],[0.6666666666666666,\"#ed7953\"],[0.7777777777777778,\"#fb9f3a\"],[0.8888888888888888,\"#fdca26\"],[1.0,\"#f0f921\"]]},\"colorway\":[\"#636efa\",\"#EF553B\",\"#00cc96\",\"#ab63fa\",\"#FFA15A\",\"#19d3f3\",\"#FF6692\",\"#B6E880\",\"#FF97FF\",\"#FECB52\"],\"font\":{\"color\":\"#2a3f5f\"},\"geo\":{\"bgcolor\":\"white\",\"lakecolor\":\"white\",\"landcolor\":\"#E5ECF6\",\"showlakes\":true,\"showland\":true,\"subunitcolor\":\"white\"},\"hoverlabel\":{\"align\":\"left\"},\"hovermode\":\"closest\",\"mapbox\":{\"style\":\"light\"},\"paper_bgcolor\":\"white\",\"plot_bgcolor\":\"#E5ECF6\",\"polar\":{\"angularaxis\":{\"gridcolor\":\"white\",\"linecolor\":\"white\",\"ticks\":\"\"},\"bgcolor\":\"#E5ECF6\",\"radialaxis\":{\"gridcolor\":\"white\",\"linecolor\":\"white\",\"ticks\":\"\"}},\"scene\":{\"xaxis\":{\"backgroundcolor\":\"#E5ECF6\",\"gridcolor\":\"white\",\"gridwidth\":2,\"linecolor\":\"white\",\"showbackground\":true,\"ticks\":\"\",\"zerolinecolor\":\"white\"},\"yaxis\":{\"backgroundcolor\":\"#E5ECF6\",\"gridcolor\":\"white\",\"gridwidth\":2,\"linecolor\":\"white\",\"showbackground\":true,\"ticks\":\"\",\"zerolinecolor\":\"white\"},\"zaxis\":{\"backgroundcolor\":\"#E5ECF6\",\"gridcolor\":\"white\",\"gridwidth\":2,\"linecolor\":\"white\",\"showbackground\":true,\"ticks\":\"\",\"zerolinecolor\":\"white\"}},\"shapedefaults\":{\"line\":{\"color\":\"#2a3f5f\"}},\"ternary\":{\"aaxis\":{\"gridcolor\":\"white\",\"linecolor\":\"white\",\"ticks\":\"\"},\"baxis\":{\"gridcolor\":\"white\",\"linecolor\":\"white\",\"ticks\":\"\"},\"bgcolor\":\"#E5ECF6\",\"caxis\":{\"gridcolor\":\"white\",\"linecolor\":\"white\",\"ticks\":\"\"}},\"title\":{\"x\":0.05},\"xaxis\":{\"automargin\":true,\"gridcolor\":\"white\",\"linecolor\":\"white\",\"ticks\":\"\",\"title\":{\"standoff\":15},\"zerolinecolor\":\"white\",\"zerolinewidth\":2},\"yaxis\":{\"automargin\":true,\"gridcolor\":\"white\",\"linecolor\":\"white\",\"ticks\":\"\",\"title\":{\"standoff\":15},\"zerolinecolor\":\"white\",\"zerolinewidth\":2}}},\"xaxis\":{\"anchor\":\"y\",\"domain\":[0.0,1.0],\"title\":{\"text\":\"x\"}},\"yaxis\":{\"anchor\":\"x\",\"domain\":[0.0,1.0],\"title\":{\"text\":\"y\"}},\"legend\":{\"tracegroupgap\":0},\"margin\":{\"t\":20,\"l\":20,\"r\":20,\"b\":20},\"height\":250,\"width\":400},                        {\"responsive\": true}                    ).then(function(){\n",
              "                            \n",
              "var gd = document.getElementById('0e1afd2f-1909-478a-a14e-be89ab4ac592');\n",
              "var x = new MutationObserver(function (mutations, observer) {{\n",
              "        var display = window.getComputedStyle(gd).display;\n",
              "        if (!display || display === 'none') {{\n",
              "            console.log([gd, 'removed!']);\n",
              "            Plotly.purge(gd);\n",
              "            observer.disconnect();\n",
              "        }}\n",
              "}});\n",
              "\n",
              "// Listen for the removal of the full notebook cells\n",
              "var notebookContainer = gd.closest('#notebook-container');\n",
              "if (notebookContainer) {{\n",
              "    x.observe(notebookContainer, {childList: true});\n",
              "}}\n",
              "\n",
              "// Listen for the clearing of the current output cell\n",
              "var outputEl = gd.closest('.output');\n",
              "if (outputEl) {{\n",
              "    x.observe(outputEl, {childList: true});\n",
              "}}\n",
              "\n",
              "                        })                };                            </script>        </div>\n",
              "</body>\n",
              "</html>"
            ]
          },
          "metadata": {}
        },
        {
          "output_type": "display_data",
          "data": {
            "text/plain": [
              "<IPython.core.display.Javascript object>"
            ],
            "application/javascript": [
              "window[\"f66f7302-adeb-11ed-b4be-0242ac1c000c\"] = google.colab.output.setActiveOutputArea(window[\"f661bece-adeb-11ed-b4be-0242ac1c000c\"]);\n",
              "//# sourceURL=js_2d9dff8909"
            ]
          },
          "metadata": {}
        }
      ]
    },
    {
      "cell_type": "code",
      "source": [
        "class Net(torch.nn.Module):\n",
        "    def __init__(self, n_feature, n_hidden, n_output):\n",
        "        \"\"\" \n",
        "        Parameters\n",
        "        ----------\n",
        "        n_feature \n",
        "            represents the number of features,\n",
        "        n_hidden \n",
        "            represents the number of neurons in the hidden layer,\n",
        "        n_output \n",
        "            represents the number of output values\n",
        "        \"\"\"\n",
        "        super(Net, self).__init__()\n",
        "        self.hidden = torch.nn.Linear(n_feature, n_hidden)\n",
        "        self.predict = torch.nn.Linear(n_hidden, n_output)\n",
        "    \n",
        "    def forward(self, x):\n",
        "        \"\"\"\n",
        "        Parameters\n",
        "        ----------\n",
        "        x\n",
        "            the input data\n",
        "        \"\"\"\n",
        "        x = F.relu(self.hidden(x))\n",
        "        y = self.predict(x)\n",
        "        return y"
      ],
      "metadata": {
        "id": "X67AiFwTMc3k"
      },
      "execution_count": 20,
      "outputs": []
    },
    {
      "cell_type": "code",
      "source": [
        "# Visualizing Functions\n",
        "\n",
        "def show_regress_mpl(x, y, prediction):\n",
        "    \"\"\"Plot and show learning process with Maplotlib.\n",
        "    \"\"\"\n",
        "    plt.cla()\n",
        "    plt.scatter(x, y)\n",
        "    plt.plot(x, prediction, 'r-', lw=5)\n",
        "    plt.text(0.5, 0, f'Loss={loss:.4f}')\n",
        "    #plt.savefig(\"./img/02_\"+str(step)+\".png\")\n",
        "    #plt.pause(0.01)\n",
        "    plt.show()\n",
        "\n",
        "\n",
        "def show_regress_plotly(x, y, prediction):\n",
        "    \"\"\"Plot and show learning process with Plotly.\n",
        "    \"\"\"\n",
        "    fig = go.Figure([\n",
        "        go.Scatter(x=x, y=y, mode='markers', name='train'),\n",
        "        go.Scatter(x=x, y=prediction, mode='lines', name='prediction', \n",
        "                   line=dict(color='red', width=5))\n",
        "    ])\n",
        "    fig.update_layout(\n",
        "        annotations=[go.layout.Annotation(\n",
        "            text=f\"Loss={loss:.4f}\", x=0.5, y=0, showarrow=False)],\n",
        "        width=400, height=250,\n",
        "        margin=dict(l=20, r=20, t=20, b=20),\n",
        "        legend=dict(yanchor=\"top\", y=0.99, xanchor=\"center\", x=0.5)\n",
        "    )\n",
        "    fig.show()\n"
      ],
      "metadata": {
        "id": "eXkB9oGMcATi"
      },
      "execution_count": 111,
      "outputs": []
    },
    {
      "cell_type": "code",
      "source": [
        "net = Net(1, 11, 1)\n",
        "print(net)\n",
        "\n",
        "optimizer = torch.optim.SGD(net.parameters(), lr=0.5)  \n",
        "loss_func = torch.nn.MSELoss()    # For regression problem, use MSE\n",
        "\n",
        "\n",
        "grid = widgets.Grid(1, 2)\n",
        "#plt.ion()\n",
        "for step in range(100):\n",
        "    # Forward (full batch at once)\n",
        "    prediction = net(x)\n",
        "    loss = loss_func(prediction, y)\n",
        "    \n",
        "    # First, reduce all parameter gradients to zero (because this value will be \n",
        "    # kept after each calculation of gradient and not clearing it will lead to \n",
        "    # incorrect results)\n",
        "    optimizer.zero_grad()   \n",
        "                            \n",
        "    # Perform reverse transmission to calculate gradients of all nodes in the \n",
        "    # computation graph                        \n",
        "    loss.backward()         \n",
        "\n",
        "    # After calculation, use optimizer to optimize these gradients\n",
        "    optimizer.step() \n",
        "\n",
        "    if step % 20 == 0:\n",
        "        with grid.output_to(0, 0):\n",
        "            grid.clear_cell()\n",
        "            show_regress_mpl(x, y, prediction.data)\n",
        "        with grid.output_to(0, 1):\n",
        "            grid.clear_cell()\n",
        "            show_regress_plotly(x[:,0], y[:,0], prediction.data[:,0])\n",
        "        time.sleep(.5)\n",
        "\n",
        "#plt.ioff()\n",
        "plt.show()\n"
      ],
      "metadata": {
        "colab": {
          "base_uri": "https://localhost:8080/",
          "height": 340
        },
        "id": "M_FPSqIFNio4",
        "outputId": "6f3dd399-a6c1-4fdc-f142-642a7bacaaa7"
      },
      "execution_count": 114,
      "outputs": [
        {
          "output_type": "stream",
          "name": "stdout",
          "text": [
            "Net(\n",
            "  (hidden): Linear(in_features=1, out_features=11, bias=True)\n",
            "  (predict): Linear(in_features=11, out_features=1, bias=True)\n",
            ")\n"
          ]
        },
        {
          "output_type": "display_data",
          "data": {
            "text/plain": [
              "<IPython.core.display.HTML object>"
            ],
            "text/html": [
              "<style>\n",
              "       table#id118, #id118 > tbody > tr > th, #id118 > tbody > tr > td {\n",
              "         border: 1px solid lightgray;\n",
              "         border-collapse:collapse;\n",
              "         \n",
              "        }</style>"
            ]
          },
          "metadata": {}
        },
        {
          "output_type": "display_data",
          "data": {
            "text/plain": [
              "<IPython.core.display.HTML object>"
            ],
            "text/html": [
              "<table id=id118><tr><td id=id118-0-0></td><td id=id118-0-1></td></tr></table>"
            ]
          },
          "metadata": {}
        },
        {
          "output_type": "display_data",
          "data": {
            "text/plain": [
              "<IPython.core.display.Javascript object>"
            ],
            "application/javascript": [
              "window[\"1009e31a-adec-11ed-b4be-0242ac1c000c\"] = google.colab.output.getActiveOutputArea();\n",
              "//# sourceURL=js_8dd984787d"
            ]
          },
          "metadata": {}
        },
        {
          "output_type": "display_data",
          "data": {
            "text/plain": [
              "<IPython.core.display.Javascript object>"
            ],
            "application/javascript": [
              "window[\"100aff0c-adec-11ed-b4be-0242ac1c000c\"] = document.querySelector(\"#id118-0-0\");\n",
              "//# sourceURL=js_51a6874698"
            ]
          },
          "metadata": {}
        },
        {
          "output_type": "display_data",
          "data": {
            "text/plain": [
              "<IPython.core.display.Javascript object>"
            ],
            "application/javascript": [
              "window[\"100bff6a-adec-11ed-b4be-0242ac1c000c\"] = google.colab.output.setActiveOutputArea(window[\"100aff0c-adec-11ed-b4be-0242ac1c000c\"]);\n",
              "//# sourceURL=js_6577e09f58"
            ]
          },
          "metadata": {}
        },
        {
          "output_type": "display_data",
          "data": {
            "text/plain": [
              "<IPython.core.display.Javascript object>"
            ],
            "application/javascript": [
              "window[\"103e5ce4-adec-11ed-b4be-0242ac1c000c\"] = google.colab.output.setActiveOutputArea(window[\"1009e31a-adec-11ed-b4be-0242ac1c000c\"]);\n",
              "//# sourceURL=js_6e668e18ac"
            ]
          },
          "metadata": {}
        },
        {
          "output_type": "display_data",
          "data": {
            "text/plain": [
              "<IPython.core.display.Javascript object>"
            ],
            "application/javascript": [
              "window[\"1042cf86-adec-11ed-b4be-0242ac1c000c\"] = google.colab.output.getActiveOutputArea();\n",
              "//# sourceURL=js_bce0030d30"
            ]
          },
          "metadata": {}
        },
        {
          "output_type": "display_data",
          "data": {
            "text/plain": [
              "<IPython.core.display.Javascript object>"
            ],
            "application/javascript": [
              "window[\"104317d4-adec-11ed-b4be-0242ac1c000c\"] = document.querySelector(\"#id118-0-1\");\n",
              "//# sourceURL=js_74153c0925"
            ]
          },
          "metadata": {}
        },
        {
          "output_type": "display_data",
          "data": {
            "text/plain": [
              "<IPython.core.display.Javascript object>"
            ],
            "application/javascript": [
              "window[\"104357bc-adec-11ed-b4be-0242ac1c000c\"] = google.colab.output.setActiveOutputArea(window[\"104317d4-adec-11ed-b4be-0242ac1c000c\"]);\n",
              "//# sourceURL=js_f3017d7c22"
            ]
          },
          "metadata": {}
        },
        {
          "output_type": "display_data",
          "data": {
            "text/plain": [
              "<IPython.core.display.Javascript object>"
            ],
            "application/javascript": [
              "window[\"104c27ac-adec-11ed-b4be-0242ac1c000c\"] = google.colab.output.setActiveOutputArea(window[\"1042cf86-adec-11ed-b4be-0242ac1c000c\"]);\n",
              "//# sourceURL=js_9a17773ebf"
            ]
          },
          "metadata": {}
        },
        {
          "output_type": "display_data",
          "data": {
            "text/plain": [
              "<IPython.core.display.Javascript object>"
            ],
            "application/javascript": [
              "window[\"109d650e-adec-11ed-b4be-0242ac1c000c\"] = google.colab.output.getActiveOutputArea();\n",
              "//# sourceURL=js_443b5f2f93"
            ]
          },
          "metadata": {}
        },
        {
          "output_type": "display_data",
          "data": {
            "text/plain": [
              "<IPython.core.display.Javascript object>"
            ],
            "application/javascript": [
              "window[\"109dc8c8-adec-11ed-b4be-0242ac1c000c\"] = document.querySelector(\"#id118-0-0\");\n",
              "//# sourceURL=js_51be752214"
            ]
          },
          "metadata": {}
        },
        {
          "output_type": "display_data",
          "data": {
            "text/plain": [
              "<IPython.core.display.Javascript object>"
            ],
            "application/javascript": [
              "window[\"109e32ae-adec-11ed-b4be-0242ac1c000c\"] = google.colab.output.setActiveOutputArea(window[\"109dc8c8-adec-11ed-b4be-0242ac1c000c\"]);\n",
              "//# sourceURL=js_0a5ba9c344"
            ]
          },
          "metadata": {}
        },
        {
          "output_type": "display_data",
          "data": {
            "text/plain": [
              "<IPython.core.display.Javascript object>"
            ],
            "application/javascript": [
              "window[\"10bb4f1a-adec-11ed-b4be-0242ac1c000c\"] = google.colab.output.setActiveOutputArea(window[\"109d650e-adec-11ed-b4be-0242ac1c000c\"]);\n",
              "//# sourceURL=js_66dab8d164"
            ]
          },
          "metadata": {}
        },
        {
          "output_type": "display_data",
          "data": {
            "text/plain": [
              "<IPython.core.display.Javascript object>"
            ],
            "application/javascript": [
              "window[\"10be2956-adec-11ed-b4be-0242ac1c000c\"] = google.colab.output.getActiveOutputArea();\n",
              "//# sourceURL=js_d59b4cb833"
            ]
          },
          "metadata": {}
        },
        {
          "output_type": "display_data",
          "data": {
            "text/plain": [
              "<IPython.core.display.Javascript object>"
            ],
            "application/javascript": [
              "window[\"10be764a-adec-11ed-b4be-0242ac1c000c\"] = document.querySelector(\"#id118-0-1\");\n",
              "//# sourceURL=js_a883995dd0"
            ]
          },
          "metadata": {}
        },
        {
          "output_type": "display_data",
          "data": {
            "text/plain": [
              "<IPython.core.display.Javascript object>"
            ],
            "application/javascript": [
              "window[\"10becc26-adec-11ed-b4be-0242ac1c000c\"] = google.colab.output.setActiveOutputArea(window[\"10be764a-adec-11ed-b4be-0242ac1c000c\"]);\n",
              "//# sourceURL=js_3e1cc50265"
            ]
          },
          "metadata": {}
        },
        {
          "output_type": "display_data",
          "data": {
            "text/plain": [
              "<IPython.core.display.Javascript object>"
            ],
            "application/javascript": [
              "window[\"10c3a282-adec-11ed-b4be-0242ac1c000c\"] = google.colab.output.setActiveOutputArea(window[\"10be2956-adec-11ed-b4be-0242ac1c000c\"]);\n",
              "//# sourceURL=js_682d0c97c7"
            ]
          },
          "metadata": {}
        },
        {
          "output_type": "display_data",
          "data": {
            "text/plain": [
              "<IPython.core.display.Javascript object>"
            ],
            "application/javascript": [
              "window[\"111434e0-adec-11ed-b4be-0242ac1c000c\"] = google.colab.output.getActiveOutputArea();\n",
              "//# sourceURL=js_1a964d28d8"
            ]
          },
          "metadata": {}
        },
        {
          "output_type": "display_data",
          "data": {
            "text/plain": [
              "<IPython.core.display.Javascript object>"
            ],
            "application/javascript": [
              "window[\"1114b2d0-adec-11ed-b4be-0242ac1c000c\"] = document.querySelector(\"#id118-0-0\");\n",
              "//# sourceURL=js_fd5d597e62"
            ]
          },
          "metadata": {}
        },
        {
          "output_type": "display_data",
          "data": {
            "text/plain": [
              "<IPython.core.display.Javascript object>"
            ],
            "application/javascript": [
              "window[\"11150ba4-adec-11ed-b4be-0242ac1c000c\"] = google.colab.output.setActiveOutputArea(window[\"1114b2d0-adec-11ed-b4be-0242ac1c000c\"]);\n",
              "//# sourceURL=js_5d4ff98aad"
            ]
          },
          "metadata": {}
        },
        {
          "output_type": "display_data",
          "data": {
            "text/plain": [
              "<IPython.core.display.Javascript object>"
            ],
            "application/javascript": [
              "window[\"1133bcca-adec-11ed-b4be-0242ac1c000c\"] = google.colab.output.setActiveOutputArea(window[\"111434e0-adec-11ed-b4be-0242ac1c000c\"]);\n",
              "//# sourceURL=js_91b39bd81e"
            ]
          },
          "metadata": {}
        },
        {
          "output_type": "display_data",
          "data": {
            "text/plain": [
              "<IPython.core.display.Javascript object>"
            ],
            "application/javascript": [
              "window[\"1135eac2-adec-11ed-b4be-0242ac1c000c\"] = google.colab.output.getActiveOutputArea();\n",
              "//# sourceURL=js_07419f03b4"
            ]
          },
          "metadata": {}
        },
        {
          "output_type": "display_data",
          "data": {
            "text/plain": [
              "<IPython.core.display.Javascript object>"
            ],
            "application/javascript": [
              "window[\"113633d8-adec-11ed-b4be-0242ac1c000c\"] = document.querySelector(\"#id118-0-1\");\n",
              "//# sourceURL=js_1f3066f80f"
            ]
          },
          "metadata": {}
        },
        {
          "output_type": "display_data",
          "data": {
            "text/plain": [
              "<IPython.core.display.Javascript object>"
            ],
            "application/javascript": [
              "window[\"11367f82-adec-11ed-b4be-0242ac1c000c\"] = google.colab.output.setActiveOutputArea(window[\"113633d8-adec-11ed-b4be-0242ac1c000c\"]);\n",
              "//# sourceURL=js_74eddbf6cd"
            ]
          },
          "metadata": {}
        },
        {
          "output_type": "display_data",
          "data": {
            "text/plain": [
              "<IPython.core.display.Javascript object>"
            ],
            "application/javascript": [
              "window[\"113c03e4-adec-11ed-b4be-0242ac1c000c\"] = google.colab.output.setActiveOutputArea(window[\"1135eac2-adec-11ed-b4be-0242ac1c000c\"]);\n",
              "//# sourceURL=js_fffa084cad"
            ]
          },
          "metadata": {}
        },
        {
          "output_type": "display_data",
          "data": {
            "text/plain": [
              "<IPython.core.display.Javascript object>"
            ],
            "application/javascript": [
              "window[\"118c3198-adec-11ed-b4be-0242ac1c000c\"] = google.colab.output.getActiveOutputArea();\n",
              "//# sourceURL=js_c0410a6c54"
            ]
          },
          "metadata": {}
        },
        {
          "output_type": "display_data",
          "data": {
            "text/plain": [
              "<IPython.core.display.Javascript object>"
            ],
            "application/javascript": [
              "window[\"118cc37e-adec-11ed-b4be-0242ac1c000c\"] = document.querySelector(\"#id118-0-0\");\n",
              "//# sourceURL=js_bc85a31588"
            ]
          },
          "metadata": {}
        },
        {
          "output_type": "display_data",
          "data": {
            "text/plain": [
              "<IPython.core.display.Javascript object>"
            ],
            "application/javascript": [
              "window[\"118d77a6-adec-11ed-b4be-0242ac1c000c\"] = google.colab.output.setActiveOutputArea(window[\"118cc37e-adec-11ed-b4be-0242ac1c000c\"]);\n",
              "//# sourceURL=js_9111daba54"
            ]
          },
          "metadata": {}
        },
        {
          "output_type": "display_data",
          "data": {
            "text/plain": [
              "<IPython.core.display.Javascript object>"
            ],
            "application/javascript": [
              "window[\"11a97622-adec-11ed-b4be-0242ac1c000c\"] = google.colab.output.setActiveOutputArea(window[\"118c3198-adec-11ed-b4be-0242ac1c000c\"]);\n",
              "//# sourceURL=js_4a7bd4aa15"
            ]
          },
          "metadata": {}
        },
        {
          "output_type": "display_data",
          "data": {
            "text/plain": [
              "<IPython.core.display.Javascript object>"
            ],
            "application/javascript": [
              "window[\"11ac60b2-adec-11ed-b4be-0242ac1c000c\"] = google.colab.output.getActiveOutputArea();\n",
              "//# sourceURL=js_edf2a1d532"
            ]
          },
          "metadata": {}
        },
        {
          "output_type": "display_data",
          "data": {
            "text/plain": [
              "<IPython.core.display.Javascript object>"
            ],
            "application/javascript": [
              "window[\"11acbb98-adec-11ed-b4be-0242ac1c000c\"] = document.querySelector(\"#id118-0-1\");\n",
              "//# sourceURL=js_3fc080ac40"
            ]
          },
          "metadata": {}
        },
        {
          "output_type": "display_data",
          "data": {
            "text/plain": [
              "<IPython.core.display.Javascript object>"
            ],
            "application/javascript": [
              "window[\"11ad088c-adec-11ed-b4be-0242ac1c000c\"] = google.colab.output.setActiveOutputArea(window[\"11acbb98-adec-11ed-b4be-0242ac1c000c\"]);\n",
              "//# sourceURL=js_b13b7d1fcf"
            ]
          },
          "metadata": {}
        },
        {
          "output_type": "display_data",
          "data": {
            "text/plain": [
              "<IPython.core.display.Javascript object>"
            ],
            "application/javascript": [
              "window[\"11d1032c-adec-11ed-b4be-0242ac1c000c\"] = google.colab.output.setActiveOutputArea(window[\"11ac60b2-adec-11ed-b4be-0242ac1c000c\"]);\n",
              "//# sourceURL=js_c6279d1f98"
            ]
          },
          "metadata": {}
        },
        {
          "output_type": "display_data",
          "data": {
            "text/plain": [
              "<IPython.core.display.Javascript object>"
            ],
            "application/javascript": [
              "window[\"12219c88-adec-11ed-b4be-0242ac1c000c\"] = google.colab.output.getActiveOutputArea();\n",
              "//# sourceURL=js_ee844bf5a6"
            ]
          },
          "metadata": {}
        },
        {
          "output_type": "display_data",
          "data": {
            "text/plain": [
              "<IPython.core.display.Javascript object>"
            ],
            "application/javascript": [
              "window[\"12224d68-adec-11ed-b4be-0242ac1c000c\"] = document.querySelector(\"#id118-0-0\");\n",
              "//# sourceURL=js_7693c3ece8"
            ]
          },
          "metadata": {}
        },
        {
          "output_type": "display_data",
          "data": {
            "text/plain": [
              "<IPython.core.display.Javascript object>"
            ],
            "application/javascript": [
              "window[\"1222d9f4-adec-11ed-b4be-0242ac1c000c\"] = google.colab.output.setActiveOutputArea(window[\"12224d68-adec-11ed-b4be-0242ac1c000c\"]);\n",
              "//# sourceURL=js_656595147f"
            ]
          },
          "metadata": {}
        },
        {
          "output_type": "display_data",
          "data": {
            "text/plain": [
              "<Figure size 432x288 with 1 Axes>"
            ],
            "image/png": "[encoded data removed]"
          },
          "metadata": {
            "needs_background": "light"
          }
        },
        {
          "output_type": "display_data",
          "data": {
            "text/plain": [
              "<IPython.core.display.Javascript object>"
            ],
            "application/javascript": [
              "window[\"1240d710-adec-11ed-b4be-0242ac1c000c\"] = google.colab.output.setActiveOutputArea(window[\"12219c88-adec-11ed-b4be-0242ac1c000c\"]);\n",
              "//# sourceURL=js_e4f55f4d9d"
            ]
          },
          "metadata": {}
        },
        {
          "output_type": "display_data",
          "data": {
            "text/plain": [
              "<IPython.core.display.Javascript object>"
            ],
            "application/javascript": [
              "window[\"1244dff4-adec-11ed-b4be-0242ac1c000c\"] = google.colab.output.getActiveOutputArea();\n",
              "//# sourceURL=js_0851dd7e28"
            ]
          },
          "metadata": {}
        },
        {
          "output_type": "display_data",
          "data": {
            "text/plain": [
              "<IPython.core.display.Javascript object>"
            ],
            "application/javascript": [
              "window[\"12458e5e-adec-11ed-b4be-0242ac1c000c\"] = document.querySelector(\"#id118-0-1\");\n",
              "//# sourceURL=js_eb73a1293a"
            ]
          },
          "metadata": {}
        },
        {
          "output_type": "display_data",
          "data": {
            "text/plain": [
              "<IPython.core.display.Javascript object>"
            ],
            "application/javascript": [
              "window[\"12463692-adec-11ed-b4be-0242ac1c000c\"] = google.colab.output.setActiveOutputArea(window[\"12458e5e-adec-11ed-b4be-0242ac1c000c\"]);\n",
              "//# sourceURL=js_dbd70dc8c9"
            ]
          },
          "metadata": {}
        },
        {
          "output_type": "display_data",
          "data": {
            "text/html": [
              "<html>\n",
              "<head><meta charset=\"utf-8\" /></head>\n",
              "<body>\n",
              "    <div>            <script src=\"https://cdnjs.cloudflare.com/ajax/libs/mathjax/2.7.5/MathJax.js?config=TeX-AMS-MML_SVG\"></script><script type=\"text/javascript\">if (window.MathJax) {MathJax.Hub.Config({SVG: {font: \"STIX-Web\"}});}</script>                <script type=\"text/javascript\">window.PlotlyConfig = {MathJaxConfig: 'local'};</script>\n",
              "        <script src=\"https://cdn.plot.ly/plotly-2.8.3.min.js\"></script>                <div id=\"338437d0-2612-4dee-b22d-cf8df759bc17\" class=\"plotly-graph-div\" style=\"height:250px; width:400px;\"></div>            <script type=\"text/javascript\">                                    window.PLOTLYENV=window.PLOTLYENV || {};                                    if (document.getElementById(\"338437d0-2612-4dee-b22d-cf8df759bc17\")) {                    Plotly.newPlot(                        \"338437d0-2612-4dee-b22d-cf8df759bc17\",                        [{\"mode\":\"markers\",\"name\":\"train\",\"x\":[-1.0,-0.9797979593276978,-0.9595959782600403,-0.939393937587738,-0.9191918969154358,-0.8989899158477783,-0.8787878751754761,-0.8585858345031738,-0.8383838534355164,-0.8181818127632141,-0.7979798316955566,-0.7777777910232544,-0.7575757503509521,-0.7373737692832947,-0.7171717286109924,-0.696969747543335,-0.6767677068710327,-0.6565656661987305,-0.636363685131073,-0.6161616444587708,-0.5959596037864685,-0.575757622718811,-0.5555555820465088,-0.5353535413742065,-0.5151515007019043,-0.49494948983192444,-0.4747474491596222,-0.45454543828964233,-0.4343434274196625,-0.4141414165496826,-0.39393937587738037,-0.3737373650074005,-0.35353535413742065,-0.3333333432674408,-0.31313130259513855,-0.2929292917251587,-0.27272728085517883,-0.252525269985199,-0.23232322931289673,-0.21212121844291687,-0.19191919267177582,-0.17171716690063477,-0.1515151560306549,-0.13131313025951385,-0.1111111119389534,-0.09090909361839294,-0.07070706784725189,-0.050505056977272034,-0.03030303120613098,-0.010101011022925377,0.010101009160280228,0.03030303120613098,0.05050504952669144,0.07070706784725189,0.09090909361839294,0.1111111044883728,0.13131313025951385,0.1515151560306549,0.17171716690063477,0.19191919267177582,0.21212121844291687,0.23232322931289673,0.252525269985199,0.27272725105285645,0.2929292917251587,0.31313130259513855,0.3333333432674408,0.35353535413742065,0.3737373650074005,0.39393937587738037,0.4141414165496826,0.4343434274196625,0.4545454680919647,0.4747474789619446,0.4949495196342468,0.5151515007019043,0.5353535413742065,0.5555555820465088,0.575757622718811,0.5959596037864685,0.6161616444587708,0.636363685131073,0.6565656661987305,0.6767677068710327,0.696969747543335,0.7171717286109924,0.7373737692832947,0.7575757503509521,0.7777777910232544,0.7979798316955566,0.8181818127632141,0.8383838534355164,0.8585858941078186,0.8787878751754761,0.8989899158477783,0.9191919565200806,0.939393937587738,0.9595959782600403,0.9797979593276978,1.0],\"y\":[1.1858116388320923,1.1367673873901367,0.9805759787559509,1.0409570932388306,1.0114009380340576,0.9866403937339783,0.8213628530502319,0.8588727712631226,0.7581104040145874,0.8548388481140137,0.646523654460907,0.639096736907959,0.6023317575454712,0.6536114811897278,0.7051973342895508,0.6658982038497925,0.524988055229187,0.5428945422172546,0.5966377854347229,0.5373713970184326,0.5298033952713013,0.4565642476081848,0.34202781319618225,0.4702405333518982,0.3598328232765198,0.2517377734184265,0.354562371969223,0.35891038179397583,0.21429932117462158,0.21061742305755615,0.16155105829238892,0.22077633440494537,0.32325077056884766,0.15896588563919067,0.22832846641540527,0.14351460337638855,0.22190049290657043,0.08466479182243347,0.06070548668503761,0.1089714765548706,0.05487316846847534,0.1985783874988556,0.15958601236343384,0.19431014358997345,0.11859943717718124,0.10128261148929596,0.19445468485355377,0.14038871228694916,0.13167601823806763,0.013612102717161179,0.04578958824276924,0.0364082008600235,0.2007012665271759,0.09532686322927475,0.11706182360649109,0.18408392369747162,0.15383610129356384,0.03492662310600281,0.17449790239334106,0.09648880362510681,0.11189842969179153,0.1913323700428009,0.19697612524032593,0.21103373169898987,0.21251952648162842,0.14344170689582825,0.21449676156044006,0.18556971848011017,0.25404271483421326,0.28923189640045166,0.2231588363647461,0.320091187953949,0.3900507688522339,0.23537611961364746,0.4246155023574829,0.27530306577682495,0.42839181423187256,0.4406365752220154,0.3813621401786804,0.5117111206054688,0.5058697462081909,0.4845975935459137,0.46996763348579407,0.655159056186676,0.6044368147850037,0.5926774144172668,0.5469866394996643,0.7289740443229675,0.6383105516433716,0.769150972366333,0.7325733304023743,0.7733203172683716,0.9317299127578735,0.9177098274230957,0.9677114486694336,1.0331007242202759,1.0790364742279053,0.9465017318725586,0.9876506328582764,1.0431889295578003],\"type\":\"scatter\"},{\"line\":{\"color\":\"red\",\"width\":5},\"mode\":\"lines\",\"name\":\"prediction\",\"x\":[-1.0,-0.9797979593276978,-0.9595959782600403,-0.939393937587738,-0.9191918969154358,-0.8989899158477783,-0.8787878751754761,-0.8585858345031738,-0.8383838534355164,-0.8181818127632141,-0.7979798316955566,-0.7777777910232544,-0.7575757503509521,-0.7373737692832947,-0.7171717286109924,-0.696969747543335,-0.6767677068710327,-0.6565656661987305,-0.636363685131073,-0.6161616444587708,-0.5959596037864685,-0.575757622718811,-0.5555555820465088,-0.5353535413742065,-0.5151515007019043,-0.49494948983192444,-0.4747474491596222,-0.45454543828964233,-0.4343434274196625,-0.4141414165496826,-0.39393937587738037,-0.3737373650074005,-0.35353535413742065,-0.3333333432674408,-0.31313130259513855,-0.2929292917251587,-0.27272728085517883,-0.252525269985199,-0.23232322931289673,-0.21212121844291687,-0.19191919267177582,-0.17171716690063477,-0.1515151560306549,-0.13131313025951385,-0.1111111119389534,-0.09090909361839294,-0.07070706784725189,-0.050505056977272034,-0.03030303120613098,-0.010101011022925377,0.010101009160280228,0.03030303120613098,0.05050504952669144,0.07070706784725189,0.09090909361839294,0.1111111044883728,0.13131313025951385,0.1515151560306549,0.17171716690063477,0.19191919267177582,0.21212121844291687,0.23232322931289673,0.252525269985199,0.27272725105285645,0.2929292917251587,0.31313130259513855,0.3333333432674408,0.35353535413742065,0.3737373650074005,0.39393937587738037,0.4141414165496826,0.4343434274196625,0.4545454680919647,0.4747474789619446,0.4949495196342468,0.5151515007019043,0.5353535413742065,0.5555555820465088,0.575757622718811,0.5959596037864685,0.6161616444587708,0.636363685131073,0.6565656661987305,0.6767677068710327,0.696969747543335,0.7171717286109924,0.7373737692832947,0.7575757503509521,0.7777777910232544,0.7979798316955566,0.8181818127632141,0.8383838534355164,0.8585858941078186,0.8787878751754761,0.8989899158477783,0.9191919565200806,0.939393937587738,0.9595959782600403,0.9797979593276978,1.0],\"y\":[1.0375584363937378,1.0102702379226685,0.9829820394515991,0.9556938409805298,0.9284056425094604,0.9011174440383911,0.8738292455673218,0.8465409278869629,0.8192528486251831,0.7919645309448242,0.7646763920783997,0.7373881340026855,0.7100999355316162,0.6828117370605469,0.6555234789848328,0.6282353401184082,0.6009471416473389,0.5759170055389404,0.5511347055435181,0.5263522863388062,0.501569926738739,0.4767875671386719,0.45200517773628235,0.42722275853157043,0.4024403691291809,0.37765800952911377,0.35287562012672424,0.3280932605266571,0.30331090092658997,0.2785285413265228,0.2537461519241333,0.22896376252174377,0.20418140292167664,0.18791773915290833,0.17316439747810364,0.15841105580329895,0.14365771412849426,0.12890438735485077,0.11415103077888489,0.10723758488893509,0.10723758488893509,0.10723758488893509,0.10723758488893509,0.10723758488893509,0.10723758488893509,0.10723758488893509,0.10723758488893509,0.10723758488893509,0.10723758488893509,0.10723758488893509,0.10723758488893509,0.10723758488893509,0.10723758488893509,0.10723758488893509,0.10723758488893509,0.10723758488893509,0.10723758488893509,0.10723758488893509,0.10723758488893509,0.10723758488893509,0.11506840586662292,0.1282709836959839,0.14181432127952576,0.15535761415958405,0.17226436734199524,0.1895848512649536,0.20690536499023438,0.22422583401203156,0.24201107025146484,0.26632922887802124,0.29064738750457764,0.31496554613113403,0.33928370475769043,0.3636018633842468,0.3879200220108032,0.41223812103271484,0.43655627965927124,0.46087446808815,0.4851926565170288,0.5095107555389404,0.5338289141654968,0.558147132396698,0.5824651718139648,0.606783390045166,0.6311015486717224,0.6554197072982788,0.6797378063201904,0.704055905342102,0.7283741235733032,0.7526923418045044,0.7770103812217712,0.8013285398483276,0.8256467580795288,0.8499648571014404,0.8742830753326416,0.8986011743545532,0.9229192733764648,0.947237491607666,0.9715555906295776,0.995873749256134],\"type\":\"scatter\"}],                        {\"template\":{\"data\":{\"bar\":[{\"error_x\":{\"color\":\"#2a3f5f\"},\"error_y\":{\"color\":\"#2a3f5f\"},\"marker\":{\"line\":{\"color\":\"#E5ECF6\",\"width\":0.5},\"pattern\":{\"fillmode\":\"overlay\",\"size\":10,\"solidity\":0.2}},\"type\":\"bar\"}],\"barpolar\":[{\"marker\":{\"line\":{\"color\":\"#E5ECF6\",\"width\":0.5},\"pattern\":{\"fillmode\":\"overlay\",\"size\":10,\"solidity\":0.2}},\"type\":\"barpolar\"}],\"carpet\":[{\"aaxis\":{\"endlinecolor\":\"#2a3f5f\",\"gridcolor\":\"white\",\"linecolor\":\"white\",\"minorgridcolor\":\"white\",\"startlinecolor\":\"#2a3f5f\"},\"baxis\":{\"endlinecolor\":\"#2a3f5f\",\"gridcolor\":\"white\",\"linecolor\":\"white\",\"minorgridcolor\":\"white\",\"startlinecolor\":\"#2a3f5f\"},\"type\":\"carpet\"}],\"choropleth\":[{\"colorbar\":{\"outlinewidth\":0,\"ticks\":\"\"},\"type\":\"choropleth\"}],\"contour\":[{\"colorbar\":{\"outlinewidth\":0,\"ticks\":\"\"},\"colorscale\":[[0.0,\"#0d0887\"],[0.1111111111111111,\"#46039f\"],[0.2222222222222222,\"#7201a8\"],[0.3333333333333333,\"#9c179e\"],[0.4444444444444444,\"#bd3786\"],[0.5555555555555556,\"#d8576b\"],[0.6666666666666666,\"#ed7953\"],[0.7777777777777778,\"#fb9f3a\"],[0.8888888888888888,\"#fdca26\"],[1.0,\"#f0f921\"]],\"type\":\"contour\"}],\"contourcarpet\":[{\"colorbar\":{\"outlinewidth\":0,\"ticks\":\"\"},\"type\":\"contourcarpet\"}],\"heatmap\":[{\"colorbar\":{\"outlinewidth\":0,\"ticks\":\"\"},\"colorscale\":[[0.0,\"#0d0887\"],[0.1111111111111111,\"#46039f\"],[0.2222222222222222,\"#7201a8\"],[0.3333333333333333,\"#9c179e\"],[0.4444444444444444,\"#bd3786\"],[0.5555555555555556,\"#d8576b\"],[0.6666666666666666,\"#ed7953\"],[0.7777777777777778,\"#fb9f3a\"],[0.8888888888888888,\"#fdca26\"],[1.0,\"#f0f921\"]],\"type\":\"heatmap\"}],\"heatmapgl\":[{\"colorbar\":{\"outlinewidth\":0,\"ticks\":\"\"},\"colorscale\":[[0.0,\"#0d0887\"],[0.1111111111111111,\"#46039f\"],[0.2222222222222222,\"#7201a8\"],[0.3333333333333333,\"#9c179e\"],[0.4444444444444444,\"#bd3786\"],[0.5555555555555556,\"#d8576b\"],[0.6666666666666666,\"#ed7953\"],[0.7777777777777778,\"#fb9f3a\"],[0.8888888888888888,\"#fdca26\"],[1.0,\"#f0f921\"]],\"type\":\"heatmapgl\"}],\"histogram\":[{\"marker\":{\"pattern\":{\"fillmode\":\"overlay\",\"size\":10,\"solidity\":0.2}},\"type\":\"histogram\"}],\"histogram2d\":[{\"colorbar\":{\"outlinewidth\":0,\"ticks\":\"\"},\"colorscale\":[[0.0,\"#0d0887\"],[0.1111111111111111,\"#46039f\"],[0.2222222222222222,\"#7201a8\"],[0.3333333333333333,\"#9c179e\"],[0.4444444444444444,\"#bd3786\"],[0.5555555555555556,\"#d8576b\"],[0.6666666666666666,\"#ed7953\"],[0.7777777777777778,\"#fb9f3a\"],[0.8888888888888888,\"#fdca26\"],[1.0,\"#f0f921\"]],\"type\":\"histogram2d\"}],\"histogram2dcontour\":[{\"colorbar\":{\"outlinewidth\":0,\"ticks\":\"\"},\"colorscale\":[[0.0,\"#0d0887\"],[0.1111111111111111,\"#46039f\"],[0.2222222222222222,\"#7201a8\"],[0.3333333333333333,\"#9c179e\"],[0.4444444444444444,\"#bd3786\"],[0.5555555555555556,\"#d8576b\"],[0.6666666666666666,\"#ed7953\"],[0.7777777777777778,\"#fb9f3a\"],[0.8888888888888888,\"#fdca26\"],[1.0,\"#f0f921\"]],\"type\":\"histogram2dcontour\"}],\"mesh3d\":[{\"colorbar\":{\"outlinewidth\":0,\"ticks\":\"\"},\"type\":\"mesh3d\"}],\"parcoords\":[{\"line\":{\"colorbar\":{\"outlinewidth\":0,\"ticks\":\"\"}},\"type\":\"parcoords\"}],\"pie\":[{\"automargin\":true,\"type\":\"pie\"}],\"scatter\":[{\"marker\":{\"colorbar\":{\"outlinewidth\":0,\"ticks\":\"\"}},\"type\":\"scatter\"}],\"scatter3d\":[{\"line\":{\"colorbar\":{\"outlinewidth\":0,\"ticks\":\"\"}},\"marker\":{\"colorbar\":{\"outlinewidth\":0,\"ticks\":\"\"}},\"type\":\"scatter3d\"}],\"scattercarpet\":[{\"marker\":{\"colorbar\":{\"outlinewidth\":0,\"ticks\":\"\"}},\"type\":\"scattercarpet\"}],\"scattergeo\":[{\"marker\":{\"colorbar\":{\"outlinewidth\":0,\"ticks\":\"\"}},\"type\":\"scattergeo\"}],\"scattergl\":[{\"marker\":{\"colorbar\":{\"outlinewidth\":0,\"ticks\":\"\"}},\"type\":\"scattergl\"}],\"scattermapbox\":[{\"marker\":{\"colorbar\":{\"outlinewidth\":0,\"ticks\":\"\"}},\"type\":\"scattermapbox\"}],\"scatterpolar\":[{\"marker\":{\"colorbar\":{\"outlinewidth\":0,\"ticks\":\"\"}},\"type\":\"scatterpolar\"}],\"scatterpolargl\":[{\"marker\":{\"colorbar\":{\"outlinewidth\":0,\"ticks\":\"\"}},\"type\":\"scatterpolargl\"}],\"scatterternary\":[{\"marker\":{\"colorbar\":{\"outlinewidth\":0,\"ticks\":\"\"}},\"type\":\"scatterternary\"}],\"surface\":[{\"colorbar\":{\"outlinewidth\":0,\"ticks\":\"\"},\"colorscale\":[[0.0,\"#0d0887\"],[0.1111111111111111,\"#46039f\"],[0.2222222222222222,\"#7201a8\"],[0.3333333333333333,\"#9c179e\"],[0.4444444444444444,\"#bd3786\"],[0.5555555555555556,\"#d8576b\"],[0.6666666666666666,\"#ed7953\"],[0.7777777777777778,\"#fb9f3a\"],[0.8888888888888888,\"#fdca26\"],[1.0,\"#f0f921\"]],\"type\":\"surface\"}],\"table\":[{\"cells\":{\"fill\":{\"color\":\"#EBF0F8\"},\"line\":{\"color\":\"white\"}},\"header\":{\"fill\":{\"color\":\"#C8D4E3\"},\"line\":{\"color\":\"white\"}},\"type\":\"table\"}]},\"layout\":{\"annotationdefaults\":{\"arrowcolor\":\"#2a3f5f\",\"arrowhead\":0,\"arrowwidth\":1},\"autotypenumbers\":\"strict\",\"coloraxis\":{\"colorbar\":{\"outlinewidth\":0,\"ticks\":\"\"}},\"colorscale\":{\"diverging\":[[0,\"#8e0152\"],[0.1,\"#c51b7d\"],[0.2,\"#de77ae\"],[0.3,\"#f1b6da\"],[0.4,\"#fde0ef\"],[0.5,\"#f7f7f7\"],[0.6,\"#e6f5d0\"],[0.7,\"#b8e186\"],[0.8,\"#7fbc41\"],[0.9,\"#4d9221\"],[1,\"#276419\"]],\"sequential\":[[0.0,\"#0d0887\"],[0.1111111111111111,\"#46039f\"],[0.2222222222222222,\"#7201a8\"],[0.3333333333333333,\"#9c179e\"],[0.4444444444444444,\"#bd3786\"],[0.5555555555555556,\"#d8576b\"],[0.6666666666666666,\"#ed7953\"],[0.7777777777777778,\"#fb9f3a\"],[0.8888888888888888,\"#fdca26\"],[1.0,\"#f0f921\"]],\"sequentialminus\":[[0.0,\"#0d0887\"],[0.1111111111111111,\"#46039f\"],[0.2222222222222222,\"#7201a8\"],[0.3333333333333333,\"#9c179e\"],[0.4444444444444444,\"#bd3786\"],[0.5555555555555556,\"#d8576b\"],[0.6666666666666666,\"#ed7953\"],[0.7777777777777778,\"#fb9f3a\"],[0.8888888888888888,\"#fdca26\"],[1.0,\"#f0f921\"]]},\"colorway\":[\"#636efa\",\"#EF553B\",\"#00cc96\",\"#ab63fa\",\"#FFA15A\",\"#19d3f3\",\"#FF6692\",\"#B6E880\",\"#FF97FF\",\"#FECB52\"],\"font\":{\"color\":\"#2a3f5f\"},\"geo\":{\"bgcolor\":\"white\",\"lakecolor\":\"white\",\"landcolor\":\"#E5ECF6\",\"showlakes\":true,\"showland\":true,\"subunitcolor\":\"white\"},\"hoverlabel\":{\"align\":\"left\"},\"hovermode\":\"closest\",\"mapbox\":{\"style\":\"light\"},\"paper_bgcolor\":\"white\",\"plot_bgcolor\":\"#E5ECF6\",\"polar\":{\"angularaxis\":{\"gridcolor\":\"white\",\"linecolor\":\"white\",\"ticks\":\"\"},\"bgcolor\":\"#E5ECF6\",\"radialaxis\":{\"gridcolor\":\"white\",\"linecolor\":\"white\",\"ticks\":\"\"}},\"scene\":{\"xaxis\":{\"backgroundcolor\":\"#E5ECF6\",\"gridcolor\":\"white\",\"gridwidth\":2,\"linecolor\":\"white\",\"showbackground\":true,\"ticks\":\"\",\"zerolinecolor\":\"white\"},\"yaxis\":{\"backgroundcolor\":\"#E5ECF6\",\"gridcolor\":\"white\",\"gridwidth\":2,\"linecolor\":\"white\",\"showbackground\":true,\"ticks\":\"\",\"zerolinecolor\":\"white\"},\"zaxis\":{\"backgroundcolor\":\"#E5ECF6\",\"gridcolor\":\"white\",\"gridwidth\":2,\"linecolor\":\"white\",\"showbackground\":true,\"ticks\":\"\",\"zerolinecolor\":\"white\"}},\"shapedefaults\":{\"line\":{\"color\":\"#2a3f5f\"}},\"ternary\":{\"aaxis\":{\"gridcolor\":\"white\",\"linecolor\":\"white\",\"ticks\":\"\"},\"baxis\":{\"gridcolor\":\"white\",\"linecolor\":\"white\",\"ticks\":\"\"},\"bgcolor\":\"#E5ECF6\",\"caxis\":{\"gridcolor\":\"white\",\"linecolor\":\"white\",\"ticks\":\"\"}},\"title\":{\"x\":0.05},\"xaxis\":{\"automargin\":true,\"gridcolor\":\"white\",\"linecolor\":\"white\",\"ticks\":\"\",\"title\":{\"standoff\":15},\"zerolinecolor\":\"white\",\"zerolinewidth\":2},\"yaxis\":{\"automargin\":true,\"gridcolor\":\"white\",\"linecolor\":\"white\",\"ticks\":\"\",\"title\":{\"standoff\":15},\"zerolinecolor\":\"white\",\"zerolinewidth\":2}}},\"margin\":{\"l\":20,\"r\":20,\"t\":20,\"b\":20},\"legend\":{\"yanchor\":\"top\",\"y\":0.99,\"xanchor\":\"center\",\"x\":0.5},\"annotations\":[{\"showarrow\":false,\"text\":\"Loss=0.0047\",\"x\":0.5,\"y\":0}],\"width\":400,\"height\":250},                        {\"responsive\": true}                    ).then(function(){\n",
              "                            \n",
              "var gd = document.getElementById('338437d0-2612-4dee-b22d-cf8df759bc17');\n",
              "var x = new MutationObserver(function (mutations, observer) {{\n",
              "        var display = window.getComputedStyle(gd).display;\n",
              "        if (!display || display === 'none') {{\n",
              "            console.log([gd, 'removed!']);\n",
              "            Plotly.purge(gd);\n",
              "            observer.disconnect();\n",
              "        }}\n",
              "}});\n",
              "\n",
              "// Listen for the removal of the full notebook cells\n",
              "var notebookContainer = gd.closest('#notebook-container');\n",
              "if (notebookContainer) {{\n",
              "    x.observe(notebookContainer, {childList: true});\n",
              "}}\n",
              "\n",
              "// Listen for the clearing of the current output cell\n",
              "var outputEl = gd.closest('.output');\n",
              "if (outputEl) {{\n",
              "    x.observe(outputEl, {childList: true});\n",
              "}}\n",
              "\n",
              "                        })                };                            </script>        </div>\n",
              "</body>\n",
              "</html>"
            ]
          },
          "metadata": {}
        },
        {
          "output_type": "display_data",
          "data": {
            "text/plain": [
              "<IPython.core.display.Javascript object>"
            ],
            "application/javascript": [
              "window[\"124e282a-adec-11ed-b4be-0242ac1c000c\"] = google.colab.output.setActiveOutputArea(window[\"1244dff4-adec-11ed-b4be-0242ac1c000c\"]);\n",
              "//# sourceURL=js_cc99ac8654"
            ]
          },
          "metadata": {}
        }
      ]
    },
    {
      "cell_type": "code",
      "source": [],
      "metadata": {
        "id": "MWHMPZvSEUol"
      },
      "execution_count": null,
      "outputs": []
    }
  ]
}