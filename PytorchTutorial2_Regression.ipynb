{
  "nbformat": 4,
  "nbformat_minor": 0,
  "metadata": {
    "colab": {
      "provenance": [],
      "authorship_tag": "ABX9TyNSuNAJu438vCYirQRet5FO",
      "include_colab_link": true
    },
    "kernelspec": {
      "name": "python3",
      "display_name": "Python 3"
    },
    "language_info": {
      "name": "python"
    }
  },
  "cells": [
    {
      "cell_type": "markdown",
      "metadata": {
        "id": "view-in-github",
        "colab_type": "text"
      },
      "source": [
        "<a href=\"https://colab.research.google.com/github/YorkJong/Colab/blob/main/PytorchTutorial2_Regression.ipynb\" target=\"_parent\"><img src=\"https://colab.research.google.com/assets/colab-badge.svg\" alt=\"Open In Colab\"/></a>"
      ]
    },
    {
      "cell_type": "markdown",
      "source": [
        "[莫凡Pytorch教程（二）：Pytorch回归模型搭建](https://juejin.cn/post/7089612360226177037)\n",
        "\n"
      ],
      "metadata": {
        "id": "56vfv49DLxJj"
      }
    },
    {
      "cell_type": "code",
      "source": [
        "import time\n",
        "import torch\n",
        "import torch.nn.functional as F\n",
        "import matplotlib.pyplot as plt\n",
        "import plotly.express as px\n",
        "import plotly.graph_objs as go\n",
        "from google.colab import widgets\n",
        "\n",
        "plt.ioff()\n",
        "#%matplotlib\n",
        "\n",
        "# x data (tensor), shape=(100, 1)\n",
        "x = torch.unsqueeze(torch.linspace(-1, 1, 100), dim=1)   \n",
        "#x = torch.linspace(-1, 1, 100)\n",
        "\n",
        "# noisy y data (tensor), shape=(100, 1)\n",
        "y = x.pow(2) + 0.2*torch.rand(x.size())                  \n",
        "\n",
        "print(\"x.shape:\", x.shape)\n",
        "print(\"y.shape:\", y.shape)"
      ],
      "metadata": {
        "colab": {
          "base_uri": "https://localhost:8080/"
        },
        "id": "M1a7djnbL4AF",
        "outputId": "3b511208-74c5-4fc6-c9a9-95fabe34c9c8"
      },
      "execution_count": 1,
      "outputs": [
        {
          "output_type": "stream",
          "name": "stdout",
          "text": [
            "x.shape: torch.Size([100, 1])\n",
            "y.shape: torch.Size([100, 1])\n"
          ]
        }
      ]
    },
    {
      "cell_type": "code",
      "source": [
        "grid = widgets.Grid(1, 2)\n",
        "\n",
        "# Scatter with matplotlib\n",
        "with grid.output_to(0, 0):\n",
        "    plt.scatter(x, y)\n",
        "    plt.show()\n",
        "\n",
        "# Scatter with Plotly\n",
        "with grid.output_to(0, 1):\n",
        "    #fig = go.Figure(layout=go.Layout(width=500, height=500))\n",
        "    #fig.add_trace(go.Scatter(y=y[:,0], x=x[:,0], mode='markers'))\n",
        "    fig = px.scatter(y=y[:,0], x=x[:,0], width=500, height=400)\n",
        "    fig.update_layout(\n",
        "        width=372, height=248,\n",
        "        margin=dict(l=20, r=20, t=20, b=20),\n",
        "    )\n",
        "    fig.show()"
      ],
      "metadata": {
        "colab": {
          "base_uri": "https://localhost:8080/",
          "height": 269
        },
        "id": "1ukmLew0MQ30",
        "outputId": "b112479f-fc5e-463c-ec2e-9a9848971803"
      },
      "execution_count": 40,
      "outputs": [
        {
          "output_type": "display_data",
          "data": {
            "text/plain": [
              "<IPython.core.display.HTML object>"
            ],
            "text/html": [
              "<style>\n",
              "       table#id62, #id62 > tbody > tr > th, #id62 > tbody > tr > td {\n",
              "         border: 1px solid lightgray;\n",
              "         border-collapse:collapse;\n",
              "         \n",
              "        }</style>"
            ]
          },
          "metadata": {}
        },
        {
          "output_type": "display_data",
          "data": {
            "text/plain": [
              "<IPython.core.display.HTML object>"
            ],
            "text/html": [
              "<table id=id62><tr><td id=id62-0-0></td><td id=id62-0-1></td></tr></table>"
            ]
          },
          "metadata": {}
        },
        {
          "output_type": "display_data",
          "data": {
            "text/plain": [
              "<IPython.core.display.Javascript object>"
            ],
            "application/javascript": [
              "window[\"a4acd1d2-ae6c-11ed-97be-0242ac1c000c\"] = google.colab.output.getActiveOutputArea();\n",
              "//# sourceURL=js_45eb4d0e8d"
            ]
          },
          "metadata": {}
        },
        {
          "output_type": "display_data",
          "data": {
            "text/plain": [
              "<IPython.core.display.Javascript object>"
            ],
            "application/javascript": [
              "window[\"a4ad23b2-ae6c-11ed-97be-0242ac1c000c\"] = document.querySelector(\"#id62-0-0\");\n",
              "//# sourceURL=js_0a3c37fa1e"
            ]
          },
          "metadata": {}
        },
        {
          "output_type": "display_data",
          "data": {
            "text/plain": [
              "<IPython.core.display.Javascript object>"
            ],
            "application/javascript": [
              "window[\"a4ad743e-ae6c-11ed-97be-0242ac1c000c\"] = google.colab.output.setActiveOutputArea(window[\"a4ad23b2-ae6c-11ed-97be-0242ac1c000c\"]);\n",
              "//# sourceURL=js_e05b708997"
            ]
          },
          "metadata": {}
        },
        {
          "output_type": "display_data",
          "data": {
            "text/plain": [
              "<Figure size 432x288 with 1 Axes>"
            ],
            "image/png": "[encoded data removed]"
          },
          "metadata": {
            "needs_background": "light"
          }
        },
        {
          "output_type": "display_data",
          "data": {
            "text/plain": [
              "<IPython.core.display.Javascript object>"
            ],
            "application/javascript": [
              "window[\"a4c5a860-ae6c-11ed-97be-0242ac1c000c\"] = google.colab.output.setActiveOutputArea(window[\"a4acd1d2-ae6c-11ed-97be-0242ac1c000c\"]);\n",
              "//# sourceURL=js_7c9be44555"
            ]
          },
          "metadata": {}
        },
        {
          "output_type": "display_data",
          "data": {
            "text/plain": [
              "<IPython.core.display.Javascript object>"
            ],
            "application/javascript": [
              "window[\"a4c82eb4-ae6c-11ed-97be-0242ac1c000c\"] = google.colab.output.getActiveOutputArea();\n",
              "//# sourceURL=js_3919cdd9b6"
            ]
          },
          "metadata": {}
        },
        {
          "output_type": "display_data",
          "data": {
            "text/plain": [
              "<IPython.core.display.Javascript object>"
            ],
            "application/javascript": [
              "window[\"a4c88472-ae6c-11ed-97be-0242ac1c000c\"] = document.querySelector(\"#id62-0-1\");\n",
              "//# sourceURL=js_baa4fb4e83"
            ]
          },
          "metadata": {}
        },
        {
          "output_type": "display_data",
          "data": {
            "text/plain": [
              "<IPython.core.display.Javascript object>"
            ],
            "application/javascript": [
              "window[\"a4c8d49a-ae6c-11ed-97be-0242ac1c000c\"] = google.colab.output.setActiveOutputArea(window[\"a4c88472-ae6c-11ed-97be-0242ac1c000c\"]);\n",
              "//# sourceURL=js_372f9ff5c2"
            ]
          },
          "metadata": {}
        },
        {
          "output_type": "display_data",
          "data": {
            "text/html": [
              "<html>\n",
              "<head><meta charset=\"utf-8\" /></head>\n",
              "<body>\n",
              "    <div>            <script src=\"https://cdnjs.cloudflare.com/ajax/libs/mathjax/2.7.5/MathJax.js?config=TeX-AMS-MML_SVG\"></script><script type=\"text/javascript\">if (window.MathJax) {MathJax.Hub.Config({SVG: {font: \"STIX-Web\"}});}</script>                <script type=\"text/javascript\">window.PlotlyConfig = {MathJaxConfig: 'local'};</script>\n",
              "        <script src=\"https://cdn.plot.ly/plotly-2.8.3.min.js\"></script>                <div id=\"0e236763-0cf4-40e3-b6c4-4e0131942a64\" class=\"plotly-graph-div\" style=\"height:248px; width:372px;\"></div>            <script type=\"text/javascript\">                                    window.PLOTLYENV=window.PLOTLYENV || {};                                    if (document.getElementById(\"0e236763-0cf4-40e3-b6c4-4e0131942a64\")) {                    Plotly.newPlot(                        \"0e236763-0cf4-40e3-b6c4-4e0131942a64\",                        [{\"hovertemplate\":\"x=%{x}<br>y=%{y}<extra></extra>\",\"legendgroup\":\"\",\"marker\":{\"color\":\"#636efa\",\"symbol\":\"circle\"},\"mode\":\"markers\",\"name\":\"\",\"orientation\":\"v\",\"showlegend\":false,\"x\":[-1.0,-0.9797979593276978,-0.9595959782600403,-0.939393937587738,-0.9191918969154358,-0.8989899158477783,-0.8787878751754761,-0.8585858345031738,-0.8383838534355164,-0.8181818127632141,-0.7979798316955566,-0.7777777910232544,-0.7575757503509521,-0.7373737692832947,-0.7171717286109924,-0.696969747543335,-0.6767677068710327,-0.6565656661987305,-0.636363685131073,-0.6161616444587708,-0.5959596037864685,-0.575757622718811,-0.5555555820465088,-0.5353535413742065,-0.5151515007019043,-0.49494948983192444,-0.4747474491596222,-0.45454543828964233,-0.4343434274196625,-0.4141414165496826,-0.39393937587738037,-0.3737373650074005,-0.35353535413742065,-0.3333333432674408,-0.31313130259513855,-0.2929292917251587,-0.27272728085517883,-0.252525269985199,-0.23232322931289673,-0.21212121844291687,-0.19191919267177582,-0.17171716690063477,-0.1515151560306549,-0.13131313025951385,-0.1111111119389534,-0.09090909361839294,-0.07070706784725189,-0.050505056977272034,-0.03030303120613098,-0.010101011022925377,0.010101009160280228,0.03030303120613098,0.05050504952669144,0.07070706784725189,0.09090909361839294,0.1111111044883728,0.13131313025951385,0.1515151560306549,0.17171716690063477,0.19191919267177582,0.21212121844291687,0.23232322931289673,0.252525269985199,0.27272725105285645,0.2929292917251587,0.31313130259513855,0.3333333432674408,0.35353535413742065,0.3737373650074005,0.39393937587738037,0.4141414165496826,0.4343434274196625,0.4545454680919647,0.4747474789619446,0.4949495196342468,0.5151515007019043,0.5353535413742065,0.5555555820465088,0.575757622718811,0.5959596037864685,0.6161616444587708,0.636363685131073,0.6565656661987305,0.6767677068710327,0.696969747543335,0.7171717286109924,0.7373737692832947,0.7575757503509521,0.7777777910232544,0.7979798316955566,0.8181818127632141,0.8383838534355164,0.8585858941078186,0.8787878751754761,0.8989899158477783,0.9191919565200806,0.939393937587738,0.9595959782600403,0.9797979593276978,1.0],\"xaxis\":\"x\",\"y\":[1.1493198871612549,1.0175453424453735,0.9969156980514526,0.9133670926094055,1.0020508766174316,0.8920481204986572,0.7975130081176758,0.7529940605163574,0.7290166616439819,0.6940019726753235,0.8335586786270142,0.78482985496521,0.6625251173973083,0.5592999458312988,0.613200843334198,0.5407754182815552,0.595768928527832,0.49582862854003906,0.5884029865264893,0.508937418460846,0.5527706742286682,0.3858993649482727,0.3952685594558716,0.39820587635040283,0.33604609966278076,0.2653789818286896,0.3157784640789032,0.39577656984329224,0.2590829133987427,0.3391917943954468,0.24030649662017822,0.15950420498847961,0.21103498339653015,0.27578145265579224,0.18156437575817108,0.23063474893569946,0.21677181124687195,0.09434185922145844,0.07561428844928741,0.10357700288295746,0.23176537454128265,0.03404141217470169,0.03745705634355545,0.15992328524589539,0.1478535532951355,0.13272130489349365,0.037563689053058624,0.171612948179245,0.1671571433544159,0.03441223129630089,0.16166561841964722,0.20043395459651947,0.016768530011177063,0.0520896278321743,0.1515728235244751,0.15185119211673737,0.10228458046913147,0.18492251634597778,0.03675542771816254,0.054262496531009674,0.09141023457050323,0.16407957673072815,0.25888344645500183,0.23796683549880981,0.25910311937332153,0.23605507612228394,0.19328337907791138,0.20561833679676056,0.21924114227294922,0.2791213393211365,0.3373793959617615,0.2924235165119171,0.37670910358428955,0.2749243378639221,0.4400864839553833,0.43820255994796753,0.4785422682762146,0.31603917479515076,0.4588603079319,0.5005967617034912,0.4505600929260254,0.49053555727005005,0.5908702611923218,0.616483211517334,0.5313754677772522,0.690961480140686,0.668764054775238,0.5836713910102844,0.679385781288147,0.7345564365386963,0.7970809936523438,0.7527557611465454,0.8774309158325195,0.8728136420249939,0.9888330101966858,0.9646710753440857,1.0393383502960205,1.0672696828842163,0.9740682244300842,1.1865160465240479],\"yaxis\":\"y\",\"type\":\"scatter\"}],                        {\"template\":{\"data\":{\"bar\":[{\"error_x\":{\"color\":\"#2a3f5f\"},\"error_y\":{\"color\":\"#2a3f5f\"},\"marker\":{\"line\":{\"color\":\"#E5ECF6\",\"width\":0.5},\"pattern\":{\"fillmode\":\"overlay\",\"size\":10,\"solidity\":0.2}},\"type\":\"bar\"}],\"barpolar\":[{\"marker\":{\"line\":{\"color\":\"#E5ECF6\",\"width\":0.5},\"pattern\":{\"fillmode\":\"overlay\",\"size\":10,\"solidity\":0.2}},\"type\":\"barpolar\"}],\"carpet\":[{\"aaxis\":{\"endlinecolor\":\"#2a3f5f\",\"gridcolor\":\"white\",\"linecolor\":\"white\",\"minorgridcolor\":\"white\",\"startlinecolor\":\"#2a3f5f\"},\"baxis\":{\"endlinecolor\":\"#2a3f5f\",\"gridcolor\":\"white\",\"linecolor\":\"white\",\"minorgridcolor\":\"white\",\"startlinecolor\":\"#2a3f5f\"},\"type\":\"carpet\"}],\"choropleth\":[{\"colorbar\":{\"outlinewidth\":0,\"ticks\":\"\"},\"type\":\"choropleth\"}],\"contour\":[{\"colorbar\":{\"outlinewidth\":0,\"ticks\":\"\"},\"colorscale\":[[0.0,\"#0d0887\"],[0.1111111111111111,\"#46039f\"],[0.2222222222222222,\"#7201a8\"],[0.3333333333333333,\"#9c179e\"],[0.4444444444444444,\"#bd3786\"],[0.5555555555555556,\"#d8576b\"],[0.6666666666666666,\"#ed7953\"],[0.7777777777777778,\"#fb9f3a\"],[0.8888888888888888,\"#fdca26\"],[1.0,\"#f0f921\"]],\"type\":\"contour\"}],\"contourcarpet\":[{\"colorbar\":{\"outlinewidth\":0,\"ticks\":\"\"},\"type\":\"contourcarpet\"}],\"heatmap\":[{\"colorbar\":{\"outlinewidth\":0,\"ticks\":\"\"},\"colorscale\":[[0.0,\"#0d0887\"],[0.1111111111111111,\"#46039f\"],[0.2222222222222222,\"#7201a8\"],[0.3333333333333333,\"#9c179e\"],[0.4444444444444444,\"#bd3786\"],[0.5555555555555556,\"#d8576b\"],[0.6666666666666666,\"#ed7953\"],[0.7777777777777778,\"#fb9f3a\"],[0.8888888888888888,\"#fdca26\"],[1.0,\"#f0f921\"]],\"type\":\"heatmap\"}],\"heatmapgl\":[{\"colorbar\":{\"outlinewidth\":0,\"ticks\":\"\"},\"colorscale\":[[0.0,\"#0d0887\"],[0.1111111111111111,\"#46039f\"],[0.2222222222222222,\"#7201a8\"],[0.3333333333333333,\"#9c179e\"],[0.4444444444444444,\"#bd3786\"],[0.5555555555555556,\"#d8576b\"],[0.6666666666666666,\"#ed7953\"],[0.7777777777777778,\"#fb9f3a\"],[0.8888888888888888,\"#fdca26\"],[1.0,\"#f0f921\"]],\"type\":\"heatmapgl\"}],\"histogram\":[{\"marker\":{\"pattern\":{\"fillmode\":\"overlay\",\"size\":10,\"solidity\":0.2}},\"type\":\"histogram\"}],\"histogram2d\":[{\"colorbar\":{\"outlinewidth\":0,\"ticks\":\"\"},\"colorscale\":[[0.0,\"#0d0887\"],[0.1111111111111111,\"#46039f\"],[0.2222222222222222,\"#7201a8\"],[0.3333333333333333,\"#9c179e\"],[0.4444444444444444,\"#bd3786\"],[0.5555555555555556,\"#d8576b\"],[0.6666666666666666,\"#ed7953\"],[0.7777777777777778,\"#fb9f3a\"],[0.8888888888888888,\"#fdca26\"],[1.0,\"#f0f921\"]],\"type\":\"histogram2d\"}],\"histogram2dcontour\":[{\"colorbar\":{\"outlinewidth\":0,\"ticks\":\"\"},\"colorscale\":[[0.0,\"#0d0887\"],[0.1111111111111111,\"#46039f\"],[0.2222222222222222,\"#7201a8\"],[0.3333333333333333,\"#9c179e\"],[0.4444444444444444,\"#bd3786\"],[0.5555555555555556,\"#d8576b\"],[0.6666666666666666,\"#ed7953\"],[0.7777777777777778,\"#fb9f3a\"],[0.8888888888888888,\"#fdca26\"],[1.0,\"#f0f921\"]],\"type\":\"histogram2dcontour\"}],\"mesh3d\":[{\"colorbar\":{\"outlinewidth\":0,\"ticks\":\"\"},\"type\":\"mesh3d\"}],\"parcoords\":[{\"line\":{\"colorbar\":{\"outlinewidth\":0,\"ticks\":\"\"}},\"type\":\"parcoords\"}],\"pie\":[{\"automargin\":true,\"type\":\"pie\"}],\"scatter\":[{\"marker\":{\"colorbar\":{\"outlinewidth\":0,\"ticks\":\"\"}},\"type\":\"scatter\"}],\"scatter3d\":[{\"line\":{\"colorbar\":{\"outlinewidth\":0,\"ticks\":\"\"}},\"marker\":{\"colorbar\":{\"outlinewidth\":0,\"ticks\":\"\"}},\"type\":\"scatter3d\"}],\"scattercarpet\":[{\"marker\":{\"colorbar\":{\"outlinewidth\":0,\"ticks\":\"\"}},\"type\":\"scattercarpet\"}],\"scattergeo\":[{\"marker\":{\"colorbar\":{\"outlinewidth\":0,\"ticks\":\"\"}},\"type\":\"scattergeo\"}],\"scattergl\":[{\"marker\":{\"colorbar\":{\"outlinewidth\":0,\"ticks\":\"\"}},\"type\":\"scattergl\"}],\"scattermapbox\":[{\"marker\":{\"colorbar\":{\"outlinewidth\":0,\"ticks\":\"\"}},\"type\":\"scattermapbox\"}],\"scatterpolar\":[{\"marker\":{\"colorbar\":{\"outlinewidth\":0,\"ticks\":\"\"}},\"type\":\"scatterpolar\"}],\"scatterpolargl\":[{\"marker\":{\"colorbar\":{\"outlinewidth\":0,\"ticks\":\"\"}},\"type\":\"scatterpolargl\"}],\"scatterternary\":[{\"marker\":{\"colorbar\":{\"outlinewidth\":0,\"ticks\":\"\"}},\"type\":\"scatterternary\"}],\"surface\":[{\"colorbar\":{\"outlinewidth\":0,\"ticks\":\"\"},\"colorscale\":[[0.0,\"#0d0887\"],[0.1111111111111111,\"#46039f\"],[0.2222222222222222,\"#7201a8\"],[0.3333333333333333,\"#9c179e\"],[0.4444444444444444,\"#bd3786\"],[0.5555555555555556,\"#d8576b\"],[0.6666666666666666,\"#ed7953\"],[0.7777777777777778,\"#fb9f3a\"],[0.8888888888888888,\"#fdca26\"],[1.0,\"#f0f921\"]],\"type\":\"surface\"}],\"table\":[{\"cells\":{\"fill\":{\"color\":\"#EBF0F8\"},\"line\":{\"color\":\"white\"}},\"header\":{\"fill\":{\"color\":\"#C8D4E3\"},\"line\":{\"color\":\"white\"}},\"type\":\"table\"}]},\"layout\":{\"annotationdefaults\":{\"arrowcolor\":\"#2a3f5f\",\"arrowhead\":0,\"arrowwidth\":1},\"autotypenumbers\":\"strict\",\"coloraxis\":{\"colorbar\":{\"outlinewidth\":0,\"ticks\":\"\"}},\"colorscale\":{\"diverging\":[[0,\"#8e0152\"],[0.1,\"#c51b7d\"],[0.2,\"#de77ae\"],[0.3,\"#f1b6da\"],[0.4,\"#fde0ef\"],[0.5,\"#f7f7f7\"],[0.6,\"#e6f5d0\"],[0.7,\"#b8e186\"],[0.8,\"#7fbc41\"],[0.9,\"#4d9221\"],[1,\"#276419\"]],\"sequential\":[[0.0,\"#0d0887\"],[0.1111111111111111,\"#46039f\"],[0.2222222222222222,\"#7201a8\"],[0.3333333333333333,\"#9c179e\"],[0.4444444444444444,\"#bd3786\"],[0.5555555555555556,\"#d8576b\"],[0.6666666666666666,\"#ed7953\"],[0.7777777777777778,\"#fb9f3a\"],[0.8888888888888888,\"#fdca26\"],[1.0,\"#f0f921\"]],\"sequentialminus\":[[0.0,\"#0d0887\"],[0.1111111111111111,\"#46039f\"],[0.2222222222222222,\"#7201a8\"],[0.3333333333333333,\"#9c179e\"],[0.4444444444444444,\"#bd3786\"],[0.5555555555555556,\"#d8576b\"],[0.6666666666666666,\"#ed7953\"],[0.7777777777777778,\"#fb9f3a\"],[0.8888888888888888,\"#fdca26\"],[1.0,\"#f0f921\"]]},\"colorway\":[\"#636efa\",\"#EF553B\",\"#00cc96\",\"#ab63fa\",\"#FFA15A\",\"#19d3f3\",\"#FF6692\",\"#B6E880\",\"#FF97FF\",\"#FECB52\"],\"font\":{\"color\":\"#2a3f5f\"},\"geo\":{\"bgcolor\":\"white\",\"lakecolor\":\"white\",\"landcolor\":\"#E5ECF6\",\"showlakes\":true,\"showland\":true,\"subunitcolor\":\"white\"},\"hoverlabel\":{\"align\":\"left\"},\"hovermode\":\"closest\",\"mapbox\":{\"style\":\"light\"},\"paper_bgcolor\":\"white\",\"plot_bgcolor\":\"#E5ECF6\",\"polar\":{\"angularaxis\":{\"gridcolor\":\"white\",\"linecolor\":\"white\",\"ticks\":\"\"},\"bgcolor\":\"#E5ECF6\",\"radialaxis\":{\"gridcolor\":\"white\",\"linecolor\":\"white\",\"ticks\":\"\"}},\"scene\":{\"xaxis\":{\"backgroundcolor\":\"#E5ECF6\",\"gridcolor\":\"white\",\"gridwidth\":2,\"linecolor\":\"white\",\"showbackground\":true,\"ticks\":\"\",\"zerolinecolor\":\"white\"},\"yaxis\":{\"backgroundcolor\":\"#E5ECF6\",\"gridcolor\":\"white\",\"gridwidth\":2,\"linecolor\":\"white\",\"showbackground\":true,\"ticks\":\"\",\"zerolinecolor\":\"white\"},\"zaxis\":{\"backgroundcolor\":\"#E5ECF6\",\"gridcolor\":\"white\",\"gridwidth\":2,\"linecolor\":\"white\",\"showbackground\":true,\"ticks\":\"\",\"zerolinecolor\":\"white\"}},\"shapedefaults\":{\"line\":{\"color\":\"#2a3f5f\"}},\"ternary\":{\"aaxis\":{\"gridcolor\":\"white\",\"linecolor\":\"white\",\"ticks\":\"\"},\"baxis\":{\"gridcolor\":\"white\",\"linecolor\":\"white\",\"ticks\":\"\"},\"bgcolor\":\"#E5ECF6\",\"caxis\":{\"gridcolor\":\"white\",\"linecolor\":\"white\",\"ticks\":\"\"}},\"title\":{\"x\":0.05},\"xaxis\":{\"automargin\":true,\"gridcolor\":\"white\",\"linecolor\":\"white\",\"ticks\":\"\",\"title\":{\"standoff\":15},\"zerolinecolor\":\"white\",\"zerolinewidth\":2},\"yaxis\":{\"automargin\":true,\"gridcolor\":\"white\",\"linecolor\":\"white\",\"ticks\":\"\",\"title\":{\"standoff\":15},\"zerolinecolor\":\"white\",\"zerolinewidth\":2}}},\"xaxis\":{\"anchor\":\"y\",\"domain\":[0.0,1.0],\"title\":{\"text\":\"x\"}},\"yaxis\":{\"anchor\":\"x\",\"domain\":[0.0,1.0],\"title\":{\"text\":\"y\"}},\"legend\":{\"tracegroupgap\":0},\"margin\":{\"t\":20,\"l\":20,\"r\":20,\"b\":20},\"height\":248,\"width\":372},                        {\"responsive\": true}                    ).then(function(){\n",
              "                            \n",
              "var gd = document.getElementById('0e236763-0cf4-40e3-b6c4-4e0131942a64');\n",
              "var x = new MutationObserver(function (mutations, observer) {{\n",
              "        var display = window.getComputedStyle(gd).display;\n",
              "        if (!display || display === 'none') {{\n",
              "            console.log([gd, 'removed!']);\n",
              "            Plotly.purge(gd);\n",
              "            observer.disconnect();\n",
              "        }}\n",
              "}});\n",
              "\n",
              "// Listen for the removal of the full notebook cells\n",
              "var notebookContainer = gd.closest('#notebook-container');\n",
              "if (notebookContainer) {{\n",
              "    x.observe(notebookContainer, {childList: true});\n",
              "}}\n",
              "\n",
              "// Listen for the clearing of the current output cell\n",
              "var outputEl = gd.closest('.output');\n",
              "if (outputEl) {{\n",
              "    x.observe(outputEl, {childList: true});\n",
              "}}\n",
              "\n",
              "                        })                };                            </script>        </div>\n",
              "</body>\n",
              "</html>"
            ]
          },
          "metadata": {}
        },
        {
          "output_type": "display_data",
          "data": {
            "text/plain": [
              "<IPython.core.display.Javascript object>"
            ],
            "application/javascript": [
              "window[\"a4d3f5d2-ae6c-11ed-97be-0242ac1c000c\"] = google.colab.output.setActiveOutputArea(window[\"a4c82eb4-ae6c-11ed-97be-0242ac1c000c\"]);\n",
              "//# sourceURL=js_8f1eb7ee27"
            ]
          },
          "metadata": {}
        }
      ]
    },
    {
      "cell_type": "code",
      "source": [
        "class Net(torch.nn.Module):\n",
        "    def __init__(self, n_feature, n_hidden, n_output):\n",
        "        \"\"\" \n",
        "        Parameters\n",
        "        ----------\n",
        "        n_feature \n",
        "            represents the number of features,\n",
        "        n_hidden \n",
        "            represents the number of neurons in the hidden layer,\n",
        "        n_output \n",
        "            represents the number of output values\n",
        "        \"\"\"\n",
        "        super(Net, self).__init__()\n",
        "        self.hidden = torch.nn.Linear(n_feature, n_hidden)\n",
        "        self.predict = torch.nn.Linear(n_hidden, n_output)\n",
        "    \n",
        "    def forward(self, x):\n",
        "        \"\"\"\n",
        "        Parameters\n",
        "        ----------\n",
        "        x\n",
        "            the input data\n",
        "        \"\"\"\n",
        "        x = F.relu(self.hidden(x))\n",
        "        y = self.predict(x)\n",
        "        return y"
      ],
      "metadata": {
        "id": "X67AiFwTMc3k"
      },
      "execution_count": 3,
      "outputs": []
    },
    {
      "cell_type": "code",
      "source": [
        "# Visualizing Functions\n",
        "\n",
        "def show_regress_mpl(x, y, prediction):\n",
        "    \"\"\"Plot and show learning process with Maplotlib.\n",
        "    \"\"\"\n",
        "    plt.cla()\n",
        "    plt.scatter(x, y)\n",
        "    plt.plot(x, prediction, 'r-', lw=5)\n",
        "    plt.text(0.5, 0, f'Loss={loss:.4f}')\n",
        "    #plt.savefig(\"./img/02_\"+str(step)+\".png\")\n",
        "    #plt.pause(0.01)\n",
        "    #plt.show()\n",
        "\n",
        "\n",
        "def show_regress_plotly(x, y, prediction):\n",
        "    \"\"\"Plot and show learning process with Plotly.\n",
        "    \"\"\"\n",
        "    fig = go.Figure([\n",
        "        go.Scatter(x=x, y=y, mode='markers', name='train'),\n",
        "        go.Scatter(x=x, y=prediction, mode='lines', name='prediction', \n",
        "                   line=dict(color='red', width=5))\n",
        "    ])\n",
        "    fig.update_layout(\n",
        "        annotations=[go.layout.Annotation(\n",
        "            text=f\"Loss={loss:.4f}\", x=0.5, y=0, showarrow=False)],\n",
        "        width=372, height=248,\n",
        "        margin=dict(l=20, r=20, t=20, b=20),\n",
        "        legend=dict(yanchor=\"top\", y=0.99, xanchor=\"center\", x=0.5)\n",
        "    )\n",
        "    return fig\n",
        "    #fig.show()\n"
      ],
      "metadata": {
        "id": "eXkB9oGMcATi"
      },
      "execution_count": 38,
      "outputs": []
    },
    {
      "cell_type": "code",
      "source": [
        "net = Net(1, 11, 1)\n",
        "print(net)\n",
        "\n",
        "optimizer = torch.optim.SGD(net.parameters(), lr=0.5)  \n",
        "loss_func = torch.nn.MSELoss()    # For regression problem, use MSE\n",
        "\n",
        "grid = widgets.Grid(2, 2)\n",
        "for step in range(200):\n",
        "    # Forward (full batch at once)\n",
        "    prediction = net(x)\n",
        "    loss = loss_func(prediction, y)\n",
        "    \n",
        "    # First, reduce all parameter gradients to zero (because this value will be \n",
        "    # kept after each calculation of gradient and not clearing it will lead to \n",
        "    # incorrect results)\n",
        "    optimizer.zero_grad()   \n",
        "                            \n",
        "    # Perform reverse transmission to calculate gradients of all nodes in the \n",
        "    # computation graph                        \n",
        "    loss.backward()         \n",
        "\n",
        "    # After calculation, use optimizer to optimize these gradients\n",
        "    optimizer.step() \n",
        "\n",
        "    if step % 20 == 0:\n",
        "        if step/20 == 1:\n",
        "            with grid.output_to(0, 0):\n",
        "                show_regress_mpl(x, y, prediction.data)\n",
        "                grid.clear_cell()\n",
        "                plt.show()\n",
        "            with grid.output_to(0, 1):\n",
        "                fig = show_regress_plotly(x[:,0], y[:,0], prediction.data[:,0])\n",
        "                grid.clear_cell()\n",
        "                fig.show()\n",
        "        with grid.output_to(1, 0):\n",
        "            show_regress_mpl(x, y, prediction.data)\n",
        "            grid.clear_cell()\n",
        "            plt.show()\n",
        "        with grid.output_to(1, 1):\n",
        "            fig = show_regress_plotly(x[:,0], y[:,0], prediction.data[:,0])\n",
        "            grid.clear_cell()\n",
        "            fig.show()\n",
        "        time.sleep(1)\n"
      ],
      "metadata": {
        "colab": {
          "base_uri": "https://localhost:8080/",
          "height": 589
        },
        "id": "M_FPSqIFNio4",
        "outputId": "5ceb22c8-8c99-4aff-b135-f32bd6026c08"
      },
      "execution_count": 45,
      "outputs": [
        {
          "output_type": "stream",
          "name": "stdout",
          "text": [
            "Net(\n",
            "  (hidden): Linear(in_features=1, out_features=11, bias=True)\n",
            "  (predict): Linear(in_features=11, out_features=1, bias=True)\n",
            ")\n"
          ]
        },
        {
          "output_type": "display_data",
          "data": {
            "text/plain": [
              "<IPython.core.display.HTML object>"
            ],
            "text/html": [
              "<style>\n",
              "       table#id72, #id72 > tbody > tr > th, #id72 > tbody > tr > td {\n",
              "         border: 1px solid lightgray;\n",
              "         border-collapse:collapse;\n",
              "         \n",
              "        }</style>"
            ]
          },
          "metadata": {}
        },
        {
          "output_type": "display_data",
          "data": {
            "text/plain": [
              "<IPython.core.display.HTML object>"
            ],
            "text/html": [
              "<table id=id72><tr><td id=id72-0-0></td><td id=id72-0-1></td></tr><tr><td id=id72-1-0></td><td id=id72-1-1></td></tr></table>"
            ]
          },
          "metadata": {}
        },
        {
          "output_type": "display_data",
          "data": {
            "text/plain": [
              "<IPython.core.display.Javascript object>"
            ],
            "application/javascript": [
              "window[\"07097bdc-ae6d-11ed-97be-0242ac1c000c\"] = google.colab.output.getActiveOutputArea();\n",
              "//# sourceURL=js_0a1ca50a2e"
            ]
          },
          "metadata": {}
        },
        {
          "output_type": "display_data",
          "data": {
            "text/plain": [
              "<IPython.core.display.Javascript object>"
            ],
            "application/javascript": [
              "window[\"0709ea54-ae6d-11ed-97be-0242ac1c000c\"] = document.querySelector(\"#id72-1-0\");\n",
              "//# sourceURL=js_531094b110"
            ]
          },
          "metadata": {}
        },
        {
          "output_type": "display_data",
          "data": {
            "text/plain": [
              "<IPython.core.display.Javascript object>"
            ],
            "application/javascript": [
              "window[\"070a6d94-ae6d-11ed-97be-0242ac1c000c\"] = google.colab.output.setActiveOutputArea(window[\"0709ea54-ae6d-11ed-97be-0242ac1c000c\"]);\n",
              "//# sourceURL=js_ff78b28aab"
            ]
          },
          "metadata": {}
        },
        {
          "output_type": "display_data",
          "data": {
            "text/plain": [
              "<IPython.core.display.Javascript object>"
            ],
            "application/javascript": [
              "window[\"0740fdfa-ae6d-11ed-97be-0242ac1c000c\"] = google.colab.output.setActiveOutputArea(window[\"07097bdc-ae6d-11ed-97be-0242ac1c000c\"]);\n",
              "//# sourceURL=js_78f5979859"
            ]
          },
          "metadata": {}
        },
        {
          "output_type": "display_data",
          "data": {
            "text/plain": [
              "<IPython.core.display.Javascript object>"
            ],
            "application/javascript": [
              "window[\"07440b30-ae6d-11ed-97be-0242ac1c000c\"] = google.colab.output.getActiveOutputArea();\n",
              "//# sourceURL=js_6fefc9e258"
            ]
          },
          "metadata": {}
        },
        {
          "output_type": "display_data",
          "data": {
            "text/plain": [
              "<IPython.core.display.Javascript object>"
            ],
            "application/javascript": [
              "window[\"074461e8-ae6d-11ed-97be-0242ac1c000c\"] = document.querySelector(\"#id72-1-1\");\n",
              "//# sourceURL=js_92aaa6313b"
            ]
          },
          "metadata": {}
        },
        {
          "output_type": "display_data",
          "data": {
            "text/plain": [
              "<IPython.core.display.Javascript object>"
            ],
            "application/javascript": [
              "window[\"0744f716-ae6d-11ed-97be-0242ac1c000c\"] = google.colab.output.setActiveOutputArea(window[\"074461e8-ae6d-11ed-97be-0242ac1c000c\"]);\n",
              "//# sourceURL=js_a664f051ae"
            ]
          },
          "metadata": {}
        },
        {
          "output_type": "display_data",
          "data": {
            "text/plain": [
              "<IPython.core.display.Javascript object>"
            ],
            "application/javascript": [
              "window[\"074c13e8-ae6d-11ed-97be-0242ac1c000c\"] = google.colab.output.setActiveOutputArea(window[\"07440b30-ae6d-11ed-97be-0242ac1c000c\"]);\n",
              "//# sourceURL=js_36850de1aa"
            ]
          },
          "metadata": {}
        },
        {
          "output_type": "display_data",
          "data": {
            "text/plain": [
              "<IPython.core.display.Javascript object>"
            ],
            "application/javascript": [
              "window[\"07ea08be-ae6d-11ed-97be-0242ac1c000c\"] = google.colab.output.getActiveOutputArea();\n",
              "//# sourceURL=js_22a8a7abc4"
            ]
          },
          "metadata": {}
        },
        {
          "output_type": "display_data",
          "data": {
            "text/plain": [
              "<IPython.core.display.Javascript object>"
            ],
            "application/javascript": [
              "window[\"07ea7a9c-ae6d-11ed-97be-0242ac1c000c\"] = document.querySelector(\"#id72-0-0\");\n",
              "//# sourceURL=js_1927adbe8c"
            ]
          },
          "metadata": {}
        },
        {
          "output_type": "display_data",
          "data": {
            "text/plain": [
              "<IPython.core.display.Javascript object>"
            ],
            "application/javascript": [
              "window[\"07ead24e-ae6d-11ed-97be-0242ac1c000c\"] = google.colab.output.setActiveOutputArea(window[\"07ea7a9c-ae6d-11ed-97be-0242ac1c000c\"]);\n",
              "//# sourceURL=js_b71b5c6da0"
            ]
          },
          "metadata": {}
        },
        {
          "output_type": "display_data",
          "data": {
            "text/plain": [
              "<Figure size 432x288 with 1 Axes>"
            ],
            "image/png": "[encoded data removed]"
          },
          "metadata": {
            "needs_background": "light"
          }
        },
        {
          "output_type": "display_data",
          "data": {
            "text/plain": [
              "<IPython.core.display.Javascript object>"
            ],
            "application/javascript": [
              "window[\"080725b6-ae6d-11ed-97be-0242ac1c000c\"] = google.colab.output.setActiveOutputArea(window[\"07ea08be-ae6d-11ed-97be-0242ac1c000c\"]);\n",
              "//# sourceURL=js_90c24d7124"
            ]
          },
          "metadata": {}
        },
        {
          "output_type": "display_data",
          "data": {
            "text/plain": [
              "<IPython.core.display.Javascript object>"
            ],
            "application/javascript": [
              "window[\"080a75d6-ae6d-11ed-97be-0242ac1c000c\"] = google.colab.output.getActiveOutputArea();\n",
              "//# sourceURL=js_bd06181913"
            ]
          },
          "metadata": {}
        },
        {
          "output_type": "display_data",
          "data": {
            "text/plain": [
              "<IPython.core.display.Javascript object>"
            ],
            "application/javascript": [
              "window[\"080ac2c0-ae6d-11ed-97be-0242ac1c000c\"] = document.querySelector(\"#id72-0-1\");\n",
              "//# sourceURL=js_e93006cf00"
            ]
          },
          "metadata": {}
        },
        {
          "output_type": "display_data",
          "data": {
            "text/plain": [
              "<IPython.core.display.Javascript object>"
            ],
            "application/javascript": [
              "window[\"080b0b7c-ae6d-11ed-97be-0242ac1c000c\"] = google.colab.output.setActiveOutputArea(window[\"080ac2c0-ae6d-11ed-97be-0242ac1c000c\"]);\n",
              "//# sourceURL=js_f8d2f48b51"
            ]
          },
          "metadata": {}
        },
        {
          "output_type": "display_data",
          "data": {
            "text/html": [
              "<html>\n",
              "<head><meta charset=\"utf-8\" /></head>\n",
              "<body>\n",
              "    <div>            <script src=\"https://cdnjs.cloudflare.com/ajax/libs/mathjax/2.7.5/MathJax.js?config=TeX-AMS-MML_SVG\"></script><script type=\"text/javascript\">if (window.MathJax) {MathJax.Hub.Config({SVG: {font: \"STIX-Web\"}});}</script>                <script type=\"text/javascript\">window.PlotlyConfig = {MathJaxConfig: 'local'};</script>\n",
              "        <script src=\"https://cdn.plot.ly/plotly-2.8.3.min.js\"></script>                <div id=\"265f593a-dc6a-4658-923b-20f30eac796e\" class=\"plotly-graph-div\" style=\"height:248px; width:372px;\"></div>            <script type=\"text/javascript\">                                    window.PLOTLYENV=window.PLOTLYENV || {};                                    if (document.getElementById(\"265f593a-dc6a-4658-923b-20f30eac796e\")) {                    Plotly.newPlot(                        \"265f593a-dc6a-4658-923b-20f30eac796e\",                        [{\"mode\":\"markers\",\"name\":\"train\",\"x\":[-1.0,-0.9797979593276978,-0.9595959782600403,-0.939393937587738,-0.9191918969154358,-0.8989899158477783,-0.8787878751754761,-0.8585858345031738,-0.8383838534355164,-0.8181818127632141,-0.7979798316955566,-0.7777777910232544,-0.7575757503509521,-0.7373737692832947,-0.7171717286109924,-0.696969747543335,-0.6767677068710327,-0.6565656661987305,-0.636363685131073,-0.6161616444587708,-0.5959596037864685,-0.575757622718811,-0.5555555820465088,-0.5353535413742065,-0.5151515007019043,-0.49494948983192444,-0.4747474491596222,-0.45454543828964233,-0.4343434274196625,-0.4141414165496826,-0.39393937587738037,-0.3737373650074005,-0.35353535413742065,-0.3333333432674408,-0.31313130259513855,-0.2929292917251587,-0.27272728085517883,-0.252525269985199,-0.23232322931289673,-0.21212121844291687,-0.19191919267177582,-0.17171716690063477,-0.1515151560306549,-0.13131313025951385,-0.1111111119389534,-0.09090909361839294,-0.07070706784725189,-0.050505056977272034,-0.03030303120613098,-0.010101011022925377,0.010101009160280228,0.03030303120613098,0.05050504952669144,0.07070706784725189,0.09090909361839294,0.1111111044883728,0.13131313025951385,0.1515151560306549,0.17171716690063477,0.19191919267177582,0.21212121844291687,0.23232322931289673,0.252525269985199,0.27272725105285645,0.2929292917251587,0.31313130259513855,0.3333333432674408,0.35353535413742065,0.3737373650074005,0.39393937587738037,0.4141414165496826,0.4343434274196625,0.4545454680919647,0.4747474789619446,0.4949495196342468,0.5151515007019043,0.5353535413742065,0.5555555820465088,0.575757622718811,0.5959596037864685,0.6161616444587708,0.636363685131073,0.6565656661987305,0.6767677068710327,0.696969747543335,0.7171717286109924,0.7373737692832947,0.7575757503509521,0.7777777910232544,0.7979798316955566,0.8181818127632141,0.8383838534355164,0.8585858941078186,0.8787878751754761,0.8989899158477783,0.9191919565200806,0.939393937587738,0.9595959782600403,0.9797979593276978,1.0],\"y\":[1.1493198871612549,1.0175453424453735,0.9969156980514526,0.9133670926094055,1.0020508766174316,0.8920481204986572,0.7975130081176758,0.7529940605163574,0.7290166616439819,0.6940019726753235,0.8335586786270142,0.78482985496521,0.6625251173973083,0.5592999458312988,0.613200843334198,0.5407754182815552,0.595768928527832,0.49582862854003906,0.5884029865264893,0.508937418460846,0.5527706742286682,0.3858993649482727,0.3952685594558716,0.39820587635040283,0.33604609966278076,0.2653789818286896,0.3157784640789032,0.39577656984329224,0.2590829133987427,0.3391917943954468,0.24030649662017822,0.15950420498847961,0.21103498339653015,0.27578145265579224,0.18156437575817108,0.23063474893569946,0.21677181124687195,0.09434185922145844,0.07561428844928741,0.10357700288295746,0.23176537454128265,0.03404141217470169,0.03745705634355545,0.15992328524589539,0.1478535532951355,0.13272130489349365,0.037563689053058624,0.171612948179245,0.1671571433544159,0.03441223129630089,0.16166561841964722,0.20043395459651947,0.016768530011177063,0.0520896278321743,0.1515728235244751,0.15185119211673737,0.10228458046913147,0.18492251634597778,0.03675542771816254,0.054262496531009674,0.09141023457050323,0.16407957673072815,0.25888344645500183,0.23796683549880981,0.25910311937332153,0.23605507612228394,0.19328337907791138,0.20561833679676056,0.21924114227294922,0.2791213393211365,0.3373793959617615,0.2924235165119171,0.37670910358428955,0.2749243378639221,0.4400864839553833,0.43820255994796753,0.4785422682762146,0.31603917479515076,0.4588603079319,0.5005967617034912,0.4505600929260254,0.49053555727005005,0.5908702611923218,0.616483211517334,0.5313754677772522,0.690961480140686,0.668764054775238,0.5836713910102844,0.679385781288147,0.7345564365386963,0.7970809936523438,0.7527557611465454,0.8774309158325195,0.8728136420249939,0.9888330101966858,0.9646710753440857,1.0393383502960205,1.0672696828842163,0.9740682244300842,1.1865160465240479],\"type\":\"scatter\"},{\"line\":{\"color\":\"red\",\"width\":5},\"mode\":\"lines\",\"name\":\"prediction\",\"x\":[-1.0,-0.9797979593276978,-0.9595959782600403,-0.939393937587738,-0.9191918969154358,-0.8989899158477783,-0.8787878751754761,-0.8585858345031738,-0.8383838534355164,-0.8181818127632141,-0.7979798316955566,-0.7777777910232544,-0.7575757503509521,-0.7373737692832947,-0.7171717286109924,-0.696969747543335,-0.6767677068710327,-0.6565656661987305,-0.636363685131073,-0.6161616444587708,-0.5959596037864685,-0.575757622718811,-0.5555555820465088,-0.5353535413742065,-0.5151515007019043,-0.49494948983192444,-0.4747474491596222,-0.45454543828964233,-0.4343434274196625,-0.4141414165496826,-0.39393937587738037,-0.3737373650074005,-0.35353535413742065,-0.3333333432674408,-0.31313130259513855,-0.2929292917251587,-0.27272728085517883,-0.252525269985199,-0.23232322931289673,-0.21212121844291687,-0.19191919267177582,-0.17171716690063477,-0.1515151560306549,-0.13131313025951385,-0.1111111119389534,-0.09090909361839294,-0.07070706784725189,-0.050505056977272034,-0.03030303120613098,-0.010101011022925377,0.010101009160280228,0.03030303120613098,0.05050504952669144,0.07070706784725189,0.09090909361839294,0.1111111044883728,0.13131313025951385,0.1515151560306549,0.17171716690063477,0.19191919267177582,0.21212121844291687,0.23232322931289673,0.252525269985199,0.27272725105285645,0.2929292917251587,0.31313130259513855,0.3333333432674408,0.35353535413742065,0.3737373650074005,0.39393937587738037,0.4141414165496826,0.4343434274196625,0.4545454680919647,0.4747474789619446,0.4949495196342468,0.5151515007019043,0.5353535413742065,0.5555555820465088,0.575757622718811,0.5959596037864685,0.6161616444587708,0.636363685131073,0.6565656661987305,0.6767677068710327,0.696969747543335,0.7171717286109924,0.7373737692832947,0.7575757503509521,0.7777777910232544,0.7979798316955566,0.8181818127632141,0.8383838534355164,0.8585858941078186,0.8787878751754761,0.8989899158477783,0.9191919565200806,0.939393937587738,0.9595959782600403,0.9797979593276978,1.0],\"y\":[0.3673308193683624,0.3673308193683624,0.3673308193683624,0.3673308193683624,0.3673308193683624,0.3673308193683624,0.3673308193683624,0.3673308193683624,0.3673308193683624,0.3673308193683624,0.3673308193683624,0.3673308193683624,0.3673308193683624,0.3673308193683624,0.3673308193683624,0.3673308193683624,0.3673308193683624,0.3673308193683624,0.3673308193683624,0.3673308193683624,0.3673308193683624,0.3673308193683624,0.3673308193683624,0.3673308193683624,0.3673308193683624,0.3673308193683624,0.3673308193683624,0.3673308193683624,0.3673308193683624,0.3673308193683624,0.3673308193683624,0.3673308193683624,0.3673308193683624,0.3673308193683624,0.3673308193683624,0.3673308193683624,0.3673308193683624,0.3673308193683624,0.3673308193683624,0.3673308193683624,0.3673308193683624,0.3673308193683624,0.3673308193683624,0.3673308193683624,0.3673308193683624,0.3673308193683624,0.3673308193683624,0.3673308193683624,0.3673308193683624,0.3673308193683624,0.3673308193683624,0.3673308193683624,0.3673308193683624,0.3673308193683624,0.3673308193683624,0.3673308193683624,0.3673308193683624,0.3673308193683624,0.3673308193683624,0.3673308193683624,0.3673308193683624,0.3673308193683624,0.3673308193683624,0.3673308193683624,0.3673308193683624,0.3725743889808655,0.37791907787323,0.38326379656791687,0.38860851526260376,0.39395320415496826,0.4002988040447235,0.4126744568347931,0.4273919463157654,0.44362759590148926,0.45986324548721313,0.476098895072937,0.4923345446586609,0.5085701942443848,0.5248059034347534,0.5410414934158325,0.5572772026062012,0.573512852191925,0.5897484421730042,0.6059841513633728,0.6222198009490967,0.6384553909301758,0.6546911001205444,0.6709266901016235,0.6871623992919922,0.7033981084823608,0.7196336984634399,0.7358694076538086,0.7521049976348877,0.7683407068252563,0.7845762968063354,0.8008120059967041,0.8170475959777832,0.8332833051681519,0.849518895149231,0.8657546043395996],\"type\":\"scatter\"}],                        {\"template\":{\"data\":{\"bar\":[{\"error_x\":{\"color\":\"#2a3f5f\"},\"error_y\":{\"color\":\"#2a3f5f\"},\"marker\":{\"line\":{\"color\":\"#E5ECF6\",\"width\":0.5},\"pattern\":{\"fillmode\":\"overlay\",\"size\":10,\"solidity\":0.2}},\"type\":\"bar\"}],\"barpolar\":[{\"marker\":{\"line\":{\"color\":\"#E5ECF6\",\"width\":0.5},\"pattern\":{\"fillmode\":\"overlay\",\"size\":10,\"solidity\":0.2}},\"type\":\"barpolar\"}],\"carpet\":[{\"aaxis\":{\"endlinecolor\":\"#2a3f5f\",\"gridcolor\":\"white\",\"linecolor\":\"white\",\"minorgridcolor\":\"white\",\"startlinecolor\":\"#2a3f5f\"},\"baxis\":{\"endlinecolor\":\"#2a3f5f\",\"gridcolor\":\"white\",\"linecolor\":\"white\",\"minorgridcolor\":\"white\",\"startlinecolor\":\"#2a3f5f\"},\"type\":\"carpet\"}],\"choropleth\":[{\"colorbar\":{\"outlinewidth\":0,\"ticks\":\"\"},\"type\":\"choropleth\"}],\"contour\":[{\"colorbar\":{\"outlinewidth\":0,\"ticks\":\"\"},\"colorscale\":[[0.0,\"#0d0887\"],[0.1111111111111111,\"#46039f\"],[0.2222222222222222,\"#7201a8\"],[0.3333333333333333,\"#9c179e\"],[0.4444444444444444,\"#bd3786\"],[0.5555555555555556,\"#d8576b\"],[0.6666666666666666,\"#ed7953\"],[0.7777777777777778,\"#fb9f3a\"],[0.8888888888888888,\"#fdca26\"],[1.0,\"#f0f921\"]],\"type\":\"contour\"}],\"contourcarpet\":[{\"colorbar\":{\"outlinewidth\":0,\"ticks\":\"\"},\"type\":\"contourcarpet\"}],\"heatmap\":[{\"colorbar\":{\"outlinewidth\":0,\"ticks\":\"\"},\"colorscale\":[[0.0,\"#0d0887\"],[0.1111111111111111,\"#46039f\"],[0.2222222222222222,\"#7201a8\"],[0.3333333333333333,\"#9c179e\"],[0.4444444444444444,\"#bd3786\"],[0.5555555555555556,\"#d8576b\"],[0.6666666666666666,\"#ed7953\"],[0.7777777777777778,\"#fb9f3a\"],[0.8888888888888888,\"#fdca26\"],[1.0,\"#f0f921\"]],\"type\":\"heatmap\"}],\"heatmapgl\":[{\"colorbar\":{\"outlinewidth\":0,\"ticks\":\"\"},\"colorscale\":[[0.0,\"#0d0887\"],[0.1111111111111111,\"#46039f\"],[0.2222222222222222,\"#7201a8\"],[0.3333333333333333,\"#9c179e\"],[0.4444444444444444,\"#bd3786\"],[0.5555555555555556,\"#d8576b\"],[0.6666666666666666,\"#ed7953\"],[0.7777777777777778,\"#fb9f3a\"],[0.8888888888888888,\"#fdca26\"],[1.0,\"#f0f921\"]],\"type\":\"heatmapgl\"}],\"histogram\":[{\"marker\":{\"pattern\":{\"fillmode\":\"overlay\",\"size\":10,\"solidity\":0.2}},\"type\":\"histogram\"}],\"histogram2d\":[{\"colorbar\":{\"outlinewidth\":0,\"ticks\":\"\"},\"colorscale\":[[0.0,\"#0d0887\"],[0.1111111111111111,\"#46039f\"],[0.2222222222222222,\"#7201a8\"],[0.3333333333333333,\"#9c179e\"],[0.4444444444444444,\"#bd3786\"],[0.5555555555555556,\"#d8576b\"],[0.6666666666666666,\"#ed7953\"],[0.7777777777777778,\"#fb9f3a\"],[0.8888888888888888,\"#fdca26\"],[1.0,\"#f0f921\"]],\"type\":\"histogram2d\"}],\"histogram2dcontour\":[{\"colorbar\":{\"outlinewidth\":0,\"ticks\":\"\"},\"colorscale\":[[0.0,\"#0d0887\"],[0.1111111111111111,\"#46039f\"],[0.2222222222222222,\"#7201a8\"],[0.3333333333333333,\"#9c179e\"],[0.4444444444444444,\"#bd3786\"],[0.5555555555555556,\"#d8576b\"],[0.6666666666666666,\"#ed7953\"],[0.7777777777777778,\"#fb9f3a\"],[0.8888888888888888,\"#fdca26\"],[1.0,\"#f0f921\"]],\"type\":\"histogram2dcontour\"}],\"mesh3d\":[{\"colorbar\":{\"outlinewidth\":0,\"ticks\":\"\"},\"type\":\"mesh3d\"}],\"parcoords\":[{\"line\":{\"colorbar\":{\"outlinewidth\":0,\"ticks\":\"\"}},\"type\":\"parcoords\"}],\"pie\":[{\"automargin\":true,\"type\":\"pie\"}],\"scatter\":[{\"marker\":{\"colorbar\":{\"outlinewidth\":0,\"ticks\":\"\"}},\"type\":\"scatter\"}],\"scatter3d\":[{\"line\":{\"colorbar\":{\"outlinewidth\":0,\"ticks\":\"\"}},\"marker\":{\"colorbar\":{\"outlinewidth\":0,\"ticks\":\"\"}},\"type\":\"scatter3d\"}],\"scattercarpet\":[{\"marker\":{\"colorbar\":{\"outlinewidth\":0,\"ticks\":\"\"}},\"type\":\"scattercarpet\"}],\"scattergeo\":[{\"marker\":{\"colorbar\":{\"outlinewidth\":0,\"ticks\":\"\"}},\"type\":\"scattergeo\"}],\"scattergl\":[{\"marker\":{\"colorbar\":{\"outlinewidth\":0,\"ticks\":\"\"}},\"type\":\"scattergl\"}],\"scattermapbox\":[{\"marker\":{\"colorbar\":{\"outlinewidth\":0,\"ticks\":\"\"}},\"type\":\"scattermapbox\"}],\"scatterpolar\":[{\"marker\":{\"colorbar\":{\"outlinewidth\":0,\"ticks\":\"\"}},\"type\":\"scatterpolar\"}],\"scatterpolargl\":[{\"marker\":{\"colorbar\":{\"outlinewidth\":0,\"ticks\":\"\"}},\"type\":\"scatterpolargl\"}],\"scatterternary\":[{\"marker\":{\"colorbar\":{\"outlinewidth\":0,\"ticks\":\"\"}},\"type\":\"scatterternary\"}],\"surface\":[{\"colorbar\":{\"outlinewidth\":0,\"ticks\":\"\"},\"colorscale\":[[0.0,\"#0d0887\"],[0.1111111111111111,\"#46039f\"],[0.2222222222222222,\"#7201a8\"],[0.3333333333333333,\"#9c179e\"],[0.4444444444444444,\"#bd3786\"],[0.5555555555555556,\"#d8576b\"],[0.6666666666666666,\"#ed7953\"],[0.7777777777777778,\"#fb9f3a\"],[0.8888888888888888,\"#fdca26\"],[1.0,\"#f0f921\"]],\"type\":\"surface\"}],\"table\":[{\"cells\":{\"fill\":{\"color\":\"#EBF0F8\"},\"line\":{\"color\":\"white\"}},\"header\":{\"fill\":{\"color\":\"#C8D4E3\"},\"line\":{\"color\":\"white\"}},\"type\":\"table\"}]},\"layout\":{\"annotationdefaults\":{\"arrowcolor\":\"#2a3f5f\",\"arrowhead\":0,\"arrowwidth\":1},\"autotypenumbers\":\"strict\",\"coloraxis\":{\"colorbar\":{\"outlinewidth\":0,\"ticks\":\"\"}},\"colorscale\":{\"diverging\":[[0,\"#8e0152\"],[0.1,\"#c51b7d\"],[0.2,\"#de77ae\"],[0.3,\"#f1b6da\"],[0.4,\"#fde0ef\"],[0.5,\"#f7f7f7\"],[0.6,\"#e6f5d0\"],[0.7,\"#b8e186\"],[0.8,\"#7fbc41\"],[0.9,\"#4d9221\"],[1,\"#276419\"]],\"sequential\":[[0.0,\"#0d0887\"],[0.1111111111111111,\"#46039f\"],[0.2222222222222222,\"#7201a8\"],[0.3333333333333333,\"#9c179e\"],[0.4444444444444444,\"#bd3786\"],[0.5555555555555556,\"#d8576b\"],[0.6666666666666666,\"#ed7953\"],[0.7777777777777778,\"#fb9f3a\"],[0.8888888888888888,\"#fdca26\"],[1.0,\"#f0f921\"]],\"sequentialminus\":[[0.0,\"#0d0887\"],[0.1111111111111111,\"#46039f\"],[0.2222222222222222,\"#7201a8\"],[0.3333333333333333,\"#9c179e\"],[0.4444444444444444,\"#bd3786\"],[0.5555555555555556,\"#d8576b\"],[0.6666666666666666,\"#ed7953\"],[0.7777777777777778,\"#fb9f3a\"],[0.8888888888888888,\"#fdca26\"],[1.0,\"#f0f921\"]]},\"colorway\":[\"#636efa\",\"#EF553B\",\"#00cc96\",\"#ab63fa\",\"#FFA15A\",\"#19d3f3\",\"#FF6692\",\"#B6E880\",\"#FF97FF\",\"#FECB52\"],\"font\":{\"color\":\"#2a3f5f\"},\"geo\":{\"bgcolor\":\"white\",\"lakecolor\":\"white\",\"landcolor\":\"#E5ECF6\",\"showlakes\":true,\"showland\":true,\"subunitcolor\":\"white\"},\"hoverlabel\":{\"align\":\"left\"},\"hovermode\":\"closest\",\"mapbox\":{\"style\":\"light\"},\"paper_bgcolor\":\"white\",\"plot_bgcolor\":\"#E5ECF6\",\"polar\":{\"angularaxis\":{\"gridcolor\":\"white\",\"linecolor\":\"white\",\"ticks\":\"\"},\"bgcolor\":\"#E5ECF6\",\"radialaxis\":{\"gridcolor\":\"white\",\"linecolor\":\"white\",\"ticks\":\"\"}},\"scene\":{\"xaxis\":{\"backgroundcolor\":\"#E5ECF6\",\"gridcolor\":\"white\",\"gridwidth\":2,\"linecolor\":\"white\",\"showbackground\":true,\"ticks\":\"\",\"zerolinecolor\":\"white\"},\"yaxis\":{\"backgroundcolor\":\"#E5ECF6\",\"gridcolor\":\"white\",\"gridwidth\":2,\"linecolor\":\"white\",\"showbackground\":true,\"ticks\":\"\",\"zerolinecolor\":\"white\"},\"zaxis\":{\"backgroundcolor\":\"#E5ECF6\",\"gridcolor\":\"white\",\"gridwidth\":2,\"linecolor\":\"white\",\"showbackground\":true,\"ticks\":\"\",\"zerolinecolor\":\"white\"}},\"shapedefaults\":{\"line\":{\"color\":\"#2a3f5f\"}},\"ternary\":{\"aaxis\":{\"gridcolor\":\"white\",\"linecolor\":\"white\",\"ticks\":\"\"},\"baxis\":{\"gridcolor\":\"white\",\"linecolor\":\"white\",\"ticks\":\"\"},\"bgcolor\":\"#E5ECF6\",\"caxis\":{\"gridcolor\":\"white\",\"linecolor\":\"white\",\"ticks\":\"\"}},\"title\":{\"x\":0.05},\"xaxis\":{\"automargin\":true,\"gridcolor\":\"white\",\"linecolor\":\"white\",\"ticks\":\"\",\"title\":{\"standoff\":15},\"zerolinecolor\":\"white\",\"zerolinewidth\":2},\"yaxis\":{\"automargin\":true,\"gridcolor\":\"white\",\"linecolor\":\"white\",\"ticks\":\"\",\"title\":{\"standoff\":15},\"zerolinecolor\":\"white\",\"zerolinewidth\":2}}},\"margin\":{\"l\":20,\"r\":20,\"t\":20,\"b\":20},\"legend\":{\"yanchor\":\"top\",\"y\":0.99,\"xanchor\":\"center\",\"x\":0.5},\"annotations\":[{\"showarrow\":false,\"text\":\"Loss=0.0630\",\"x\":0.5,\"y\":0}],\"width\":372,\"height\":248},                        {\"responsive\": true}                    ).then(function(){\n",
              "                            \n",
              "var gd = document.getElementById('265f593a-dc6a-4658-923b-20f30eac796e');\n",
              "var x = new MutationObserver(function (mutations, observer) {{\n",
              "        var display = window.getComputedStyle(gd).display;\n",
              "        if (!display || display === 'none') {{\n",
              "            console.log([gd, 'removed!']);\n",
              "            Plotly.purge(gd);\n",
              "            observer.disconnect();\n",
              "        }}\n",
              "}});\n",
              "\n",
              "// Listen for the removal of the full notebook cells\n",
              "var notebookContainer = gd.closest('#notebook-container');\n",
              "if (notebookContainer) {{\n",
              "    x.observe(notebookContainer, {childList: true});\n",
              "}}\n",
              "\n",
              "// Listen for the clearing of the current output cell\n",
              "var outputEl = gd.closest('.output');\n",
              "if (outputEl) {{\n",
              "    x.observe(outputEl, {childList: true});\n",
              "}}\n",
              "\n",
              "                        })                };                            </script>        </div>\n",
              "</body>\n",
              "</html>"
            ]
          },
          "metadata": {}
        },
        {
          "output_type": "display_data",
          "data": {
            "text/plain": [
              "<IPython.core.display.Javascript object>"
            ],
            "application/javascript": [
              "window[\"08108a5c-ae6d-11ed-97be-0242ac1c000c\"] = google.colab.output.setActiveOutputArea(window[\"080a75d6-ae6d-11ed-97be-0242ac1c000c\"]);\n",
              "//# sourceURL=js_09eac593d0"
            ]
          },
          "metadata": {}
        },
        {
          "output_type": "display_data",
          "data": {
            "text/plain": [
              "<IPython.core.display.Javascript object>"
            ],
            "application/javascript": [
              "window[\"08124e8c-ae6d-11ed-97be-0242ac1c000c\"] = google.colab.output.getActiveOutputArea();\n",
              "//# sourceURL=js_ae7c891e7c"
            ]
          },
          "metadata": {}
        },
        {
          "output_type": "display_data",
          "data": {
            "text/plain": [
              "<IPython.core.display.Javascript object>"
            ],
            "application/javascript": [
              "window[\"08129b80-ae6d-11ed-97be-0242ac1c000c\"] = document.querySelector(\"#id72-1-0\");\n",
              "//# sourceURL=js_d305e545e9"
            ]
          },
          "metadata": {}
        },
        {
          "output_type": "display_data",
          "data": {
            "text/plain": [
              "<IPython.core.display.Javascript object>"
            ],
            "application/javascript": [
              "window[\"0812e798-ae6d-11ed-97be-0242ac1c000c\"] = google.colab.output.setActiveOutputArea(window[\"08129b80-ae6d-11ed-97be-0242ac1c000c\"]);\n",
              "//# sourceURL=js_50e8993c33"
            ]
          },
          "metadata": {}
        },
        {
          "output_type": "display_data",
          "data": {
            "text/plain": [
              "<IPython.core.display.Javascript object>"
            ],
            "application/javascript": [
              "window[\"0836c42e-ae6d-11ed-97be-0242ac1c000c\"] = google.colab.output.setActiveOutputArea(window[\"08124e8c-ae6d-11ed-97be-0242ac1c000c\"]);\n",
              "//# sourceURL=js_d6f0b8a6c1"
            ]
          },
          "metadata": {}
        },
        {
          "output_type": "display_data",
          "data": {
            "text/plain": [
              "<IPython.core.display.Javascript object>"
            ],
            "application/javascript": [
              "window[\"0839a3e2-ae6d-11ed-97be-0242ac1c000c\"] = google.colab.output.getActiveOutputArea();\n",
              "//# sourceURL=js_c757d815e0"
            ]
          },
          "metadata": {}
        },
        {
          "output_type": "display_data",
          "data": {
            "text/plain": [
              "<IPython.core.display.Javascript object>"
            ],
            "application/javascript": [
              "window[\"0839f324-ae6d-11ed-97be-0242ac1c000c\"] = document.querySelector(\"#id72-1-1\");\n",
              "//# sourceURL=js_5c84fffbf0"
            ]
          },
          "metadata": {}
        },
        {
          "output_type": "display_data",
          "data": {
            "text/plain": [
              "<IPython.core.display.Javascript object>"
            ],
            "application/javascript": [
              "window[\"083a3ea6-ae6d-11ed-97be-0242ac1c000c\"] = google.colab.output.setActiveOutputArea(window[\"0839f324-ae6d-11ed-97be-0242ac1c000c\"]);\n",
              "//# sourceURL=js_d99a4678dc"
            ]
          },
          "metadata": {}
        },
        {
          "output_type": "display_data",
          "data": {
            "text/plain": [
              "<IPython.core.display.Javascript object>"
            ],
            "application/javascript": [
              "window[\"083ec750-ae6d-11ed-97be-0242ac1c000c\"] = google.colab.output.setActiveOutputArea(window[\"0839a3e2-ae6d-11ed-97be-0242ac1c000c\"]);\n",
              "//# sourceURL=js_1005499f1e"
            ]
          },
          "metadata": {}
        },
        {
          "output_type": "display_data",
          "data": {
            "text/plain": [
              "<IPython.core.display.Javascript object>"
            ],
            "application/javascript": [
              "window[\"08dbaa70-ae6d-11ed-97be-0242ac1c000c\"] = google.colab.output.getActiveOutputArea();\n",
              "//# sourceURL=js_61e77179e9"
            ]
          },
          "metadata": {}
        },
        {
          "output_type": "display_data",
          "data": {
            "text/plain": [
              "<IPython.core.display.Javascript object>"
            ],
            "application/javascript": [
              "window[\"08dc9d4a-ae6d-11ed-97be-0242ac1c000c\"] = document.querySelector(\"#id72-1-0\");\n",
              "//# sourceURL=js_5eec53fd31"
            ]
          },
          "metadata": {}
        },
        {
          "output_type": "display_data",
          "data": {
            "text/plain": [
              "<IPython.core.display.Javascript object>"
            ],
            "application/javascript": [
              "window[\"08dcf3a8-ae6d-11ed-97be-0242ac1c000c\"] = google.colab.output.setActiveOutputArea(window[\"08dc9d4a-ae6d-11ed-97be-0242ac1c000c\"]);\n",
              "//# sourceURL=js_f5298af7a2"
            ]
          },
          "metadata": {}
        },
        {
          "output_type": "display_data",
          "data": {
            "text/plain": [
              "<IPython.core.display.Javascript object>"
            ],
            "application/javascript": [
              "window[\"08fa6c12-ae6d-11ed-97be-0242ac1c000c\"] = google.colab.output.setActiveOutputArea(window[\"08dbaa70-ae6d-11ed-97be-0242ac1c000c\"]);\n",
              "//# sourceURL=js_9242d219df"
            ]
          },
          "metadata": {}
        },
        {
          "output_type": "display_data",
          "data": {
            "text/plain": [
              "<IPython.core.display.Javascript object>"
            ],
            "application/javascript": [
              "window[\"08fdc498-ae6d-11ed-97be-0242ac1c000c\"] = google.colab.output.getActiveOutputArea();\n",
              "//# sourceURL=js_d8b9bc4311"
            ]
          },
          "metadata": {}
        },
        {
          "output_type": "display_data",
          "data": {
            "text/plain": [
              "<IPython.core.display.Javascript object>"
            ],
            "application/javascript": [
              "window[\"08fe148e-ae6d-11ed-97be-0242ac1c000c\"] = document.querySelector(\"#id72-1-1\");\n",
              "//# sourceURL=js_b86f25c60c"
            ]
          },
          "metadata": {}
        },
        {
          "output_type": "display_data",
          "data": {
            "text/plain": [
              "<IPython.core.display.Javascript object>"
            ],
            "application/javascript": [
              "window[\"08fe5fca-ae6d-11ed-97be-0242ac1c000c\"] = google.colab.output.setActiveOutputArea(window[\"08fe148e-ae6d-11ed-97be-0242ac1c000c\"]);\n",
              "//# sourceURL=js_b4809cc161"
            ]
          },
          "metadata": {}
        },
        {
          "output_type": "display_data",
          "data": {
            "text/plain": [
              "<IPython.core.display.Javascript object>"
            ],
            "application/javascript": [
              "window[\"09209414-ae6d-11ed-97be-0242ac1c000c\"] = google.colab.output.setActiveOutputArea(window[\"08fdc498-ae6d-11ed-97be-0242ac1c000c\"]);\n",
              "//# sourceURL=js_624eb7f33f"
            ]
          },
          "metadata": {}
        },
        {
          "output_type": "display_data",
          "data": {
            "text/plain": [
              "<IPython.core.display.Javascript object>"
            ],
            "application/javascript": [
              "window[\"09bd4480-ae6d-11ed-97be-0242ac1c000c\"] = google.colab.output.getActiveOutputArea();\n",
              "//# sourceURL=js_a59351c094"
            ]
          },
          "metadata": {}
        },
        {
          "output_type": "display_data",
          "data": {
            "text/plain": [
              "<IPython.core.display.Javascript object>"
            ],
            "application/javascript": [
              "window[\"09be72c4-ae6d-11ed-97be-0242ac1c000c\"] = document.querySelector(\"#id72-1-0\");\n",
              "//# sourceURL=js_09676b559f"
            ]
          },
          "metadata": {}
        },
        {
          "output_type": "display_data",
          "data": {
            "text/plain": [
              "<IPython.core.display.Javascript object>"
            ],
            "application/javascript": [
              "window[\"09bf43ca-ae6d-11ed-97be-0242ac1c000c\"] = google.colab.output.setActiveOutputArea(window[\"09be72c4-ae6d-11ed-97be-0242ac1c000c\"]);\n",
              "//# sourceURL=js_6c72a989f5"
            ]
          },
          "metadata": {}
        },
        {
          "output_type": "display_data",
          "data": {
            "text/plain": [
              "<IPython.core.display.Javascript object>"
            ],
            "application/javascript": [
              "window[\"09dd42bc-ae6d-11ed-97be-0242ac1c000c\"] = google.colab.output.setActiveOutputArea(window[\"09bd4480-ae6d-11ed-97be-0242ac1c000c\"]);\n",
              "//# sourceURL=js_99055aa8d2"
            ]
          },
          "metadata": {}
        },
        {
          "output_type": "display_data",
          "data": {
            "text/plain": [
              "<IPython.core.display.Javascript object>"
            ],
            "application/javascript": [
              "window[\"09e16374-ae6d-11ed-97be-0242ac1c000c\"] = google.colab.output.getActiveOutputArea();\n",
              "//# sourceURL=js_bd80c5a1c3"
            ]
          },
          "metadata": {}
        },
        {
          "output_type": "display_data",
          "data": {
            "text/plain": [
              "<IPython.core.display.Javascript object>"
            ],
            "application/javascript": [
              "window[\"09e1ad5c-ae6d-11ed-97be-0242ac1c000c\"] = document.querySelector(\"#id72-1-1\");\n",
              "//# sourceURL=js_84b7f25f74"
            ]
          },
          "metadata": {}
        },
        {
          "output_type": "display_data",
          "data": {
            "text/plain": [
              "<IPython.core.display.Javascript object>"
            ],
            "application/javascript": [
              "window[\"09e1e7c2-ae6d-11ed-97be-0242ac1c000c\"] = google.colab.output.setActiveOutputArea(window[\"09e1ad5c-ae6d-11ed-97be-0242ac1c000c\"]);\n",
              "//# sourceURL=js_5e58458dd1"
            ]
          },
          "metadata": {}
        },
        {
          "output_type": "display_data",
          "data": {
            "text/plain": [
              "<IPython.core.display.Javascript object>"
            ],
            "application/javascript": [
              "window[\"09e80b34-ae6d-11ed-97be-0242ac1c000c\"] = google.colab.output.setActiveOutputArea(window[\"09e16374-ae6d-11ed-97be-0242ac1c000c\"]);\n",
              "//# sourceURL=js_e661967429"
            ]
          },
          "metadata": {}
        },
        {
          "output_type": "display_data",
          "data": {
            "text/plain": [
              "<IPython.core.display.Javascript object>"
            ],
            "application/javascript": [
              "window[\"0a841fec-ae6d-11ed-97be-0242ac1c000c\"] = google.colab.output.getActiveOutputArea();\n",
              "//# sourceURL=js_bafa2c6a86"
            ]
          },
          "metadata": {}
        },
        {
          "output_type": "display_data",
          "data": {
            "text/plain": [
              "<IPython.core.display.Javascript object>"
            ],
            "application/javascript": [
              "window[\"0a849a62-ae6d-11ed-97be-0242ac1c000c\"] = document.querySelector(\"#id72-1-0\");\n",
              "//# sourceURL=js_5246aafc75"
            ]
          },
          "metadata": {}
        },
        {
          "output_type": "display_data",
          "data": {
            "text/plain": [
              "<IPython.core.display.Javascript object>"
            ],
            "application/javascript": [
              "window[\"0a855cfe-ae6d-11ed-97be-0242ac1c000c\"] = google.colab.output.setActiveOutputArea(window[\"0a849a62-ae6d-11ed-97be-0242ac1c000c\"]);\n",
              "//# sourceURL=js_c5eb2edbf5"
            ]
          },
          "metadata": {}
        },
        {
          "output_type": "display_data",
          "data": {
            "text/plain": [
              "<IPython.core.display.Javascript object>"
            ],
            "application/javascript": [
              "window[\"0aa50c16-ae6d-11ed-97be-0242ac1c000c\"] = google.colab.output.setActiveOutputArea(window[\"0a841fec-ae6d-11ed-97be-0242ac1c000c\"]);\n",
              "//# sourceURL=js_6f162482f9"
            ]
          },
          "metadata": {}
        },
        {
          "output_type": "display_data",
          "data": {
            "text/plain": [
              "<IPython.core.display.Javascript object>"
            ],
            "application/javascript": [
              "window[\"0aa78fcc-ae6d-11ed-97be-0242ac1c000c\"] = google.colab.output.getActiveOutputArea();\n",
              "//# sourceURL=js_b25f9f1664"
            ]
          },
          "metadata": {}
        },
        {
          "output_type": "display_data",
          "data": {
            "text/plain": [
              "<IPython.core.display.Javascript object>"
            ],
            "application/javascript": [
              "window[\"0aa7e6b6-ae6d-11ed-97be-0242ac1c000c\"] = document.querySelector(\"#id72-1-1\");\n",
              "//# sourceURL=js_c25ab74b0f"
            ]
          },
          "metadata": {}
        },
        {
          "output_type": "display_data",
          "data": {
            "text/plain": [
              "<IPython.core.display.Javascript object>"
            ],
            "application/javascript": [
              "window[\"0aa83fc6-ae6d-11ed-97be-0242ac1c000c\"] = google.colab.output.setActiveOutputArea(window[\"0aa7e6b6-ae6d-11ed-97be-0242ac1c000c\"]);\n",
              "//# sourceURL=js_f3ada918ed"
            ]
          },
          "metadata": {}
        },
        {
          "output_type": "display_data",
          "data": {
            "text/plain": [
              "<IPython.core.display.Javascript object>"
            ],
            "application/javascript": [
              "window[\"0aad529a-ae6d-11ed-97be-0242ac1c000c\"] = google.colab.output.setActiveOutputArea(window[\"0aa78fcc-ae6d-11ed-97be-0242ac1c000c\"]);\n",
              "//# sourceURL=js_e0263afa5d"
            ]
          },
          "metadata": {}
        },
        {
          "output_type": "display_data",
          "data": {
            "text/plain": [
              "<IPython.core.display.Javascript object>"
            ],
            "application/javascript": [
              "window[\"0b4c0674-ae6d-11ed-97be-0242ac1c000c\"] = google.colab.output.getActiveOutputArea();\n",
              "//# sourceURL=js_03d2753fa7"
            ]
          },
          "metadata": {}
        },
        {
          "output_type": "display_data",
          "data": {
            "text/plain": [
              "<IPython.core.display.Javascript object>"
            ],
            "application/javascript": [
              "window[\"0b4c6f4c-ae6d-11ed-97be-0242ac1c000c\"] = document.querySelector(\"#id72-1-0\");\n",
              "//# sourceURL=js_12487c5afb"
            ]
          },
          "metadata": {}
        },
        {
          "output_type": "display_data",
          "data": {
            "text/plain": [
              "<IPython.core.display.Javascript object>"
            ],
            "application/javascript": [
              "window[\"0b4cd716-ae6d-11ed-97be-0242ac1c000c\"] = google.colab.output.setActiveOutputArea(window[\"0b4c6f4c-ae6d-11ed-97be-0242ac1c000c\"]);\n",
              "//# sourceURL=js_83d04909c2"
            ]
          },
          "metadata": {}
        },
        {
          "output_type": "display_data",
          "data": {
            "text/plain": [
              "<IPython.core.display.Javascript object>"
            ],
            "application/javascript": [
              "window[\"0b694d9c-ae6d-11ed-97be-0242ac1c000c\"] = google.colab.output.setActiveOutputArea(window[\"0b4c0674-ae6d-11ed-97be-0242ac1c000c\"]);\n",
              "//# sourceURL=js_f4a214c390"
            ]
          },
          "metadata": {}
        },
        {
          "output_type": "display_data",
          "data": {
            "text/plain": [
              "<IPython.core.display.Javascript object>"
            ],
            "application/javascript": [
              "window[\"0b6b8fa8-ae6d-11ed-97be-0242ac1c000c\"] = google.colab.output.getActiveOutputArea();\n",
              "//# sourceURL=js_fdf9ae4dd1"
            ]
          },
          "metadata": {}
        },
        {
          "output_type": "display_data",
          "data": {
            "text/plain": [
              "<IPython.core.display.Javascript object>"
            ],
            "application/javascript": [
              "window[\"0b6be476-ae6d-11ed-97be-0242ac1c000c\"] = document.querySelector(\"#id72-1-1\");\n",
              "//# sourceURL=js_c9d0adf639"
            ]
          },
          "metadata": {}
        },
        {
          "output_type": "display_data",
          "data": {
            "text/plain": [
              "<IPython.core.display.Javascript object>"
            ],
            "application/javascript": [
              "window[\"0b6c424a-ae6d-11ed-97be-0242ac1c000c\"] = google.colab.output.setActiveOutputArea(window[\"0b6be476-ae6d-11ed-97be-0242ac1c000c\"]);\n",
              "//# sourceURL=js_dca91dc27d"
            ]
          },
          "metadata": {}
        },
        {
          "output_type": "display_data",
          "data": {
            "text/plain": [
              "<IPython.core.display.Javascript object>"
            ],
            "application/javascript": [
              "window[\"0b723a1a-ae6d-11ed-97be-0242ac1c000c\"] = google.colab.output.setActiveOutputArea(window[\"0b6b8fa8-ae6d-11ed-97be-0242ac1c000c\"]);\n",
              "//# sourceURL=js_ffbfadf88a"
            ]
          },
          "metadata": {}
        },
        {
          "output_type": "display_data",
          "data": {
            "text/plain": [
              "<IPython.core.display.Javascript object>"
            ],
            "application/javascript": [
              "window[\"0c0e5d6e-ae6d-11ed-97be-0242ac1c000c\"] = google.colab.output.getActiveOutputArea();\n",
              "//# sourceURL=js_1d79a60e5d"
            ]
          },
          "metadata": {}
        },
        {
          "output_type": "display_data",
          "data": {
            "text/plain": [
              "<IPython.core.display.Javascript object>"
            ],
            "application/javascript": [
              "window[\"0c0ec25e-ae6d-11ed-97be-0242ac1c000c\"] = document.querySelector(\"#id72-1-0\");\n",
              "//# sourceURL=js_8ff22c70b7"
            ]
          },
          "metadata": {}
        },
        {
          "output_type": "display_data",
          "data": {
            "text/plain": [
              "<IPython.core.display.Javascript object>"
            ],
            "application/javascript": [
              "window[\"0c0f36bc-ae6d-11ed-97be-0242ac1c000c\"] = google.colab.output.setActiveOutputArea(window[\"0c0ec25e-ae6d-11ed-97be-0242ac1c000c\"]);\n",
              "//# sourceURL=js_77dae6d35f"
            ]
          },
          "metadata": {}
        },
        {
          "output_type": "display_data",
          "data": {
            "text/plain": [
              "<IPython.core.display.Javascript object>"
            ],
            "application/javascript": [
              "window[\"0c2c23d0-ae6d-11ed-97be-0242ac1c000c\"] = google.colab.output.setActiveOutputArea(window[\"0c0e5d6e-ae6d-11ed-97be-0242ac1c000c\"]);\n",
              "//# sourceURL=js_db483cbea0"
            ]
          },
          "metadata": {}
        },
        {
          "output_type": "display_data",
          "data": {
            "text/plain": [
              "<IPython.core.display.Javascript object>"
            ],
            "application/javascript": [
              "window[\"0c318cb2-ae6d-11ed-97be-0242ac1c000c\"] = google.colab.output.getActiveOutputArea();\n",
              "//# sourceURL=js_4620d75a27"
            ]
          },
          "metadata": {}
        },
        {
          "output_type": "display_data",
          "data": {
            "text/plain": [
              "<IPython.core.display.Javascript object>"
            ],
            "application/javascript": [
              "window[\"0c3258b8-ae6d-11ed-97be-0242ac1c000c\"] = document.querySelector(\"#id72-1-1\");\n",
              "//# sourceURL=js_c45fe2b224"
            ]
          },
          "metadata": {}
        },
        {
          "output_type": "display_data",
          "data": {
            "text/plain": [
              "<IPython.core.display.Javascript object>"
            ],
            "application/javascript": [
              "window[\"0c33020e-ae6d-11ed-97be-0242ac1c000c\"] = google.colab.output.setActiveOutputArea(window[\"0c3258b8-ae6d-11ed-97be-0242ac1c000c\"]);\n",
              "//# sourceURL=js_9be0023812"
            ]
          },
          "metadata": {}
        },
        {
          "output_type": "display_data",
          "data": {
            "text/plain": [
              "<IPython.core.display.Javascript object>"
            ],
            "application/javascript": [
              "window[\"0c394736-ae6d-11ed-97be-0242ac1c000c\"] = google.colab.output.setActiveOutputArea(window[\"0c318cb2-ae6d-11ed-97be-0242ac1c000c\"]);\n",
              "//# sourceURL=js_2c4584397b"
            ]
          },
          "metadata": {}
        },
        {
          "output_type": "display_data",
          "data": {
            "text/plain": [
              "<IPython.core.display.Javascript object>"
            ],
            "application/javascript": [
              "window[\"0cd6bc5a-ae6d-11ed-97be-0242ac1c000c\"] = google.colab.output.getActiveOutputArea();\n",
              "//# sourceURL=js_409bd8bda8"
            ]
          },
          "metadata": {}
        },
        {
          "output_type": "display_data",
          "data": {
            "text/plain": [
              "<IPython.core.display.Javascript object>"
            ],
            "application/javascript": [
              "window[\"0cd72294-ae6d-11ed-97be-0242ac1c000c\"] = document.querySelector(\"#id72-1-0\");\n",
              "//# sourceURL=js_97d59e7e85"
            ]
          },
          "metadata": {}
        },
        {
          "output_type": "display_data",
          "data": {
            "text/plain": [
              "<IPython.core.display.Javascript object>"
            ],
            "application/javascript": [
              "window[\"0cd79468-ae6d-11ed-97be-0242ac1c000c\"] = google.colab.output.setActiveOutputArea(window[\"0cd72294-ae6d-11ed-97be-0242ac1c000c\"]);\n",
              "//# sourceURL=js_961f8557e4"
            ]
          },
          "metadata": {}
        },
        {
          "output_type": "display_data",
          "data": {
            "text/plain": [
              "<IPython.core.display.Javascript object>"
            ],
            "application/javascript": [
              "window[\"0cf5fcdc-ae6d-11ed-97be-0242ac1c000c\"] = google.colab.output.setActiveOutputArea(window[\"0cd6bc5a-ae6d-11ed-97be-0242ac1c000c\"]);\n",
              "//# sourceURL=js_f80a1a258d"
            ]
          },
          "metadata": {}
        },
        {
          "output_type": "display_data",
          "data": {
            "text/plain": [
              "<IPython.core.display.Javascript object>"
            ],
            "application/javascript": [
              "window[\"0cf87520-ae6d-11ed-97be-0242ac1c000c\"] = google.colab.output.getActiveOutputArea();\n",
              "//# sourceURL=js_4da6341ff0"
            ]
          },
          "metadata": {}
        },
        {
          "output_type": "display_data",
          "data": {
            "text/plain": [
              "<IPython.core.display.Javascript object>"
            ],
            "application/javascript": [
              "window[\"0cf8cac0-ae6d-11ed-97be-0242ac1c000c\"] = document.querySelector(\"#id72-1-1\");\n",
              "//# sourceURL=js_87f1df1579"
            ]
          },
          "metadata": {}
        },
        {
          "output_type": "display_data",
          "data": {
            "text/plain": [
              "<IPython.core.display.Javascript object>"
            ],
            "application/javascript": [
              "window[\"0cf912aa-ae6d-11ed-97be-0242ac1c000c\"] = google.colab.output.setActiveOutputArea(window[\"0cf8cac0-ae6d-11ed-97be-0242ac1c000c\"]);\n",
              "//# sourceURL=js_e35cb28fb6"
            ]
          },
          "metadata": {}
        },
        {
          "output_type": "display_data",
          "data": {
            "text/plain": [
              "<IPython.core.display.Javascript object>"
            ],
            "application/javascript": [
              "window[\"0d0001be-ae6d-11ed-97be-0242ac1c000c\"] = google.colab.output.setActiveOutputArea(window[\"0cf87520-ae6d-11ed-97be-0242ac1c000c\"]);\n",
              "//# sourceURL=js_4128266938"
            ]
          },
          "metadata": {}
        },
        {
          "output_type": "display_data",
          "data": {
            "text/plain": [
              "<IPython.core.display.Javascript object>"
            ],
            "application/javascript": [
              "window[\"0d9d3a9c-ae6d-11ed-97be-0242ac1c000c\"] = google.colab.output.getActiveOutputArea();\n",
              "//# sourceURL=js_b70a00c7eb"
            ]
          },
          "metadata": {}
        },
        {
          "output_type": "display_data",
          "data": {
            "text/plain": [
              "<IPython.core.display.Javascript object>"
            ],
            "application/javascript": [
              "window[\"0d9d893e-ae6d-11ed-97be-0242ac1c000c\"] = document.querySelector(\"#id72-1-0\");\n",
              "//# sourceURL=js_568b38fcf0"
            ]
          },
          "metadata": {}
        },
        {
          "output_type": "display_data",
          "data": {
            "text/plain": [
              "<IPython.core.display.Javascript object>"
            ],
            "application/javascript": [
              "window[\"0d9dd308-ae6d-11ed-97be-0242ac1c000c\"] = google.colab.output.setActiveOutputArea(window[\"0d9d893e-ae6d-11ed-97be-0242ac1c000c\"]);\n",
              "//# sourceURL=js_3c644f46ad"
            ]
          },
          "metadata": {}
        },
        {
          "output_type": "display_data",
          "data": {
            "text/plain": [
              "<IPython.core.display.Javascript object>"
            ],
            "application/javascript": [
              "window[\"0dc90b72-ae6d-11ed-97be-0242ac1c000c\"] = google.colab.output.setActiveOutputArea(window[\"0d9d3a9c-ae6d-11ed-97be-0242ac1c000c\"]);\n",
              "//# sourceURL=js_af3de632af"
            ]
          },
          "metadata": {}
        },
        {
          "output_type": "display_data",
          "data": {
            "text/plain": [
              "<IPython.core.display.Javascript object>"
            ],
            "application/javascript": [
              "window[\"0dcd06be-ae6d-11ed-97be-0242ac1c000c\"] = google.colab.output.getActiveOutputArea();\n",
              "//# sourceURL=js_e6ba793f69"
            ]
          },
          "metadata": {}
        },
        {
          "output_type": "display_data",
          "data": {
            "text/plain": [
              "<IPython.core.display.Javascript object>"
            ],
            "application/javascript": [
              "window[\"0dcd50f6-ae6d-11ed-97be-0242ac1c000c\"] = document.querySelector(\"#id72-1-1\");\n",
              "//# sourceURL=js_6cabf48fb8"
            ]
          },
          "metadata": {}
        },
        {
          "output_type": "display_data",
          "data": {
            "text/plain": [
              "<IPython.core.display.Javascript object>"
            ],
            "application/javascript": [
              "window[\"0dcdeda4-ae6d-11ed-97be-0242ac1c000c\"] = google.colab.output.setActiveOutputArea(window[\"0dcd50f6-ae6d-11ed-97be-0242ac1c000c\"]);\n",
              "//# sourceURL=js_df9b9742af"
            ]
          },
          "metadata": {}
        },
        {
          "output_type": "display_data",
          "data": {
            "text/plain": [
              "<IPython.core.display.Javascript object>"
            ],
            "application/javascript": [
              "window[\"0dd561f6-ae6d-11ed-97be-0242ac1c000c\"] = google.colab.output.setActiveOutputArea(window[\"0dcd06be-ae6d-11ed-97be-0242ac1c000c\"]);\n",
              "//# sourceURL=js_f0563fd274"
            ]
          },
          "metadata": {}
        },
        {
          "output_type": "display_data",
          "data": {
            "text/plain": [
              "<IPython.core.display.Javascript object>"
            ],
            "application/javascript": [
              "window[\"0e723120-ae6d-11ed-97be-0242ac1c000c\"] = google.colab.output.getActiveOutputArea();\n",
              "//# sourceURL=js_6c588d4c85"
            ]
          },
          "metadata": {}
        },
        {
          "output_type": "display_data",
          "data": {
            "text/plain": [
              "<IPython.core.display.Javascript object>"
            ],
            "application/javascript": [
              "window[\"0e728f1c-ae6d-11ed-97be-0242ac1c000c\"] = document.querySelector(\"#id72-1-0\");\n",
              "//# sourceURL=js_8ad98cd8ef"
            ]
          },
          "metadata": {}
        },
        {
          "output_type": "display_data",
          "data": {
            "text/plain": [
              "<IPython.core.display.Javascript object>"
            ],
            "application/javascript": [
              "window[\"0e731da6-ae6d-11ed-97be-0242ac1c000c\"] = google.colab.output.setActiveOutputArea(window[\"0e728f1c-ae6d-11ed-97be-0242ac1c000c\"]);\n",
              "//# sourceURL=js_d858d6e109"
            ]
          },
          "metadata": {}
        },
        {
          "output_type": "display_data",
          "data": {
            "text/plain": [
              "<Figure size 432x288 with 1 Axes>"
            ],
            "image/png": "[encoded data removed]"
          },
          "metadata": {
            "needs_background": "light"
          }
        },
        {
          "output_type": "display_data",
          "data": {
            "text/plain": [
              "<IPython.core.display.Javascript object>"
            ],
            "application/javascript": [
              "window[\"0e931674-ae6d-11ed-97be-0242ac1c000c\"] = google.colab.output.setActiveOutputArea(window[\"0e723120-ae6d-11ed-97be-0242ac1c000c\"]);\n",
              "//# sourceURL=js_540d85104b"
            ]
          },
          "metadata": {}
        },
        {
          "output_type": "display_data",
          "data": {
            "text/plain": [
              "<IPython.core.display.Javascript object>"
            ],
            "application/javascript": [
              "window[\"0e97e078-ae6d-11ed-97be-0242ac1c000c\"] = google.colab.output.getActiveOutputArea();\n",
              "//# sourceURL=js_05c9c9db6e"
            ]
          },
          "metadata": {}
        },
        {
          "output_type": "display_data",
          "data": {
            "text/plain": [
              "<IPython.core.display.Javascript object>"
            ],
            "application/javascript": [
              "window[\"0e984126-ae6d-11ed-97be-0242ac1c000c\"] = document.querySelector(\"#id72-1-1\");\n",
              "//# sourceURL=js_612d5c163c"
            ]
          },
          "metadata": {}
        },
        {
          "output_type": "display_data",
          "data": {
            "text/plain": [
              "<IPython.core.display.Javascript object>"
            ],
            "application/javascript": [
              "window[\"0e98a8e6-ae6d-11ed-97be-0242ac1c000c\"] = google.colab.output.setActiveOutputArea(window[\"0e984126-ae6d-11ed-97be-0242ac1c000c\"]);\n",
              "//# sourceURL=js_44fa44de14"
            ]
          },
          "metadata": {}
        },
        {
          "output_type": "display_data",
          "data": {
            "text/html": [
              "<html>\n",
              "<head><meta charset=\"utf-8\" /></head>\n",
              "<body>\n",
              "    <div>            <script src=\"https://cdnjs.cloudflare.com/ajax/libs/mathjax/2.7.5/MathJax.js?config=TeX-AMS-MML_SVG\"></script><script type=\"text/javascript\">if (window.MathJax) {MathJax.Hub.Config({SVG: {font: \"STIX-Web\"}});}</script>                <script type=\"text/javascript\">window.PlotlyConfig = {MathJaxConfig: 'local'};</script>\n",
              "        <script src=\"https://cdn.plot.ly/plotly-2.8.3.min.js\"></script>                <div id=\"51ca6252-70ac-4b44-9d18-238ee9789717\" class=\"plotly-graph-div\" style=\"height:248px; width:372px;\"></div>            <script type=\"text/javascript\">                                    window.PLOTLYENV=window.PLOTLYENV || {};                                    if (document.getElementById(\"51ca6252-70ac-4b44-9d18-238ee9789717\")) {                    Plotly.newPlot(                        \"51ca6252-70ac-4b44-9d18-238ee9789717\",                        [{\"mode\":\"markers\",\"name\":\"train\",\"x\":[-1.0,-0.9797979593276978,-0.9595959782600403,-0.939393937587738,-0.9191918969154358,-0.8989899158477783,-0.8787878751754761,-0.8585858345031738,-0.8383838534355164,-0.8181818127632141,-0.7979798316955566,-0.7777777910232544,-0.7575757503509521,-0.7373737692832947,-0.7171717286109924,-0.696969747543335,-0.6767677068710327,-0.6565656661987305,-0.636363685131073,-0.6161616444587708,-0.5959596037864685,-0.575757622718811,-0.5555555820465088,-0.5353535413742065,-0.5151515007019043,-0.49494948983192444,-0.4747474491596222,-0.45454543828964233,-0.4343434274196625,-0.4141414165496826,-0.39393937587738037,-0.3737373650074005,-0.35353535413742065,-0.3333333432674408,-0.31313130259513855,-0.2929292917251587,-0.27272728085517883,-0.252525269985199,-0.23232322931289673,-0.21212121844291687,-0.19191919267177582,-0.17171716690063477,-0.1515151560306549,-0.13131313025951385,-0.1111111119389534,-0.09090909361839294,-0.07070706784725189,-0.050505056977272034,-0.03030303120613098,-0.010101011022925377,0.010101009160280228,0.03030303120613098,0.05050504952669144,0.07070706784725189,0.09090909361839294,0.1111111044883728,0.13131313025951385,0.1515151560306549,0.17171716690063477,0.19191919267177582,0.21212121844291687,0.23232322931289673,0.252525269985199,0.27272725105285645,0.2929292917251587,0.31313130259513855,0.3333333432674408,0.35353535413742065,0.3737373650074005,0.39393937587738037,0.4141414165496826,0.4343434274196625,0.4545454680919647,0.4747474789619446,0.4949495196342468,0.5151515007019043,0.5353535413742065,0.5555555820465088,0.575757622718811,0.5959596037864685,0.6161616444587708,0.636363685131073,0.6565656661987305,0.6767677068710327,0.696969747543335,0.7171717286109924,0.7373737692832947,0.7575757503509521,0.7777777910232544,0.7979798316955566,0.8181818127632141,0.8383838534355164,0.8585858941078186,0.8787878751754761,0.8989899158477783,0.9191919565200806,0.939393937587738,0.9595959782600403,0.9797979593276978,1.0],\"y\":[1.1493198871612549,1.0175453424453735,0.9969156980514526,0.9133670926094055,1.0020508766174316,0.8920481204986572,0.7975130081176758,0.7529940605163574,0.7290166616439819,0.6940019726753235,0.8335586786270142,0.78482985496521,0.6625251173973083,0.5592999458312988,0.613200843334198,0.5407754182815552,0.595768928527832,0.49582862854003906,0.5884029865264893,0.508937418460846,0.5527706742286682,0.3858993649482727,0.3952685594558716,0.39820587635040283,0.33604609966278076,0.2653789818286896,0.3157784640789032,0.39577656984329224,0.2590829133987427,0.3391917943954468,0.24030649662017822,0.15950420498847961,0.21103498339653015,0.27578145265579224,0.18156437575817108,0.23063474893569946,0.21677181124687195,0.09434185922145844,0.07561428844928741,0.10357700288295746,0.23176537454128265,0.03404141217470169,0.03745705634355545,0.15992328524589539,0.1478535532951355,0.13272130489349365,0.037563689053058624,0.171612948179245,0.1671571433544159,0.03441223129630089,0.16166561841964722,0.20043395459651947,0.016768530011177063,0.0520896278321743,0.1515728235244751,0.15185119211673737,0.10228458046913147,0.18492251634597778,0.03675542771816254,0.054262496531009674,0.09141023457050323,0.16407957673072815,0.25888344645500183,0.23796683549880981,0.25910311937332153,0.23605507612228394,0.19328337907791138,0.20561833679676056,0.21924114227294922,0.2791213393211365,0.3373793959617615,0.2924235165119171,0.37670910358428955,0.2749243378639221,0.4400864839553833,0.43820255994796753,0.4785422682762146,0.31603917479515076,0.4588603079319,0.5005967617034912,0.4505600929260254,0.49053555727005005,0.5908702611923218,0.616483211517334,0.5313754677772522,0.690961480140686,0.668764054775238,0.5836713910102844,0.679385781288147,0.7345564365386963,0.7970809936523438,0.7527557611465454,0.8774309158325195,0.8728136420249939,0.9888330101966858,0.9646710753440857,1.0393383502960205,1.0672696828842163,0.9740682244300842,1.1865160465240479],\"type\":\"scatter\"},{\"line\":{\"color\":\"red\",\"width\":5},\"mode\":\"lines\",\"name\":\"prediction\",\"x\":[-1.0,-0.9797979593276978,-0.9595959782600403,-0.939393937587738,-0.9191918969154358,-0.8989899158477783,-0.8787878751754761,-0.8585858345031738,-0.8383838534355164,-0.8181818127632141,-0.7979798316955566,-0.7777777910232544,-0.7575757503509521,-0.7373737692832947,-0.7171717286109924,-0.696969747543335,-0.6767677068710327,-0.6565656661987305,-0.636363685131073,-0.6161616444587708,-0.5959596037864685,-0.575757622718811,-0.5555555820465088,-0.5353535413742065,-0.5151515007019043,-0.49494948983192444,-0.4747474491596222,-0.45454543828964233,-0.4343434274196625,-0.4141414165496826,-0.39393937587738037,-0.3737373650074005,-0.35353535413742065,-0.3333333432674408,-0.31313130259513855,-0.2929292917251587,-0.27272728085517883,-0.252525269985199,-0.23232322931289673,-0.21212121844291687,-0.19191919267177582,-0.17171716690063477,-0.1515151560306549,-0.13131313025951385,-0.1111111119389534,-0.09090909361839294,-0.07070706784725189,-0.050505056977272034,-0.03030303120613098,-0.010101011022925377,0.010101009160280228,0.03030303120613098,0.05050504952669144,0.07070706784725189,0.09090909361839294,0.1111111044883728,0.13131313025951385,0.1515151560306549,0.17171716690063477,0.19191919267177582,0.21212121844291687,0.23232322931289673,0.252525269985199,0.27272725105285645,0.2929292917251587,0.31313130259513855,0.3333333432674408,0.35353535413742065,0.3737373650074005,0.39393937587738037,0.4141414165496826,0.4343434274196625,0.4545454680919647,0.4747474789619446,0.4949495196342468,0.5151515007019043,0.5353535413742065,0.5555555820465088,0.575757622718811,0.5959596037864685,0.6161616444587708,0.636363685131073,0.6565656661987305,0.6767677068710327,0.696969747543335,0.7171717286109924,0.7373737692832947,0.7575757503509521,0.7777777910232544,0.7979798316955566,0.8181818127632141,0.8383838534355164,0.8585858941078186,0.8787878751754761,0.8989899158477783,0.9191919565200806,0.939393937587738,0.9595959782600403,0.9797979593276978,1.0],\"y\":[0.3543800711631775,0.3543800711631775,0.3543800711631775,0.3543800711631775,0.3543800711631775,0.3543800711631775,0.3543800711631775,0.3543800711631775,0.3543800711631775,0.3543800711631775,0.3543800711631775,0.3543800711631775,0.3543800711631775,0.3543800711631775,0.3543800711631775,0.3543800711631775,0.3543800711631775,0.3543800711631775,0.3543800711631775,0.3543800711631775,0.3543800711631775,0.3543800711631775,0.3543800711631775,0.3543800711631775,0.3543800711631775,0.3543800711631775,0.3543800711631775,0.3543800711631775,0.3543800711631775,0.3543800711631775,0.3543800711631775,0.3543800711631775,0.3543800711631775,0.3543800711631775,0.3543800711631775,0.3543800711631775,0.3543800711631775,0.3543800711631775,0.3543800711631775,0.3543800711631775,0.3543800711631775,0.3543800711631775,0.3543800711631775,0.3543800711631775,0.3543800711631775,0.3543800711631775,0.3543800711631775,0.3543800711631775,0.3543800711631775,0.3543800711631775,0.3543800711631775,0.3543800711631775,0.3543800711631775,0.3543800711631775,0.3543800711631775,0.3543800711631775,0.3543800711631775,0.3543800711631775,0.3543800711631775,0.3543800711631775,0.3543800711631775,0.3543800711631775,0.3543800711631775,0.3543800711631775,0.3543800711631775,0.3543800711631775,0.3543800711631775,0.3543800711631775,0.3543800711631775,0.3543800711631775,0.3543800711631775,0.3543800711631775,0.3543800711631775,0.3543800711631775,0.3554644286632538,0.37833961844444275,0.4063565135002136,0.4343734085559845,0.46239030361175537,0.4904071092605591,0.5184240341186523,0.5464408993721008,0.5744577050209045,0.6024746298789978,0.6304914951324463,0.65850830078125,0.6865252256393433,0.714542031288147,0.7425589561462402,0.7705758213996887,0.7985926270484924,0.8266094923019409,0.8546263575553894,0.8826432228088379,0.9106600880622864,0.9386770129203796,0.9666938185691833,0.9947107434272766,1.0227274894714355,1.0507444143295288],\"type\":\"scatter\"}],                        {\"template\":{\"data\":{\"bar\":[{\"error_x\":{\"color\":\"#2a3f5f\"},\"error_y\":{\"color\":\"#2a3f5f\"},\"marker\":{\"line\":{\"color\":\"#E5ECF6\",\"width\":0.5},\"pattern\":{\"fillmode\":\"overlay\",\"size\":10,\"solidity\":0.2}},\"type\":\"bar\"}],\"barpolar\":[{\"marker\":{\"line\":{\"color\":\"#E5ECF6\",\"width\":0.5},\"pattern\":{\"fillmode\":\"overlay\",\"size\":10,\"solidity\":0.2}},\"type\":\"barpolar\"}],\"carpet\":[{\"aaxis\":{\"endlinecolor\":\"#2a3f5f\",\"gridcolor\":\"white\",\"linecolor\":\"white\",\"minorgridcolor\":\"white\",\"startlinecolor\":\"#2a3f5f\"},\"baxis\":{\"endlinecolor\":\"#2a3f5f\",\"gridcolor\":\"white\",\"linecolor\":\"white\",\"minorgridcolor\":\"white\",\"startlinecolor\":\"#2a3f5f\"},\"type\":\"carpet\"}],\"choropleth\":[{\"colorbar\":{\"outlinewidth\":0,\"ticks\":\"\"},\"type\":\"choropleth\"}],\"contour\":[{\"colorbar\":{\"outlinewidth\":0,\"ticks\":\"\"},\"colorscale\":[[0.0,\"#0d0887\"],[0.1111111111111111,\"#46039f\"],[0.2222222222222222,\"#7201a8\"],[0.3333333333333333,\"#9c179e\"],[0.4444444444444444,\"#bd3786\"],[0.5555555555555556,\"#d8576b\"],[0.6666666666666666,\"#ed7953\"],[0.7777777777777778,\"#fb9f3a\"],[0.8888888888888888,\"#fdca26\"],[1.0,\"#f0f921\"]],\"type\":\"contour\"}],\"contourcarpet\":[{\"colorbar\":{\"outlinewidth\":0,\"ticks\":\"\"},\"type\":\"contourcarpet\"}],\"heatmap\":[{\"colorbar\":{\"outlinewidth\":0,\"ticks\":\"\"},\"colorscale\":[[0.0,\"#0d0887\"],[0.1111111111111111,\"#46039f\"],[0.2222222222222222,\"#7201a8\"],[0.3333333333333333,\"#9c179e\"],[0.4444444444444444,\"#bd3786\"],[0.5555555555555556,\"#d8576b\"],[0.6666666666666666,\"#ed7953\"],[0.7777777777777778,\"#fb9f3a\"],[0.8888888888888888,\"#fdca26\"],[1.0,\"#f0f921\"]],\"type\":\"heatmap\"}],\"heatmapgl\":[{\"colorbar\":{\"outlinewidth\":0,\"ticks\":\"\"},\"colorscale\":[[0.0,\"#0d0887\"],[0.1111111111111111,\"#46039f\"],[0.2222222222222222,\"#7201a8\"],[0.3333333333333333,\"#9c179e\"],[0.4444444444444444,\"#bd3786\"],[0.5555555555555556,\"#d8576b\"],[0.6666666666666666,\"#ed7953\"],[0.7777777777777778,\"#fb9f3a\"],[0.8888888888888888,\"#fdca26\"],[1.0,\"#f0f921\"]],\"type\":\"heatmapgl\"}],\"histogram\":[{\"marker\":{\"pattern\":{\"fillmode\":\"overlay\",\"size\":10,\"solidity\":0.2}},\"type\":\"histogram\"}],\"histogram2d\":[{\"colorbar\":{\"outlinewidth\":0,\"ticks\":\"\"},\"colorscale\":[[0.0,\"#0d0887\"],[0.1111111111111111,\"#46039f\"],[0.2222222222222222,\"#7201a8\"],[0.3333333333333333,\"#9c179e\"],[0.4444444444444444,\"#bd3786\"],[0.5555555555555556,\"#d8576b\"],[0.6666666666666666,\"#ed7953\"],[0.7777777777777778,\"#fb9f3a\"],[0.8888888888888888,\"#fdca26\"],[1.0,\"#f0f921\"]],\"type\":\"histogram2d\"}],\"histogram2dcontour\":[{\"colorbar\":{\"outlinewidth\":0,\"ticks\":\"\"},\"colorscale\":[[0.0,\"#0d0887\"],[0.1111111111111111,\"#46039f\"],[0.2222222222222222,\"#7201a8\"],[0.3333333333333333,\"#9c179e\"],[0.4444444444444444,\"#bd3786\"],[0.5555555555555556,\"#d8576b\"],[0.6666666666666666,\"#ed7953\"],[0.7777777777777778,\"#fb9f3a\"],[0.8888888888888888,\"#fdca26\"],[1.0,\"#f0f921\"]],\"type\":\"histogram2dcontour\"}],\"mesh3d\":[{\"colorbar\":{\"outlinewidth\":0,\"ticks\":\"\"},\"type\":\"mesh3d\"}],\"parcoords\":[{\"line\":{\"colorbar\":{\"outlinewidth\":0,\"ticks\":\"\"}},\"type\":\"parcoords\"}],\"pie\":[{\"automargin\":true,\"type\":\"pie\"}],\"scatter\":[{\"marker\":{\"colorbar\":{\"outlinewidth\":0,\"ticks\":\"\"}},\"type\":\"scatter\"}],\"scatter3d\":[{\"line\":{\"colorbar\":{\"outlinewidth\":0,\"ticks\":\"\"}},\"marker\":{\"colorbar\":{\"outlinewidth\":0,\"ticks\":\"\"}},\"type\":\"scatter3d\"}],\"scattercarpet\":[{\"marker\":{\"colorbar\":{\"outlinewidth\":0,\"ticks\":\"\"}},\"type\":\"scattercarpet\"}],\"scattergeo\":[{\"marker\":{\"colorbar\":{\"outlinewidth\":0,\"ticks\":\"\"}},\"type\":\"scattergeo\"}],\"scattergl\":[{\"marker\":{\"colorbar\":{\"outlinewidth\":0,\"ticks\":\"\"}},\"type\":\"scattergl\"}],\"scattermapbox\":[{\"marker\":{\"colorbar\":{\"outlinewidth\":0,\"ticks\":\"\"}},\"type\":\"scattermapbox\"}],\"scatterpolar\":[{\"marker\":{\"colorbar\":{\"outlinewidth\":0,\"ticks\":\"\"}},\"type\":\"scatterpolar\"}],\"scatterpolargl\":[{\"marker\":{\"colorbar\":{\"outlinewidth\":0,\"ticks\":\"\"}},\"type\":\"scatterpolargl\"}],\"scatterternary\":[{\"marker\":{\"colorbar\":{\"outlinewidth\":0,\"ticks\":\"\"}},\"type\":\"scatterternary\"}],\"surface\":[{\"colorbar\":{\"outlinewidth\":0,\"ticks\":\"\"},\"colorscale\":[[0.0,\"#0d0887\"],[0.1111111111111111,\"#46039f\"],[0.2222222222222222,\"#7201a8\"],[0.3333333333333333,\"#9c179e\"],[0.4444444444444444,\"#bd3786\"],[0.5555555555555556,\"#d8576b\"],[0.6666666666666666,\"#ed7953\"],[0.7777777777777778,\"#fb9f3a\"],[0.8888888888888888,\"#fdca26\"],[1.0,\"#f0f921\"]],\"type\":\"surface\"}],\"table\":[{\"cells\":{\"fill\":{\"color\":\"#EBF0F8\"},\"line\":{\"color\":\"white\"}},\"header\":{\"fill\":{\"color\":\"#C8D4E3\"},\"line\":{\"color\":\"white\"}},\"type\":\"table\"}]},\"layout\":{\"annotationdefaults\":{\"arrowcolor\":\"#2a3f5f\",\"arrowhead\":0,\"arrowwidth\":1},\"autotypenumbers\":\"strict\",\"coloraxis\":{\"colorbar\":{\"outlinewidth\":0,\"ticks\":\"\"}},\"colorscale\":{\"diverging\":[[0,\"#8e0152\"],[0.1,\"#c51b7d\"],[0.2,\"#de77ae\"],[0.3,\"#f1b6da\"],[0.4,\"#fde0ef\"],[0.5,\"#f7f7f7\"],[0.6,\"#e6f5d0\"],[0.7,\"#b8e186\"],[0.8,\"#7fbc41\"],[0.9,\"#4d9221\"],[1,\"#276419\"]],\"sequential\":[[0.0,\"#0d0887\"],[0.1111111111111111,\"#46039f\"],[0.2222222222222222,\"#7201a8\"],[0.3333333333333333,\"#9c179e\"],[0.4444444444444444,\"#bd3786\"],[0.5555555555555556,\"#d8576b\"],[0.6666666666666666,\"#ed7953\"],[0.7777777777777778,\"#fb9f3a\"],[0.8888888888888888,\"#fdca26\"],[1.0,\"#f0f921\"]],\"sequentialminus\":[[0.0,\"#0d0887\"],[0.1111111111111111,\"#46039f\"],[0.2222222222222222,\"#7201a8\"],[0.3333333333333333,\"#9c179e\"],[0.4444444444444444,\"#bd3786\"],[0.5555555555555556,\"#d8576b\"],[0.6666666666666666,\"#ed7953\"],[0.7777777777777778,\"#fb9f3a\"],[0.8888888888888888,\"#fdca26\"],[1.0,\"#f0f921\"]]},\"colorway\":[\"#636efa\",\"#EF553B\",\"#00cc96\",\"#ab63fa\",\"#FFA15A\",\"#19d3f3\",\"#FF6692\",\"#B6E880\",\"#FF97FF\",\"#FECB52\"],\"font\":{\"color\":\"#2a3f5f\"},\"geo\":{\"bgcolor\":\"white\",\"lakecolor\":\"white\",\"landcolor\":\"#E5ECF6\",\"showlakes\":true,\"showland\":true,\"subunitcolor\":\"white\"},\"hoverlabel\":{\"align\":\"left\"},\"hovermode\":\"closest\",\"mapbox\":{\"style\":\"light\"},\"paper_bgcolor\":\"white\",\"plot_bgcolor\":\"#E5ECF6\",\"polar\":{\"angularaxis\":{\"gridcolor\":\"white\",\"linecolor\":\"white\",\"ticks\":\"\"},\"bgcolor\":\"#E5ECF6\",\"radialaxis\":{\"gridcolor\":\"white\",\"linecolor\":\"white\",\"ticks\":\"\"}},\"scene\":{\"xaxis\":{\"backgroundcolor\":\"#E5ECF6\",\"gridcolor\":\"white\",\"gridwidth\":2,\"linecolor\":\"white\",\"showbackground\":true,\"ticks\":\"\",\"zerolinecolor\":\"white\"},\"yaxis\":{\"backgroundcolor\":\"#E5ECF6\",\"gridcolor\":\"white\",\"gridwidth\":2,\"linecolor\":\"white\",\"showbackground\":true,\"ticks\":\"\",\"zerolinecolor\":\"white\"},\"zaxis\":{\"backgroundcolor\":\"#E5ECF6\",\"gridcolor\":\"white\",\"gridwidth\":2,\"linecolor\":\"white\",\"showbackground\":true,\"ticks\":\"\",\"zerolinecolor\":\"white\"}},\"shapedefaults\":{\"line\":{\"color\":\"#2a3f5f\"}},\"ternary\":{\"aaxis\":{\"gridcolor\":\"white\",\"linecolor\":\"white\",\"ticks\":\"\"},\"baxis\":{\"gridcolor\":\"white\",\"linecolor\":\"white\",\"ticks\":\"\"},\"bgcolor\":\"#E5ECF6\",\"caxis\":{\"gridcolor\":\"white\",\"linecolor\":\"white\",\"ticks\":\"\"}},\"title\":{\"x\":0.05},\"xaxis\":{\"automargin\":true,\"gridcolor\":\"white\",\"linecolor\":\"white\",\"ticks\":\"\",\"title\":{\"standoff\":15},\"zerolinecolor\":\"white\",\"zerolinewidth\":2},\"yaxis\":{\"automargin\":true,\"gridcolor\":\"white\",\"linecolor\":\"white\",\"ticks\":\"\",\"title\":{\"standoff\":15},\"zerolinecolor\":\"white\",\"zerolinewidth\":2}}},\"margin\":{\"l\":20,\"r\":20,\"t\":20,\"b\":20},\"legend\":{\"yanchor\":\"top\",\"y\":0.99,\"xanchor\":\"center\",\"x\":0.5},\"annotations\":[{\"showarrow\":false,\"text\":\"Loss=0.0594\",\"x\":0.5,\"y\":0}],\"width\":372,\"height\":248},                        {\"responsive\": true}                    ).then(function(){\n",
              "                            \n",
              "var gd = document.getElementById('51ca6252-70ac-4b44-9d18-238ee9789717');\n",
              "var x = new MutationObserver(function (mutations, observer) {{\n",
              "        var display = window.getComputedStyle(gd).display;\n",
              "        if (!display || display === 'none') {{\n",
              "            console.log([gd, 'removed!']);\n",
              "            Plotly.purge(gd);\n",
              "            observer.disconnect();\n",
              "        }}\n",
              "}});\n",
              "\n",
              "// Listen for the removal of the full notebook cells\n",
              "var notebookContainer = gd.closest('#notebook-container');\n",
              "if (notebookContainer) {{\n",
              "    x.observe(notebookContainer, {childList: true});\n",
              "}}\n",
              "\n",
              "// Listen for the clearing of the current output cell\n",
              "var outputEl = gd.closest('.output');\n",
              "if (outputEl) {{\n",
              "    x.observe(outputEl, {childList: true});\n",
              "}}\n",
              "\n",
              "                        })                };                            </script>        </div>\n",
              "</body>\n",
              "</html>"
            ]
          },
          "metadata": {}
        },
        {
          "output_type": "display_data",
          "data": {
            "text/plain": [
              "<IPython.core.display.Javascript object>"
            ],
            "application/javascript": [
              "window[\"0e9deb3a-ae6d-11ed-97be-0242ac1c000c\"] = google.colab.output.setActiveOutputArea(window[\"0e97e078-ae6d-11ed-97be-0242ac1c000c\"]);\n",
              "//# sourceURL=js_99ab3e8010"
            ]
          },
          "metadata": {}
        }
      ]
    },
    {
      "cell_type": "code",
      "source": [],
      "metadata": {
        "id": "MWHMPZvSEUol"
      },
      "execution_count": 5,
      "outputs": []
    }
  ]
}