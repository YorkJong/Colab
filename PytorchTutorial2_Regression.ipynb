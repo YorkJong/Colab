{
  "nbformat": 4,
  "nbformat_minor": 0,
  "metadata": {
    "colab": {
      "provenance": [],
      "authorship_tag": "ABX9TyPBJmFX+BAWghEqIGT17h9M",
      "include_colab_link": true
    },
    "kernelspec": {
      "name": "python3",
      "display_name": "Python 3"
    },
    "language_info": {
      "name": "python"
    }
  },
  "cells": [
    {
      "cell_type": "markdown",
      "metadata": {
        "id": "view-in-github",
        "colab_type": "text"
      },
      "source": [
        "<a href=\"https://colab.research.google.com/github/YorkJong/Colab/blob/main/PytorchTutorial2_Regression.ipynb\" target=\"_parent\"><img src=\"https://colab.research.google.com/assets/colab-badge.svg\" alt=\"Open In Colab\"/></a>"
      ]
    },
    {
      "cell_type": "markdown",
      "source": [
        "[莫凡Pytorch教程（二）：Pytorch回归模型搭建](https://juejin.cn/post/7089612360226177037)\n",
        "\n"
      ],
      "metadata": {
        "id": "56vfv49DLxJj"
      }
    },
    {
      "cell_type": "code",
      "source": [
        "import time\n",
        "import torch\n",
        "import torch.nn.functional as F\n",
        "import matplotlib.pyplot as plt\n",
        "import plotly.express as px\n",
        "import plotly.graph_objs as go\n",
        "from google.colab import widgets\n",
        "\n",
        "# x data (tensor), shape=(100, 1)\n",
        "x = torch.unsqueeze(torch.linspace(-1, 1, 100), dim=1)   \n",
        "#x = torch.linspace(-1, 1, 100)\n",
        "\n",
        "# noisy y data (tensor), shape=(100, 1)\n",
        "y = x.pow(2) + 0.2*torch.rand(x.size())                  \n",
        "\n",
        "print(\"x.shape:\", x.shape)\n",
        "print(\"y.shape:\", y.shape)"
      ],
      "metadata": {
        "colab": {
          "base_uri": "https://localhost:8080/"
        },
        "id": "M1a7djnbL4AF",
        "outputId": "c9194a48-2d55-4daa-cfaa-eb2ccd554979"
      },
      "execution_count": 2,
      "outputs": [
        {
          "output_type": "stream",
          "name": "stdout",
          "text": [
            "x.shape: torch.Size([100, 1])\n",
            "y.shape: torch.Size([100, 1])\n"
          ]
        }
      ]
    },
    {
      "cell_type": "code",
      "source": [
        "grid = widgets.Grid(1, 2)\n",
        "\n",
        "# Scatter with matplotlib\n",
        "with grid.output_to(0, 0):\n",
        "    plt.scatter(x, y)\n",
        "    plt.show()\n",
        "\n",
        "# Scatter with Plotly\n",
        "with grid.output_to(0, 1):\n",
        "    #fig = go.Figure(layout=go.Layout(width=500, height=500))\n",
        "    #fig.add_trace(go.Scatter(y=y[:,0], x=x[:,0], mode='markers'))\n",
        "    fig = px.scatter(y=y[:,0], x=x[:,0], width=500, height=400)\n",
        "    fig.update_layout(\n",
        "        width=400, height=250,\n",
        "        margin=dict(l=20, r=20, t=20, b=20),\n",
        "    )\n",
        "    fig.show()"
      ],
      "metadata": {
        "colab": {
          "base_uri": "https://localhost:8080/",
          "height": 271
        },
        "id": "1ukmLew0MQ30",
        "outputId": "c4ee45fb-5cf6-4843-b87d-ddad6f5b798d"
      },
      "execution_count": 3,
      "outputs": [
        {
          "output_type": "display_data",
          "data": {
            "text/plain": [
              "<IPython.core.display.HTML object>"
            ],
            "text/html": [
              "<style>\n",
              "       table#id2, #id2 > tbody > tr > th, #id2 > tbody > tr > td {\n",
              "         border: 1px solid lightgray;\n",
              "         border-collapse:collapse;\n",
              "         \n",
              "        }</style>"
            ]
          },
          "metadata": {}
        },
        {
          "output_type": "display_data",
          "data": {
            "text/plain": [
              "<IPython.core.display.HTML object>"
            ],
            "text/html": [
              "<table id=id2><tr><td id=id2-0-0></td><td id=id2-0-1></td></tr></table>"
            ]
          },
          "metadata": {}
        },
        {
          "output_type": "display_data",
          "data": {
            "text/plain": [
              "<IPython.core.display.Javascript object>"
            ],
            "application/javascript": [
              "window[\"dd6c09cc-ae06-11ed-8380-0242ac1c000c\"] = google.colab.output.getActiveOutputArea();\n",
              "//# sourceURL=js_8093bcdd15"
            ]
          },
          "metadata": {}
        },
        {
          "output_type": "display_data",
          "data": {
            "text/plain": [
              "<IPython.core.display.Javascript object>"
            ],
            "application/javascript": [
              "window[\"dd6d5804-ae06-11ed-8380-0242ac1c000c\"] = document.querySelector(\"#id2-0-0\");\n",
              "//# sourceURL=js_0c371fe585"
            ]
          },
          "metadata": {}
        },
        {
          "output_type": "display_data",
          "data": {
            "text/plain": [
              "<IPython.core.display.Javascript object>"
            ],
            "application/javascript": [
              "window[\"dd72d928-ae06-11ed-8380-0242ac1c000c\"] = google.colab.output.setActiveOutputArea(window[\"dd6d5804-ae06-11ed-8380-0242ac1c000c\"]);\n",
              "//# sourceURL=js_147c1673df"
            ]
          },
          "metadata": {}
        },
        {
          "output_type": "display_data",
          "data": {
            "text/plain": [
              "<Figure size 432x288 with 1 Axes>"
            ],
            "image/png": "[encoded data removed]"
          },
          "metadata": {
            "needs_background": "light"
          }
        },
        {
          "output_type": "display_data",
          "data": {
            "text/plain": [
              "<IPython.core.display.Javascript object>"
            ],
            "application/javascript": [
              "window[\"de0eda30-ae06-11ed-8380-0242ac1c000c\"] = google.colab.output.setActiveOutputArea(window[\"dd6c09cc-ae06-11ed-8380-0242ac1c000c\"]);\n",
              "//# sourceURL=js_e5130201df"
            ]
          },
          "metadata": {}
        },
        {
          "output_type": "display_data",
          "data": {
            "text/plain": [
              "<IPython.core.display.Javascript object>"
            ],
            "application/javascript": [
              "window[\"de1dc43c-ae06-11ed-8380-0242ac1c000c\"] = google.colab.output.getActiveOutputArea();\n",
              "//# sourceURL=js_fcef875988"
            ]
          },
          "metadata": {}
        },
        {
          "output_type": "display_data",
          "data": {
            "text/plain": [
              "<IPython.core.display.Javascript object>"
            ],
            "application/javascript": [
              "window[\"de1fab80-ae06-11ed-8380-0242ac1c000c\"] = document.querySelector(\"#id2-0-1\");\n",
              "//# sourceURL=js_c065427020"
            ]
          },
          "metadata": {}
        },
        {
          "output_type": "display_data",
          "data": {
            "text/plain": [
              "<IPython.core.display.Javascript object>"
            ],
            "application/javascript": [
              "window[\"de20db72-ae06-11ed-8380-0242ac1c000c\"] = google.colab.output.setActiveOutputArea(window[\"de1fab80-ae06-11ed-8380-0242ac1c000c\"]);\n",
              "//# sourceURL=js_ab7a8dedb7"
            ]
          },
          "metadata": {}
        },
        {
          "output_type": "display_data",
          "data": {
            "text/html": [
              "<html>\n",
              "<head><meta charset=\"utf-8\" /></head>\n",
              "<body>\n",
              "    <div>            <script src=\"https://cdnjs.cloudflare.com/ajax/libs/mathjax/2.7.5/MathJax.js?config=TeX-AMS-MML_SVG\"></script><script type=\"text/javascript\">if (window.MathJax) {MathJax.Hub.Config({SVG: {font: \"STIX-Web\"}});}</script>                <script type=\"text/javascript\">window.PlotlyConfig = {MathJaxConfig: 'local'};</script>\n",
              "        <script src=\"https://cdn.plot.ly/plotly-2.8.3.min.js\"></script>                <div id=\"b7ce4703-0095-4b59-a2e6-80b881781ca1\" class=\"plotly-graph-div\" style=\"height:250px; width:400px;\"></div>            <script type=\"text/javascript\">                                    window.PLOTLYENV=window.PLOTLYENV || {};                                    if (document.getElementById(\"b7ce4703-0095-4b59-a2e6-80b881781ca1\")) {                    Plotly.newPlot(                        \"b7ce4703-0095-4b59-a2e6-80b881781ca1\",                        [{\"hovertemplate\":\"x=%{x}<br>y=%{y}<extra></extra>\",\"legendgroup\":\"\",\"marker\":{\"color\":\"#636efa\",\"symbol\":\"circle\"},\"mode\":\"markers\",\"name\":\"\",\"orientation\":\"v\",\"showlegend\":false,\"x\":[-1.0,-0.9797979593276978,-0.9595959782600403,-0.939393937587738,-0.9191918969154358,-0.8989899158477783,-0.8787878751754761,-0.8585858345031738,-0.8383838534355164,-0.8181818127632141,-0.7979798316955566,-0.7777777910232544,-0.7575757503509521,-0.7373737692832947,-0.7171717286109924,-0.696969747543335,-0.6767677068710327,-0.6565656661987305,-0.636363685131073,-0.6161616444587708,-0.5959596037864685,-0.575757622718811,-0.5555555820465088,-0.5353535413742065,-0.5151515007019043,-0.49494948983192444,-0.4747474491596222,-0.45454543828964233,-0.4343434274196625,-0.4141414165496826,-0.39393937587738037,-0.3737373650074005,-0.35353535413742065,-0.3333333432674408,-0.31313130259513855,-0.2929292917251587,-0.27272728085517883,-0.252525269985199,-0.23232322931289673,-0.21212121844291687,-0.19191919267177582,-0.17171716690063477,-0.1515151560306549,-0.13131313025951385,-0.1111111119389534,-0.09090909361839294,-0.07070706784725189,-0.050505056977272034,-0.03030303120613098,-0.010101011022925377,0.010101009160280228,0.03030303120613098,0.05050504952669144,0.07070706784725189,0.09090909361839294,0.1111111044883728,0.13131313025951385,0.1515151560306549,0.17171716690063477,0.19191919267177582,0.21212121844291687,0.23232322931289673,0.252525269985199,0.27272725105285645,0.2929292917251587,0.31313130259513855,0.3333333432674408,0.35353535413742065,0.3737373650074005,0.39393937587738037,0.4141414165496826,0.4343434274196625,0.4545454680919647,0.4747474789619446,0.4949495196342468,0.5151515007019043,0.5353535413742065,0.5555555820465088,0.575757622718811,0.5959596037864685,0.6161616444587708,0.636363685131073,0.6565656661987305,0.6767677068710327,0.696969747543335,0.7171717286109924,0.7373737692832947,0.7575757503509521,0.7777777910232544,0.7979798316955566,0.8181818127632141,0.8383838534355164,0.8585858941078186,0.8787878751754761,0.8989899158477783,0.9191919565200806,0.939393937587738,0.9595959782600403,0.9797979593276978,1.0],\"xaxis\":\"x\",\"y\":[1.165769100189209,1.0186151266098022,1.0687886476516724,1.0596816539764404,0.8794137239456177,0.9176005721092224,0.8237406015396118,0.8865528106689453,0.76075679063797,0.6992563605308533,0.7592936158180237,0.646009087562561,0.5772888660430908,0.6077374815940857,0.6375048160552979,0.5459951162338257,0.5239220857620239,0.5914134383201599,0.436815470457077,0.5439841747283936,0.3727233111858368,0.49870526790618896,0.4126293361186981,0.4381788969039917,0.37341028451919556,0.4083748459815979,0.3870311975479126,0.28941887617111206,0.2554875612258911,0.345861554145813,0.1578187197446823,0.2173701822757721,0.199172705411911,0.1823619306087494,0.2107623964548111,0.22759410738945007,0.13705295324325562,0.09948541224002838,0.211715430021286,0.11480351537466049,0.11663210391998291,0.1865878403186798,0.14010977745056152,0.13146443665027618,0.01637755148112774,0.1809929609298706,0.11480089277029037,0.14884376525878906,0.001029102597385645,0.09804607182741165,0.07595262676477432,0.18668214976787567,0.03242852911353111,0.01638546586036682,0.12825477123260498,0.17455916106700897,0.2011646181344986,0.10960403084754944,0.07556691020727158,0.2048080861568451,0.11160147190093994,0.2316405177116394,0.2584843039512634,0.25998345017433167,0.1676422357559204,0.1565403938293457,0.1343660056591034,0.3090193271636963,0.17693869769573212,0.16051360964775085,0.2650679051876068,0.24689632654190063,0.26633602380752563,0.411953330039978,0.27087077498435974,0.32386040687561035,0.39844802021980286,0.4404880404472351,0.4813193678855896,0.3914320170879364,0.4015597105026245,0.4777129292488098,0.6059499382972717,0.5114985108375549,0.5465640425682068,0.6553778648376465,0.6376886367797852,0.7559281587600708,0.6732328534126282,0.8230233192443848,0.695754885673523,0.7889435291290283,0.8460881114006042,0.8642594218254089,0.9148620367050171,0.9506844878196716,0.9399616718292236,0.9893357157707214,0.9790088534355164,1.1188404560089111],\"yaxis\":\"y\",\"type\":\"scatter\"}],                        {\"template\":{\"data\":{\"bar\":[{\"error_x\":{\"color\":\"#2a3f5f\"},\"error_y\":{\"color\":\"#2a3f5f\"},\"marker\":{\"line\":{\"color\":\"#E5ECF6\",\"width\":0.5},\"pattern\":{\"fillmode\":\"overlay\",\"size\":10,\"solidity\":0.2}},\"type\":\"bar\"}],\"barpolar\":[{\"marker\":{\"line\":{\"color\":\"#E5ECF6\",\"width\":0.5},\"pattern\":{\"fillmode\":\"overlay\",\"size\":10,\"solidity\":0.2}},\"type\":\"barpolar\"}],\"carpet\":[{\"aaxis\":{\"endlinecolor\":\"#2a3f5f\",\"gridcolor\":\"white\",\"linecolor\":\"white\",\"minorgridcolor\":\"white\",\"startlinecolor\":\"#2a3f5f\"},\"baxis\":{\"endlinecolor\":\"#2a3f5f\",\"gridcolor\":\"white\",\"linecolor\":\"white\",\"minorgridcolor\":\"white\",\"startlinecolor\":\"#2a3f5f\"},\"type\":\"carpet\"}],\"choropleth\":[{\"colorbar\":{\"outlinewidth\":0,\"ticks\":\"\"},\"type\":\"choropleth\"}],\"contour\":[{\"colorbar\":{\"outlinewidth\":0,\"ticks\":\"\"},\"colorscale\":[[0.0,\"#0d0887\"],[0.1111111111111111,\"#46039f\"],[0.2222222222222222,\"#7201a8\"],[0.3333333333333333,\"#9c179e\"],[0.4444444444444444,\"#bd3786\"],[0.5555555555555556,\"#d8576b\"],[0.6666666666666666,\"#ed7953\"],[0.7777777777777778,\"#fb9f3a\"],[0.8888888888888888,\"#fdca26\"],[1.0,\"#f0f921\"]],\"type\":\"contour\"}],\"contourcarpet\":[{\"colorbar\":{\"outlinewidth\":0,\"ticks\":\"\"},\"type\":\"contourcarpet\"}],\"heatmap\":[{\"colorbar\":{\"outlinewidth\":0,\"ticks\":\"\"},\"colorscale\":[[0.0,\"#0d0887\"],[0.1111111111111111,\"#46039f\"],[0.2222222222222222,\"#7201a8\"],[0.3333333333333333,\"#9c179e\"],[0.4444444444444444,\"#bd3786\"],[0.5555555555555556,\"#d8576b\"],[0.6666666666666666,\"#ed7953\"],[0.7777777777777778,\"#fb9f3a\"],[0.8888888888888888,\"#fdca26\"],[1.0,\"#f0f921\"]],\"type\":\"heatmap\"}],\"heatmapgl\":[{\"colorbar\":{\"outlinewidth\":0,\"ticks\":\"\"},\"colorscale\":[[0.0,\"#0d0887\"],[0.1111111111111111,\"#46039f\"],[0.2222222222222222,\"#7201a8\"],[0.3333333333333333,\"#9c179e\"],[0.4444444444444444,\"#bd3786\"],[0.5555555555555556,\"#d8576b\"],[0.6666666666666666,\"#ed7953\"],[0.7777777777777778,\"#fb9f3a\"],[0.8888888888888888,\"#fdca26\"],[1.0,\"#f0f921\"]],\"type\":\"heatmapgl\"}],\"histogram\":[{\"marker\":{\"pattern\":{\"fillmode\":\"overlay\",\"size\":10,\"solidity\":0.2}},\"type\":\"histogram\"}],\"histogram2d\":[{\"colorbar\":{\"outlinewidth\":0,\"ticks\":\"\"},\"colorscale\":[[0.0,\"#0d0887\"],[0.1111111111111111,\"#46039f\"],[0.2222222222222222,\"#7201a8\"],[0.3333333333333333,\"#9c179e\"],[0.4444444444444444,\"#bd3786\"],[0.5555555555555556,\"#d8576b\"],[0.6666666666666666,\"#ed7953\"],[0.7777777777777778,\"#fb9f3a\"],[0.8888888888888888,\"#fdca26\"],[1.0,\"#f0f921\"]],\"type\":\"histogram2d\"}],\"histogram2dcontour\":[{\"colorbar\":{\"outlinewidth\":0,\"ticks\":\"\"},\"colorscale\":[[0.0,\"#0d0887\"],[0.1111111111111111,\"#46039f\"],[0.2222222222222222,\"#7201a8\"],[0.3333333333333333,\"#9c179e\"],[0.4444444444444444,\"#bd3786\"],[0.5555555555555556,\"#d8576b\"],[0.6666666666666666,\"#ed7953\"],[0.7777777777777778,\"#fb9f3a\"],[0.8888888888888888,\"#fdca26\"],[1.0,\"#f0f921\"]],\"type\":\"histogram2dcontour\"}],\"mesh3d\":[{\"colorbar\":{\"outlinewidth\":0,\"ticks\":\"\"},\"type\":\"mesh3d\"}],\"parcoords\":[{\"line\":{\"colorbar\":{\"outlinewidth\":0,\"ticks\":\"\"}},\"type\":\"parcoords\"}],\"pie\":[{\"automargin\":true,\"type\":\"pie\"}],\"scatter\":[{\"marker\":{\"colorbar\":{\"outlinewidth\":0,\"ticks\":\"\"}},\"type\":\"scatter\"}],\"scatter3d\":[{\"line\":{\"colorbar\":{\"outlinewidth\":0,\"ticks\":\"\"}},\"marker\":{\"colorbar\":{\"outlinewidth\":0,\"ticks\":\"\"}},\"type\":\"scatter3d\"}],\"scattercarpet\":[{\"marker\":{\"colorbar\":{\"outlinewidth\":0,\"ticks\":\"\"}},\"type\":\"scattercarpet\"}],\"scattergeo\":[{\"marker\":{\"colorbar\":{\"outlinewidth\":0,\"ticks\":\"\"}},\"type\":\"scattergeo\"}],\"scattergl\":[{\"marker\":{\"colorbar\":{\"outlinewidth\":0,\"ticks\":\"\"}},\"type\":\"scattergl\"}],\"scattermapbox\":[{\"marker\":{\"colorbar\":{\"outlinewidth\":0,\"ticks\":\"\"}},\"type\":\"scattermapbox\"}],\"scatterpolar\":[{\"marker\":{\"colorbar\":{\"outlinewidth\":0,\"ticks\":\"\"}},\"type\":\"scatterpolar\"}],\"scatterpolargl\":[{\"marker\":{\"colorbar\":{\"outlinewidth\":0,\"ticks\":\"\"}},\"type\":\"scatterpolargl\"}],\"scatterternary\":[{\"marker\":{\"colorbar\":{\"outlinewidth\":0,\"ticks\":\"\"}},\"type\":\"scatterternary\"}],\"surface\":[{\"colorbar\":{\"outlinewidth\":0,\"ticks\":\"\"},\"colorscale\":[[0.0,\"#0d0887\"],[0.1111111111111111,\"#46039f\"],[0.2222222222222222,\"#7201a8\"],[0.3333333333333333,\"#9c179e\"],[0.4444444444444444,\"#bd3786\"],[0.5555555555555556,\"#d8576b\"],[0.6666666666666666,\"#ed7953\"],[0.7777777777777778,\"#fb9f3a\"],[0.8888888888888888,\"#fdca26\"],[1.0,\"#f0f921\"]],\"type\":\"surface\"}],\"table\":[{\"cells\":{\"fill\":{\"color\":\"#EBF0F8\"},\"line\":{\"color\":\"white\"}},\"header\":{\"fill\":{\"color\":\"#C8D4E3\"},\"line\":{\"color\":\"white\"}},\"type\":\"table\"}]},\"layout\":{\"annotationdefaults\":{\"arrowcolor\":\"#2a3f5f\",\"arrowhead\":0,\"arrowwidth\":1},\"autotypenumbers\":\"strict\",\"coloraxis\":{\"colorbar\":{\"outlinewidth\":0,\"ticks\":\"\"}},\"colorscale\":{\"diverging\":[[0,\"#8e0152\"],[0.1,\"#c51b7d\"],[0.2,\"#de77ae\"],[0.3,\"#f1b6da\"],[0.4,\"#fde0ef\"],[0.5,\"#f7f7f7\"],[0.6,\"#e6f5d0\"],[0.7,\"#b8e186\"],[0.8,\"#7fbc41\"],[0.9,\"#4d9221\"],[1,\"#276419\"]],\"sequential\":[[0.0,\"#0d0887\"],[0.1111111111111111,\"#46039f\"],[0.2222222222222222,\"#7201a8\"],[0.3333333333333333,\"#9c179e\"],[0.4444444444444444,\"#bd3786\"],[0.5555555555555556,\"#d8576b\"],[0.6666666666666666,\"#ed7953\"],[0.7777777777777778,\"#fb9f3a\"],[0.8888888888888888,\"#fdca26\"],[1.0,\"#f0f921\"]],\"sequentialminus\":[[0.0,\"#0d0887\"],[0.1111111111111111,\"#46039f\"],[0.2222222222222222,\"#7201a8\"],[0.3333333333333333,\"#9c179e\"],[0.4444444444444444,\"#bd3786\"],[0.5555555555555556,\"#d8576b\"],[0.6666666666666666,\"#ed7953\"],[0.7777777777777778,\"#fb9f3a\"],[0.8888888888888888,\"#fdca26\"],[1.0,\"#f0f921\"]]},\"colorway\":[\"#636efa\",\"#EF553B\",\"#00cc96\",\"#ab63fa\",\"#FFA15A\",\"#19d3f3\",\"#FF6692\",\"#B6E880\",\"#FF97FF\",\"#FECB52\"],\"font\":{\"color\":\"#2a3f5f\"},\"geo\":{\"bgcolor\":\"white\",\"lakecolor\":\"white\",\"landcolor\":\"#E5ECF6\",\"showlakes\":true,\"showland\":true,\"subunitcolor\":\"white\"},\"hoverlabel\":{\"align\":\"left\"},\"hovermode\":\"closest\",\"mapbox\":{\"style\":\"light\"},\"paper_bgcolor\":\"white\",\"plot_bgcolor\":\"#E5ECF6\",\"polar\":{\"angularaxis\":{\"gridcolor\":\"white\",\"linecolor\":\"white\",\"ticks\":\"\"},\"bgcolor\":\"#E5ECF6\",\"radialaxis\":{\"gridcolor\":\"white\",\"linecolor\":\"white\",\"ticks\":\"\"}},\"scene\":{\"xaxis\":{\"backgroundcolor\":\"#E5ECF6\",\"gridcolor\":\"white\",\"gridwidth\":2,\"linecolor\":\"white\",\"showbackground\":true,\"ticks\":\"\",\"zerolinecolor\":\"white\"},\"yaxis\":{\"backgroundcolor\":\"#E5ECF6\",\"gridcolor\":\"white\",\"gridwidth\":2,\"linecolor\":\"white\",\"showbackground\":true,\"ticks\":\"\",\"zerolinecolor\":\"white\"},\"zaxis\":{\"backgroundcolor\":\"#E5ECF6\",\"gridcolor\":\"white\",\"gridwidth\":2,\"linecolor\":\"white\",\"showbackground\":true,\"ticks\":\"\",\"zerolinecolor\":\"white\"}},\"shapedefaults\":{\"line\":{\"color\":\"#2a3f5f\"}},\"ternary\":{\"aaxis\":{\"gridcolor\":\"white\",\"linecolor\":\"white\",\"ticks\":\"\"},\"baxis\":{\"gridcolor\":\"white\",\"linecolor\":\"white\",\"ticks\":\"\"},\"bgcolor\":\"#E5ECF6\",\"caxis\":{\"gridcolor\":\"white\",\"linecolor\":\"white\",\"ticks\":\"\"}},\"title\":{\"x\":0.05},\"xaxis\":{\"automargin\":true,\"gridcolor\":\"white\",\"linecolor\":\"white\",\"ticks\":\"\",\"title\":{\"standoff\":15},\"zerolinecolor\":\"white\",\"zerolinewidth\":2},\"yaxis\":{\"automargin\":true,\"gridcolor\":\"white\",\"linecolor\":\"white\",\"ticks\":\"\",\"title\":{\"standoff\":15},\"zerolinecolor\":\"white\",\"zerolinewidth\":2}}},\"xaxis\":{\"anchor\":\"y\",\"domain\":[0.0,1.0],\"title\":{\"text\":\"x\"}},\"yaxis\":{\"anchor\":\"x\",\"domain\":[0.0,1.0],\"title\":{\"text\":\"y\"}},\"legend\":{\"tracegroupgap\":0},\"margin\":{\"t\":20,\"l\":20,\"r\":20,\"b\":20},\"height\":250,\"width\":400},                        {\"responsive\": true}                    ).then(function(){\n",
              "                            \n",
              "var gd = document.getElementById('b7ce4703-0095-4b59-a2e6-80b881781ca1');\n",
              "var x = new MutationObserver(function (mutations, observer) {{\n",
              "        var display = window.getComputedStyle(gd).display;\n",
              "        if (!display || display === 'none') {{\n",
              "            console.log([gd, 'removed!']);\n",
              "            Plotly.purge(gd);\n",
              "            observer.disconnect();\n",
              "        }}\n",
              "}});\n",
              "\n",
              "// Listen for the removal of the full notebook cells\n",
              "var notebookContainer = gd.closest('#notebook-container');\n",
              "if (notebookContainer) {{\n",
              "    x.observe(notebookContainer, {childList: true});\n",
              "}}\n",
              "\n",
              "// Listen for the clearing of the current output cell\n",
              "var outputEl = gd.closest('.output');\n",
              "if (outputEl) {{\n",
              "    x.observe(outputEl, {childList: true});\n",
              "}}\n",
              "\n",
              "                        })                };                            </script>        </div>\n",
              "</body>\n",
              "</html>"
            ]
          },
          "metadata": {}
        },
        {
          "output_type": "display_data",
          "data": {
            "text/plain": [
              "<IPython.core.display.Javascript object>"
            ],
            "application/javascript": [
              "window[\"dff0f464-ae06-11ed-8380-0242ac1c000c\"] = google.colab.output.setActiveOutputArea(window[\"de1dc43c-ae06-11ed-8380-0242ac1c000c\"]);\n",
              "//# sourceURL=js_b59fce1d9c"
            ]
          },
          "metadata": {}
        }
      ]
    },
    {
      "cell_type": "code",
      "source": [
        "class Net(torch.nn.Module):\n",
        "    def __init__(self, n_feature, n_hidden, n_output):\n",
        "        \"\"\" \n",
        "        Parameters\n",
        "        ----------\n",
        "        n_feature \n",
        "            represents the number of features,\n",
        "        n_hidden \n",
        "            represents the number of neurons in the hidden layer,\n",
        "        n_output \n",
        "            represents the number of output values\n",
        "        \"\"\"\n",
        "        super(Net, self).__init__()\n",
        "        self.hidden = torch.nn.Linear(n_feature, n_hidden)\n",
        "        self.predict = torch.nn.Linear(n_hidden, n_output)\n",
        "    \n",
        "    def forward(self, x):\n",
        "        \"\"\"\n",
        "        Parameters\n",
        "        ----------\n",
        "        x\n",
        "            the input data\n",
        "        \"\"\"\n",
        "        x = F.relu(self.hidden(x))\n",
        "        y = self.predict(x)\n",
        "        return y"
      ],
      "metadata": {
        "id": "X67AiFwTMc3k"
      },
      "execution_count": 4,
      "outputs": []
    },
    {
      "cell_type": "code",
      "source": [
        "# Visualizing Functions\n",
        "\n",
        "def show_regress_mpl(x, y, prediction):\n",
        "    \"\"\"Plot and show learning process with Maplotlib.\n",
        "    \"\"\"\n",
        "    plt.cla()\n",
        "    plt.scatter(x, y)\n",
        "    plt.plot(x, prediction, 'r-', lw=5)\n",
        "    plt.text(0.5, 0, f'Loss={loss:.4f}')\n",
        "    #plt.savefig(\"./img/02_\"+str(step)+\".png\")\n",
        "    #plt.pause(0.01)\n",
        "    plt.show()\n",
        "\n",
        "\n",
        "def show_regress_plotly(x, y, prediction):\n",
        "    \"\"\"Plot and show learning process with Plotly.\n",
        "    \"\"\"\n",
        "    fig = go.Figure([\n",
        "        go.Scatter(x=x, y=y, mode='markers', name='train'),\n",
        "        go.Scatter(x=x, y=prediction, mode='lines', name='prediction', \n",
        "                   line=dict(color='red', width=5))\n",
        "    ])\n",
        "    fig.update_layout(\n",
        "        annotations=[go.layout.Annotation(\n",
        "            text=f\"Loss={loss:.4f}\", x=0.5, y=0, showarrow=False)],\n",
        "        width=400, height=250,\n",
        "        margin=dict(l=20, r=20, t=20, b=20),\n",
        "        legend=dict(yanchor=\"top\", y=0.99, xanchor=\"center\", x=0.5)\n",
        "    )\n",
        "    fig.show()\n"
      ],
      "metadata": {
        "id": "eXkB9oGMcATi"
      },
      "execution_count": 5,
      "outputs": []
    },
    {
      "cell_type": "code",
      "source": [
        "net = Net(1, 11, 1)\n",
        "print(net)\n",
        "\n",
        "optimizer = torch.optim.SGD(net.parameters(), lr=0.5)  \n",
        "loss_func = torch.nn.MSELoss()    # For regression problem, use MSE\n",
        "\n",
        "grid = widgets.Grid(2, 2)\n",
        "#plt.ion()\n",
        "for step in range(100):\n",
        "    # Forward (full batch at once)\n",
        "    prediction = net(x)\n",
        "    loss = loss_func(prediction, y)\n",
        "    \n",
        "    # First, reduce all parameter gradients to zero (because this value will be \n",
        "    # kept after each calculation of gradient and not clearing it will lead to \n",
        "    # incorrect results)\n",
        "    optimizer.zero_grad()   \n",
        "                            \n",
        "    # Perform reverse transmission to calculate gradients of all nodes in the \n",
        "    # computation graph                        \n",
        "    loss.backward()         \n",
        "\n",
        "    # After calculation, use optimizer to optimize these gradients\n",
        "    optimizer.step() \n",
        "\n",
        "    if step % 20 == 0:\n",
        "        if step/20 == 1:\n",
        "            with grid.output_to(0, 0):\n",
        "                grid.clear_cell()\n",
        "                show_regress_mpl(x, y, prediction.data)\n",
        "            with grid.output_to(0, 1):\n",
        "                grid.clear_cell()\n",
        "                show_regress_plotly(x[:,0], y[:,0], prediction.data[:,0])\n",
        "        with grid.output_to(1, 0):\n",
        "            grid.clear_cell()\n",
        "            show_regress_mpl(x, y, prediction.data)\n",
        "        with grid.output_to(1, 1):\n",
        "            grid.clear_cell()\n",
        "            show_regress_plotly(x[:,0], y[:,0], prediction.data[:,0])\n",
        "        time.sleep(.5)\n",
        "\n",
        "#plt.ioff()\n",
        "plt.show()\n"
      ],
      "metadata": {
        "colab": {
          "base_uri": "https://localhost:8080/",
          "height": 593
        },
        "id": "M_FPSqIFNio4",
        "outputId": "216d5ec6-b4b1-4f70-fcf0-b3569f708091"
      },
      "execution_count": 30,
      "outputs": [
        {
          "output_type": "stream",
          "name": "stdout",
          "text": [
            "Net(\n",
            "  (hidden): Linear(in_features=1, out_features=11, bias=True)\n",
            "  (predict): Linear(in_features=11, out_features=1, bias=True)\n",
            ")\n"
          ]
        },
        {
          "output_type": "display_data",
          "data": {
            "text/plain": [
              "<IPython.core.display.HTML object>"
            ],
            "text/html": [
              "<style>\n",
              "       table#id55, #id55 > tbody > tr > th, #id55 > tbody > tr > td {\n",
              "         border: 1px solid lightgray;\n",
              "         border-collapse:collapse;\n",
              "         \n",
              "        }</style>"
            ]
          },
          "metadata": {}
        },
        {
          "output_type": "display_data",
          "data": {
            "text/plain": [
              "<IPython.core.display.HTML object>"
            ],
            "text/html": [
              "<table id=id55><tr><td id=id55-0-0></td><td id=id55-0-1></td></tr><tr><td id=id55-1-0></td><td id=id55-1-1></td></tr></table>"
            ]
          },
          "metadata": {}
        },
        {
          "output_type": "display_data",
          "data": {
            "text/plain": [
              "<IPython.core.display.Javascript object>"
            ],
            "application/javascript": [
              "window[\"b9ba5884-ae0c-11ed-8380-0242ac1c000c\"] = google.colab.output.getActiveOutputArea();\n",
              "//# sourceURL=js_834079281a"
            ]
          },
          "metadata": {}
        },
        {
          "output_type": "display_data",
          "data": {
            "text/plain": [
              "<IPython.core.display.Javascript object>"
            ],
            "application/javascript": [
              "window[\"b9bab64e-ae0c-11ed-8380-0242ac1c000c\"] = document.querySelector(\"#id55-1-0\");\n",
              "//# sourceURL=js_faf8103c72"
            ]
          },
          "metadata": {}
        },
        {
          "output_type": "display_data",
          "data": {
            "text/plain": [
              "<IPython.core.display.Javascript object>"
            ],
            "application/javascript": [
              "window[\"b9bb0ae0-ae0c-11ed-8380-0242ac1c000c\"] = google.colab.output.setActiveOutputArea(window[\"b9bab64e-ae0c-11ed-8380-0242ac1c000c\"]);\n",
              "//# sourceURL=js_7202a77301"
            ]
          },
          "metadata": {}
        },
        {
          "output_type": "display_data",
          "data": {
            "text/plain": [
              "<IPython.core.display.Javascript object>"
            ],
            "application/javascript": [
              "window[\"b9d6ddd8-ae0c-11ed-8380-0242ac1c000c\"] = google.colab.output.setActiveOutputArea(window[\"b9ba5884-ae0c-11ed-8380-0242ac1c000c\"]);\n",
              "//# sourceURL=js_1098e2a83f"
            ]
          },
          "metadata": {}
        },
        {
          "output_type": "display_data",
          "data": {
            "text/plain": [
              "<IPython.core.display.Javascript object>"
            ],
            "application/javascript": [
              "window[\"b9d97002-ae0c-11ed-8380-0242ac1c000c\"] = google.colab.output.getActiveOutputArea();\n",
              "//# sourceURL=js_a861d28c01"
            ]
          },
          "metadata": {}
        },
        {
          "output_type": "display_data",
          "data": {
            "text/plain": [
              "<IPython.core.display.Javascript object>"
            ],
            "application/javascript": [
              "window[\"b9d9ce76-ae0c-11ed-8380-0242ac1c000c\"] = document.querySelector(\"#id55-1-1\");\n",
              "//# sourceURL=js_ba362f0382"
            ]
          },
          "metadata": {}
        },
        {
          "output_type": "display_data",
          "data": {
            "text/plain": [
              "<IPython.core.display.Javascript object>"
            ],
            "application/javascript": [
              "window[\"b9da25a6-ae0c-11ed-8380-0242ac1c000c\"] = google.colab.output.setActiveOutputArea(window[\"b9d9ce76-ae0c-11ed-8380-0242ac1c000c\"]);\n",
              "//# sourceURL=js_e3ccb03e4d"
            ]
          },
          "metadata": {}
        },
        {
          "output_type": "display_data",
          "data": {
            "text/plain": [
              "<IPython.core.display.Javascript object>"
            ],
            "application/javascript": [
              "window[\"b9df9afe-ae0c-11ed-8380-0242ac1c000c\"] = google.colab.output.setActiveOutputArea(window[\"b9d97002-ae0c-11ed-8380-0242ac1c000c\"]);\n",
              "//# sourceURL=js_057d6a0b94"
            ]
          },
          "metadata": {}
        },
        {
          "output_type": "display_data",
          "data": {
            "text/plain": [
              "<IPython.core.display.Javascript object>"
            ],
            "application/javascript": [
              "window[\"ba30a138-ae0c-11ed-8380-0242ac1c000c\"] = google.colab.output.getActiveOutputArea();\n",
              "//# sourceURL=js_5dd89111fe"
            ]
          },
          "metadata": {}
        },
        {
          "output_type": "display_data",
          "data": {
            "text/plain": [
              "<IPython.core.display.Javascript object>"
            ],
            "application/javascript": [
              "window[\"ba3166d6-ae0c-11ed-8380-0242ac1c000c\"] = document.querySelector(\"#id55-0-0\");\n",
              "//# sourceURL=js_32d93d8fbf"
            ]
          },
          "metadata": {}
        },
        {
          "output_type": "display_data",
          "data": {
            "text/plain": [
              "<IPython.core.display.Javascript object>"
            ],
            "application/javascript": [
              "window[\"ba31b582-ae0c-11ed-8380-0242ac1c000c\"] = google.colab.output.setActiveOutputArea(window[\"ba3166d6-ae0c-11ed-8380-0242ac1c000c\"]);\n",
              "//# sourceURL=js_0af358124f"
            ]
          },
          "metadata": {}
        },
        {
          "output_type": "display_data",
          "data": {
            "text/plain": [
              "<Figure size 432x288 with 1 Axes>"
            ],
            "image/png": "[encoded data removed]"
          },
          "metadata": {
            "needs_background": "light"
          }
        },
        {
          "output_type": "display_data",
          "data": {
            "text/plain": [
              "<IPython.core.display.Javascript object>"
            ],
            "application/javascript": [
              "window[\"ba59d1a2-ae0c-11ed-8380-0242ac1c000c\"] = google.colab.output.setActiveOutputArea(window[\"ba30a138-ae0c-11ed-8380-0242ac1c000c\"]);\n",
              "//# sourceURL=js_2f98146534"
            ]
          },
          "metadata": {}
        },
        {
          "output_type": "display_data",
          "data": {
            "text/plain": [
              "<IPython.core.display.Javascript object>"
            ],
            "application/javascript": [
              "window[\"ba5c97c0-ae0c-11ed-8380-0242ac1c000c\"] = google.colab.output.getActiveOutputArea();\n",
              "//# sourceURL=js_b7148d76b3"
            ]
          },
          "metadata": {}
        },
        {
          "output_type": "display_data",
          "data": {
            "text/plain": [
              "<IPython.core.display.Javascript object>"
            ],
            "application/javascript": [
              "window[\"ba5ce09a-ae0c-11ed-8380-0242ac1c000c\"] = document.querySelector(\"#id55-0-1\");\n",
              "//# sourceURL=js_5c0af78fdb"
            ]
          },
          "metadata": {}
        },
        {
          "output_type": "display_data",
          "data": {
            "text/plain": [
              "<IPython.core.display.Javascript object>"
            ],
            "application/javascript": [
              "window[\"ba5d58b8-ae0c-11ed-8380-0242ac1c000c\"] = google.colab.output.setActiveOutputArea(window[\"ba5ce09a-ae0c-11ed-8380-0242ac1c000c\"]);\n",
              "//# sourceURL=js_3478e33904"
            ]
          },
          "metadata": {}
        },
        {
          "output_type": "display_data",
          "data": {
            "text/html": [
              "<html>\n",
              "<head><meta charset=\"utf-8\" /></head>\n",
              "<body>\n",
              "    <div>            <script src=\"https://cdnjs.cloudflare.com/ajax/libs/mathjax/2.7.5/MathJax.js?config=TeX-AMS-MML_SVG\"></script><script type=\"text/javascript\">if (window.MathJax) {MathJax.Hub.Config({SVG: {font: \"STIX-Web\"}});}</script>                <script type=\"text/javascript\">window.PlotlyConfig = {MathJaxConfig: 'local'};</script>\n",
              "        <script src=\"https://cdn.plot.ly/plotly-2.8.3.min.js\"></script>                <div id=\"504d5afb-9cd9-4d7d-943a-f8607ac83ed7\" class=\"plotly-graph-div\" style=\"height:250px; width:400px;\"></div>            <script type=\"text/javascript\">                                    window.PLOTLYENV=window.PLOTLYENV || {};                                    if (document.getElementById(\"504d5afb-9cd9-4d7d-943a-f8607ac83ed7\")) {                    Plotly.newPlot(                        \"504d5afb-9cd9-4d7d-943a-f8607ac83ed7\",                        [{\"mode\":\"markers\",\"name\":\"train\",\"x\":[-1.0,-0.9797979593276978,-0.9595959782600403,-0.939393937587738,-0.9191918969154358,-0.8989899158477783,-0.8787878751754761,-0.8585858345031738,-0.8383838534355164,-0.8181818127632141,-0.7979798316955566,-0.7777777910232544,-0.7575757503509521,-0.7373737692832947,-0.7171717286109924,-0.696969747543335,-0.6767677068710327,-0.6565656661987305,-0.636363685131073,-0.6161616444587708,-0.5959596037864685,-0.575757622718811,-0.5555555820465088,-0.5353535413742065,-0.5151515007019043,-0.49494948983192444,-0.4747474491596222,-0.45454543828964233,-0.4343434274196625,-0.4141414165496826,-0.39393937587738037,-0.3737373650074005,-0.35353535413742065,-0.3333333432674408,-0.31313130259513855,-0.2929292917251587,-0.27272728085517883,-0.252525269985199,-0.23232322931289673,-0.21212121844291687,-0.19191919267177582,-0.17171716690063477,-0.1515151560306549,-0.13131313025951385,-0.1111111119389534,-0.09090909361839294,-0.07070706784725189,-0.050505056977272034,-0.03030303120613098,-0.010101011022925377,0.010101009160280228,0.03030303120613098,0.05050504952669144,0.07070706784725189,0.09090909361839294,0.1111111044883728,0.13131313025951385,0.1515151560306549,0.17171716690063477,0.19191919267177582,0.21212121844291687,0.23232322931289673,0.252525269985199,0.27272725105285645,0.2929292917251587,0.31313130259513855,0.3333333432674408,0.35353535413742065,0.3737373650074005,0.39393937587738037,0.4141414165496826,0.4343434274196625,0.4545454680919647,0.4747474789619446,0.4949495196342468,0.5151515007019043,0.5353535413742065,0.5555555820465088,0.575757622718811,0.5959596037864685,0.6161616444587708,0.636363685131073,0.6565656661987305,0.6767677068710327,0.696969747543335,0.7171717286109924,0.7373737692832947,0.7575757503509521,0.7777777910232544,0.7979798316955566,0.8181818127632141,0.8383838534355164,0.8585858941078186,0.8787878751754761,0.8989899158477783,0.9191919565200806,0.939393937587738,0.9595959782600403,0.9797979593276978,1.0],\"y\":[1.165769100189209,1.0186151266098022,1.0687886476516724,1.0596816539764404,0.8794137239456177,0.9176005721092224,0.8237406015396118,0.8865528106689453,0.76075679063797,0.6992563605308533,0.7592936158180237,0.646009087562561,0.5772888660430908,0.6077374815940857,0.6375048160552979,0.5459951162338257,0.5239220857620239,0.5914134383201599,0.436815470457077,0.5439841747283936,0.3727233111858368,0.49870526790618896,0.4126293361186981,0.4381788969039917,0.37341028451919556,0.4083748459815979,0.3870311975479126,0.28941887617111206,0.2554875612258911,0.345861554145813,0.1578187197446823,0.2173701822757721,0.199172705411911,0.1823619306087494,0.2107623964548111,0.22759410738945007,0.13705295324325562,0.09948541224002838,0.211715430021286,0.11480351537466049,0.11663210391998291,0.1865878403186798,0.14010977745056152,0.13146443665027618,0.01637755148112774,0.1809929609298706,0.11480089277029037,0.14884376525878906,0.001029102597385645,0.09804607182741165,0.07595262676477432,0.18668214976787567,0.03242852911353111,0.01638546586036682,0.12825477123260498,0.17455916106700897,0.2011646181344986,0.10960403084754944,0.07556691020727158,0.2048080861568451,0.11160147190093994,0.2316405177116394,0.2584843039512634,0.25998345017433167,0.1676422357559204,0.1565403938293457,0.1343660056591034,0.3090193271636963,0.17693869769573212,0.16051360964775085,0.2650679051876068,0.24689632654190063,0.26633602380752563,0.411953330039978,0.27087077498435974,0.32386040687561035,0.39844802021980286,0.4404880404472351,0.4813193678855896,0.3914320170879364,0.4015597105026245,0.4777129292488098,0.6059499382972717,0.5114985108375549,0.5465640425682068,0.6553778648376465,0.6376886367797852,0.7559281587600708,0.6732328534126282,0.8230233192443848,0.695754885673523,0.7889435291290283,0.8460881114006042,0.8642594218254089,0.9148620367050171,0.9506844878196716,0.9399616718292236,0.9893357157707214,0.9790088534355164,1.1188404560089111],\"type\":\"scatter\"},{\"line\":{\"color\":\"red\",\"width\":5},\"mode\":\"lines\",\"name\":\"prediction\",\"x\":[-1.0,-0.9797979593276978,-0.9595959782600403,-0.939393937587738,-0.9191918969154358,-0.8989899158477783,-0.8787878751754761,-0.8585858345031738,-0.8383838534355164,-0.8181818127632141,-0.7979798316955566,-0.7777777910232544,-0.7575757503509521,-0.7373737692832947,-0.7171717286109924,-0.696969747543335,-0.6767677068710327,-0.6565656661987305,-0.636363685131073,-0.6161616444587708,-0.5959596037864685,-0.575757622718811,-0.5555555820465088,-0.5353535413742065,-0.5151515007019043,-0.49494948983192444,-0.4747474491596222,-0.45454543828964233,-0.4343434274196625,-0.4141414165496826,-0.39393937587738037,-0.3737373650074005,-0.35353535413742065,-0.3333333432674408,-0.31313130259513855,-0.2929292917251587,-0.27272728085517883,-0.252525269985199,-0.23232322931289673,-0.21212121844291687,-0.19191919267177582,-0.17171716690063477,-0.1515151560306549,-0.13131313025951385,-0.1111111119389534,-0.09090909361839294,-0.07070706784725189,-0.050505056977272034,-0.03030303120613098,-0.010101011022925377,0.010101009160280228,0.03030303120613098,0.05050504952669144,0.07070706784725189,0.09090909361839294,0.1111111044883728,0.13131313025951385,0.1515151560306549,0.17171716690063477,0.19191919267177582,0.21212121844291687,0.23232322931289673,0.252525269985199,0.27272725105285645,0.2929292917251587,0.31313130259513855,0.3333333432674408,0.35353535413742065,0.3737373650074005,0.39393937587738037,0.4141414165496826,0.4343434274196625,0.4545454680919647,0.4747474789619446,0.4949495196342468,0.5151515007019043,0.5353535413742065,0.5555555820465088,0.575757622718811,0.5959596037864685,0.6161616444587708,0.636363685131073,0.6565656661987305,0.6767677068710327,0.696969747543335,0.7171717286109924,0.7373737692832947,0.7575757503509521,0.7777777910232544,0.7979798316955566,0.8181818127632141,0.8383838534355164,0.8585858941078186,0.8787878751754761,0.8989899158477783,0.9191919565200806,0.939393937587738,0.9595959782600403,0.9797979593276978,1.0],\"y\":[0.8467884063720703,0.829985499382019,0.813182532787323,0.795968770980835,0.7780985236167908,0.7602283954620361,0.7423581480979919,0.7244879603385925,0.7066177725791931,0.6887475848197937,0.6708773970603943,0.6530071496963501,0.6351369619369507,0.617266833782196,0.5993965864181519,0.5815263986587524,0.563656210899353,0.5457859635353088,0.5279157757759094,0.51004558801651,0.4921753406524658,0.4743052124977112,0.456434965133667,0.4385647177696228,0.4206945300102234,0.402824342250824,0.3849541246891022,0.36708390712738037,0.34921371936798096,0.33134353160858154,0.31347334384918213,0.30089205503463745,0.2915176451206207,0.282143235206604,0.2727687954902649,0.26339441537857056,0.25401997566223145,0.24464558064937592,0.235271155834198,0.22589674592018127,0.21652233600616455,0.20714792609214783,0.1977735161781311,0.18839909136295319,0.17905570566654205,0.17502616345882416,0.17099662125110626,0.16912180185317993,0.1723148375749588,0.17672182619571686,0.1811288297176361,0.18553583323955536,0.18994282186031342,0.19434982538223267,0.19875681400299072,0.20316381752490997,0.20757082104682922,0.21197780966758728,0.21638481318950653,0.22079181671142578,0.23224161565303802,0.24463121592998505,0.25702083110809326,0.2694104015827179,0.2818000316619873,0.2941896319389343,0.30657923221588135,0.32060205936431885,0.3356429934501648,0.35068386793136597,0.3657248020172119,0.3807656764984131,0.39580661058425903,0.4108474850654602,0.42588841915130615,0.4409292936325073,0.4559701681137085,0.47101110219955444,0.4860520362854004,0.5010929107666016,0.5161337852478027,0.5311747193336487,0.5462155938148499,0.5612565279006958,0.5762974619865417,0.5914301872253418,0.606584906578064,0.6217396259307861,0.6368943452835083,0.6520490646362305,0.6672037243843079,0.68235844373703,0.697513222694397,0.7126678824424744,0.7278226017951965,0.7429772615432739,0.7581320405006409,0.773286759853363,0.7884414792060852,0.8035961389541626],\"type\":\"scatter\"}],                        {\"template\":{\"data\":{\"bar\":[{\"error_x\":{\"color\":\"#2a3f5f\"},\"error_y\":{\"color\":\"#2a3f5f\"},\"marker\":{\"line\":{\"color\":\"#E5ECF6\",\"width\":0.5},\"pattern\":{\"fillmode\":\"overlay\",\"size\":10,\"solidity\":0.2}},\"type\":\"bar\"}],\"barpolar\":[{\"marker\":{\"line\":{\"color\":\"#E5ECF6\",\"width\":0.5},\"pattern\":{\"fillmode\":\"overlay\",\"size\":10,\"solidity\":0.2}},\"type\":\"barpolar\"}],\"carpet\":[{\"aaxis\":{\"endlinecolor\":\"#2a3f5f\",\"gridcolor\":\"white\",\"linecolor\":\"white\",\"minorgridcolor\":\"white\",\"startlinecolor\":\"#2a3f5f\"},\"baxis\":{\"endlinecolor\":\"#2a3f5f\",\"gridcolor\":\"white\",\"linecolor\":\"white\",\"minorgridcolor\":\"white\",\"startlinecolor\":\"#2a3f5f\"},\"type\":\"carpet\"}],\"choropleth\":[{\"colorbar\":{\"outlinewidth\":0,\"ticks\":\"\"},\"type\":\"choropleth\"}],\"contour\":[{\"colorbar\":{\"outlinewidth\":0,\"ticks\":\"\"},\"colorscale\":[[0.0,\"#0d0887\"],[0.1111111111111111,\"#46039f\"],[0.2222222222222222,\"#7201a8\"],[0.3333333333333333,\"#9c179e\"],[0.4444444444444444,\"#bd3786\"],[0.5555555555555556,\"#d8576b\"],[0.6666666666666666,\"#ed7953\"],[0.7777777777777778,\"#fb9f3a\"],[0.8888888888888888,\"#fdca26\"],[1.0,\"#f0f921\"]],\"type\":\"contour\"}],\"contourcarpet\":[{\"colorbar\":{\"outlinewidth\":0,\"ticks\":\"\"},\"type\":\"contourcarpet\"}],\"heatmap\":[{\"colorbar\":{\"outlinewidth\":0,\"ticks\":\"\"},\"colorscale\":[[0.0,\"#0d0887\"],[0.1111111111111111,\"#46039f\"],[0.2222222222222222,\"#7201a8\"],[0.3333333333333333,\"#9c179e\"],[0.4444444444444444,\"#bd3786\"],[0.5555555555555556,\"#d8576b\"],[0.6666666666666666,\"#ed7953\"],[0.7777777777777778,\"#fb9f3a\"],[0.8888888888888888,\"#fdca26\"],[1.0,\"#f0f921\"]],\"type\":\"heatmap\"}],\"heatmapgl\":[{\"colorbar\":{\"outlinewidth\":0,\"ticks\":\"\"},\"colorscale\":[[0.0,\"#0d0887\"],[0.1111111111111111,\"#46039f\"],[0.2222222222222222,\"#7201a8\"],[0.3333333333333333,\"#9c179e\"],[0.4444444444444444,\"#bd3786\"],[0.5555555555555556,\"#d8576b\"],[0.6666666666666666,\"#ed7953\"],[0.7777777777777778,\"#fb9f3a\"],[0.8888888888888888,\"#fdca26\"],[1.0,\"#f0f921\"]],\"type\":\"heatmapgl\"}],\"histogram\":[{\"marker\":{\"pattern\":{\"fillmode\":\"overlay\",\"size\":10,\"solidity\":0.2}},\"type\":\"histogram\"}],\"histogram2d\":[{\"colorbar\":{\"outlinewidth\":0,\"ticks\":\"\"},\"colorscale\":[[0.0,\"#0d0887\"],[0.1111111111111111,\"#46039f\"],[0.2222222222222222,\"#7201a8\"],[0.3333333333333333,\"#9c179e\"],[0.4444444444444444,\"#bd3786\"],[0.5555555555555556,\"#d8576b\"],[0.6666666666666666,\"#ed7953\"],[0.7777777777777778,\"#fb9f3a\"],[0.8888888888888888,\"#fdca26\"],[1.0,\"#f0f921\"]],\"type\":\"histogram2d\"}],\"histogram2dcontour\":[{\"colorbar\":{\"outlinewidth\":0,\"ticks\":\"\"},\"colorscale\":[[0.0,\"#0d0887\"],[0.1111111111111111,\"#46039f\"],[0.2222222222222222,\"#7201a8\"],[0.3333333333333333,\"#9c179e\"],[0.4444444444444444,\"#bd3786\"],[0.5555555555555556,\"#d8576b\"],[0.6666666666666666,\"#ed7953\"],[0.7777777777777778,\"#fb9f3a\"],[0.8888888888888888,\"#fdca26\"],[1.0,\"#f0f921\"]],\"type\":\"histogram2dcontour\"}],\"mesh3d\":[{\"colorbar\":{\"outlinewidth\":0,\"ticks\":\"\"},\"type\":\"mesh3d\"}],\"parcoords\":[{\"line\":{\"colorbar\":{\"outlinewidth\":0,\"ticks\":\"\"}},\"type\":\"parcoords\"}],\"pie\":[{\"automargin\":true,\"type\":\"pie\"}],\"scatter\":[{\"marker\":{\"colorbar\":{\"outlinewidth\":0,\"ticks\":\"\"}},\"type\":\"scatter\"}],\"scatter3d\":[{\"line\":{\"colorbar\":{\"outlinewidth\":0,\"ticks\":\"\"}},\"marker\":{\"colorbar\":{\"outlinewidth\":0,\"ticks\":\"\"}},\"type\":\"scatter3d\"}],\"scattercarpet\":[{\"marker\":{\"colorbar\":{\"outlinewidth\":0,\"ticks\":\"\"}},\"type\":\"scattercarpet\"}],\"scattergeo\":[{\"marker\":{\"colorbar\":{\"outlinewidth\":0,\"ticks\":\"\"}},\"type\":\"scattergeo\"}],\"scattergl\":[{\"marker\":{\"colorbar\":{\"outlinewidth\":0,\"ticks\":\"\"}},\"type\":\"scattergl\"}],\"scattermapbox\":[{\"marker\":{\"colorbar\":{\"outlinewidth\":0,\"ticks\":\"\"}},\"type\":\"scattermapbox\"}],\"scatterpolar\":[{\"marker\":{\"colorbar\":{\"outlinewidth\":0,\"ticks\":\"\"}},\"type\":\"scatterpolar\"}],\"scatterpolargl\":[{\"marker\":{\"colorbar\":{\"outlinewidth\":0,\"ticks\":\"\"}},\"type\":\"scatterpolargl\"}],\"scatterternary\":[{\"marker\":{\"colorbar\":{\"outlinewidth\":0,\"ticks\":\"\"}},\"type\":\"scatterternary\"}],\"surface\":[{\"colorbar\":{\"outlinewidth\":0,\"ticks\":\"\"},\"colorscale\":[[0.0,\"#0d0887\"],[0.1111111111111111,\"#46039f\"],[0.2222222222222222,\"#7201a8\"],[0.3333333333333333,\"#9c179e\"],[0.4444444444444444,\"#bd3786\"],[0.5555555555555556,\"#d8576b\"],[0.6666666666666666,\"#ed7953\"],[0.7777777777777778,\"#fb9f3a\"],[0.8888888888888888,\"#fdca26\"],[1.0,\"#f0f921\"]],\"type\":\"surface\"}],\"table\":[{\"cells\":{\"fill\":{\"color\":\"#EBF0F8\"},\"line\":{\"color\":\"white\"}},\"header\":{\"fill\":{\"color\":\"#C8D4E3\"},\"line\":{\"color\":\"white\"}},\"type\":\"table\"}]},\"layout\":{\"annotationdefaults\":{\"arrowcolor\":\"#2a3f5f\",\"arrowhead\":0,\"arrowwidth\":1},\"autotypenumbers\":\"strict\",\"coloraxis\":{\"colorbar\":{\"outlinewidth\":0,\"ticks\":\"\"}},\"colorscale\":{\"diverging\":[[0,\"#8e0152\"],[0.1,\"#c51b7d\"],[0.2,\"#de77ae\"],[0.3,\"#f1b6da\"],[0.4,\"#fde0ef\"],[0.5,\"#f7f7f7\"],[0.6,\"#e6f5d0\"],[0.7,\"#b8e186\"],[0.8,\"#7fbc41\"],[0.9,\"#4d9221\"],[1,\"#276419\"]],\"sequential\":[[0.0,\"#0d0887\"],[0.1111111111111111,\"#46039f\"],[0.2222222222222222,\"#7201a8\"],[0.3333333333333333,\"#9c179e\"],[0.4444444444444444,\"#bd3786\"],[0.5555555555555556,\"#d8576b\"],[0.6666666666666666,\"#ed7953\"],[0.7777777777777778,\"#fb9f3a\"],[0.8888888888888888,\"#fdca26\"],[1.0,\"#f0f921\"]],\"sequentialminus\":[[0.0,\"#0d0887\"],[0.1111111111111111,\"#46039f\"],[0.2222222222222222,\"#7201a8\"],[0.3333333333333333,\"#9c179e\"],[0.4444444444444444,\"#bd3786\"],[0.5555555555555556,\"#d8576b\"],[0.6666666666666666,\"#ed7953\"],[0.7777777777777778,\"#fb9f3a\"],[0.8888888888888888,\"#fdca26\"],[1.0,\"#f0f921\"]]},\"colorway\":[\"#636efa\",\"#EF553B\",\"#00cc96\",\"#ab63fa\",\"#FFA15A\",\"#19d3f3\",\"#FF6692\",\"#B6E880\",\"#FF97FF\",\"#FECB52\"],\"font\":{\"color\":\"#2a3f5f\"},\"geo\":{\"bgcolor\":\"white\",\"lakecolor\":\"white\",\"landcolor\":\"#E5ECF6\",\"showlakes\":true,\"showland\":true,\"subunitcolor\":\"white\"},\"hoverlabel\":{\"align\":\"left\"},\"hovermode\":\"closest\",\"mapbox\":{\"style\":\"light\"},\"paper_bgcolor\":\"white\",\"plot_bgcolor\":\"#E5ECF6\",\"polar\":{\"angularaxis\":{\"gridcolor\":\"white\",\"linecolor\":\"white\",\"ticks\":\"\"},\"bgcolor\":\"#E5ECF6\",\"radialaxis\":{\"gridcolor\":\"white\",\"linecolor\":\"white\",\"ticks\":\"\"}},\"scene\":{\"xaxis\":{\"backgroundcolor\":\"#E5ECF6\",\"gridcolor\":\"white\",\"gridwidth\":2,\"linecolor\":\"white\",\"showbackground\":true,\"ticks\":\"\",\"zerolinecolor\":\"white\"},\"yaxis\":{\"backgroundcolor\":\"#E5ECF6\",\"gridcolor\":\"white\",\"gridwidth\":2,\"linecolor\":\"white\",\"showbackground\":true,\"ticks\":\"\",\"zerolinecolor\":\"white\"},\"zaxis\":{\"backgroundcolor\":\"#E5ECF6\",\"gridcolor\":\"white\",\"gridwidth\":2,\"linecolor\":\"white\",\"showbackground\":true,\"ticks\":\"\",\"zerolinecolor\":\"white\"}},\"shapedefaults\":{\"line\":{\"color\":\"#2a3f5f\"}},\"ternary\":{\"aaxis\":{\"gridcolor\":\"white\",\"linecolor\":\"white\",\"ticks\":\"\"},\"baxis\":{\"gridcolor\":\"white\",\"linecolor\":\"white\",\"ticks\":\"\"},\"bgcolor\":\"#E5ECF6\",\"caxis\":{\"gridcolor\":\"white\",\"linecolor\":\"white\",\"ticks\":\"\"}},\"title\":{\"x\":0.05},\"xaxis\":{\"automargin\":true,\"gridcolor\":\"white\",\"linecolor\":\"white\",\"ticks\":\"\",\"title\":{\"standoff\":15},\"zerolinecolor\":\"white\",\"zerolinewidth\":2},\"yaxis\":{\"automargin\":true,\"gridcolor\":\"white\",\"linecolor\":\"white\",\"ticks\":\"\",\"title\":{\"standoff\":15},\"zerolinecolor\":\"white\",\"zerolinewidth\":2}}},\"margin\":{\"l\":20,\"r\":20,\"t\":20,\"b\":20},\"legend\":{\"yanchor\":\"top\",\"y\":0.99,\"xanchor\":\"center\",\"x\":0.5},\"annotations\":[{\"showarrow\":false,\"text\":\"Loss=0.0136\",\"x\":0.5,\"y\":0}],\"width\":400,\"height\":250},                        {\"responsive\": true}                    ).then(function(){\n",
              "                            \n",
              "var gd = document.getElementById('504d5afb-9cd9-4d7d-943a-f8607ac83ed7');\n",
              "var x = new MutationObserver(function (mutations, observer) {{\n",
              "        var display = window.getComputedStyle(gd).display;\n",
              "        if (!display || display === 'none') {{\n",
              "            console.log([gd, 'removed!']);\n",
              "            Plotly.purge(gd);\n",
              "            observer.disconnect();\n",
              "        }}\n",
              "}});\n",
              "\n",
              "// Listen for the removal of the full notebook cells\n",
              "var notebookContainer = gd.closest('#notebook-container');\n",
              "if (notebookContainer) {{\n",
              "    x.observe(notebookContainer, {childList: true});\n",
              "}}\n",
              "\n",
              "// Listen for the clearing of the current output cell\n",
              "var outputEl = gd.closest('.output');\n",
              "if (outputEl) {{\n",
              "    x.observe(outputEl, {childList: true});\n",
              "}}\n",
              "\n",
              "                        })                };                            </script>        </div>\n",
              "</body>\n",
              "</html>"
            ]
          },
          "metadata": {}
        },
        {
          "output_type": "display_data",
          "data": {
            "text/plain": [
              "<IPython.core.display.Javascript object>"
            ],
            "application/javascript": [
              "window[\"ba6392be-ae0c-11ed-8380-0242ac1c000c\"] = google.colab.output.setActiveOutputArea(window[\"ba5c97c0-ae0c-11ed-8380-0242ac1c000c\"]);\n",
              "//# sourceURL=js_155a57dba1"
            ]
          },
          "metadata": {}
        },
        {
          "output_type": "display_data",
          "data": {
            "text/plain": [
              "<IPython.core.display.Javascript object>"
            ],
            "application/javascript": [
              "window[\"ba65f748-ae0c-11ed-8380-0242ac1c000c\"] = google.colab.output.getActiveOutputArea();\n",
              "//# sourceURL=js_5c7000103c"
            ]
          },
          "metadata": {}
        },
        {
          "output_type": "display_data",
          "data": {
            "text/plain": [
              "<IPython.core.display.Javascript object>"
            ],
            "application/javascript": [
              "window[\"ba667d62-ae0c-11ed-8380-0242ac1c000c\"] = document.querySelector(\"#id55-1-0\");\n",
              "//# sourceURL=js_11b452e2ea"
            ]
          },
          "metadata": {}
        },
        {
          "output_type": "display_data",
          "data": {
            "text/plain": [
              "<IPython.core.display.Javascript object>"
            ],
            "application/javascript": [
              "window[\"ba66c15a-ae0c-11ed-8380-0242ac1c000c\"] = google.colab.output.setActiveOutputArea(window[\"ba667d62-ae0c-11ed-8380-0242ac1c000c\"]);\n",
              "//# sourceURL=js_8f87309291"
            ]
          },
          "metadata": {}
        },
        {
          "output_type": "display_data",
          "data": {
            "text/plain": [
              "<IPython.core.display.Javascript object>"
            ],
            "application/javascript": [
              "window[\"ba905114-ae0c-11ed-8380-0242ac1c000c\"] = google.colab.output.setActiveOutputArea(window[\"ba65f748-ae0c-11ed-8380-0242ac1c000c\"]);\n",
              "//# sourceURL=js_c627d2622b"
            ]
          },
          "metadata": {}
        },
        {
          "output_type": "display_data",
          "data": {
            "text/plain": [
              "<IPython.core.display.Javascript object>"
            ],
            "application/javascript": [
              "window[\"ba932a92-ae0c-11ed-8380-0242ac1c000c\"] = google.colab.output.getActiveOutputArea();\n",
              "//# sourceURL=js_8e0b6672e4"
            ]
          },
          "metadata": {}
        },
        {
          "output_type": "display_data",
          "data": {
            "text/plain": [
              "<IPython.core.display.Javascript object>"
            ],
            "application/javascript": [
              "window[\"ba942b22-ae0c-11ed-8380-0242ac1c000c\"] = document.querySelector(\"#id55-1-1\");\n",
              "//# sourceURL=js_f1c4deb9e1"
            ]
          },
          "metadata": {}
        },
        {
          "output_type": "display_data",
          "data": {
            "text/plain": [
              "<IPython.core.display.Javascript object>"
            ],
            "application/javascript": [
              "window[\"ba947a14-ae0c-11ed-8380-0242ac1c000c\"] = google.colab.output.setActiveOutputArea(window[\"ba942b22-ae0c-11ed-8380-0242ac1c000c\"]);\n",
              "//# sourceURL=js_4406aca684"
            ]
          },
          "metadata": {}
        },
        {
          "output_type": "display_data",
          "data": {
            "text/plain": [
              "<IPython.core.display.Javascript object>"
            ],
            "application/javascript": [
              "window[\"ba9b229c-ae0c-11ed-8380-0242ac1c000c\"] = google.colab.output.setActiveOutputArea(window[\"ba932a92-ae0c-11ed-8380-0242ac1c000c\"]);\n",
              "//# sourceURL=js_902f631ebc"
            ]
          },
          "metadata": {}
        },
        {
          "output_type": "display_data",
          "data": {
            "text/plain": [
              "<IPython.core.display.Javascript object>"
            ],
            "application/javascript": [
              "window[\"baec7106-ae0c-11ed-8380-0242ac1c000c\"] = google.colab.output.getActiveOutputArea();\n",
              "//# sourceURL=js_e17b3e352a"
            ]
          },
          "metadata": {}
        },
        {
          "output_type": "display_data",
          "data": {
            "text/plain": [
              "<IPython.core.display.Javascript object>"
            ],
            "application/javascript": [
              "window[\"baecc750-ae0c-11ed-8380-0242ac1c000c\"] = document.querySelector(\"#id55-1-0\");\n",
              "//# sourceURL=js_c6c0d069bd"
            ]
          },
          "metadata": {}
        },
        {
          "output_type": "display_data",
          "data": {
            "text/plain": [
              "<IPython.core.display.Javascript object>"
            ],
            "application/javascript": [
              "window[\"baed243e-ae0c-11ed-8380-0242ac1c000c\"] = google.colab.output.setActiveOutputArea(window[\"baecc750-ae0c-11ed-8380-0242ac1c000c\"]);\n",
              "//# sourceURL=js_29047e674c"
            ]
          },
          "metadata": {}
        },
        {
          "output_type": "display_data",
          "data": {
            "text/plain": [
              "<IPython.core.display.Javascript object>"
            ],
            "application/javascript": [
              "window[\"bb16512e-ae0c-11ed-8380-0242ac1c000c\"] = google.colab.output.setActiveOutputArea(window[\"baec7106-ae0c-11ed-8380-0242ac1c000c\"]);\n",
              "//# sourceURL=js_ce72c4ec54"
            ]
          },
          "metadata": {}
        },
        {
          "output_type": "display_data",
          "data": {
            "text/plain": [
              "<IPython.core.display.Javascript object>"
            ],
            "application/javascript": [
              "window[\"bb1867a2-ae0c-11ed-8380-0242ac1c000c\"] = google.colab.output.getActiveOutputArea();\n",
              "//# sourceURL=js_2029574498"
            ]
          },
          "metadata": {}
        },
        {
          "output_type": "display_data",
          "data": {
            "text/plain": [
              "<IPython.core.display.Javascript object>"
            ],
            "application/javascript": [
              "window[\"bb198632-ae0c-11ed-8380-0242ac1c000c\"] = document.querySelector(\"#id55-1-1\");\n",
              "//# sourceURL=js_ca8392240a"
            ]
          },
          "metadata": {}
        },
        {
          "output_type": "display_data",
          "data": {
            "text/plain": [
              "<IPython.core.display.Javascript object>"
            ],
            "application/javascript": [
              "window[\"bb19d0ce-ae0c-11ed-8380-0242ac1c000c\"] = google.colab.output.setActiveOutputArea(window[\"bb198632-ae0c-11ed-8380-0242ac1c000c\"]);\n",
              "//# sourceURL=js_ddff8836d9"
            ]
          },
          "metadata": {}
        },
        {
          "output_type": "display_data",
          "data": {
            "text/plain": [
              "<IPython.core.display.Javascript object>"
            ],
            "application/javascript": [
              "window[\"bb21ac5e-ae0c-11ed-8380-0242ac1c000c\"] = google.colab.output.setActiveOutputArea(window[\"bb1867a2-ae0c-11ed-8380-0242ac1c000c\"]);\n",
              "//# sourceURL=js_4e9d9c8ce6"
            ]
          },
          "metadata": {}
        },
        {
          "output_type": "display_data",
          "data": {
            "text/plain": [
              "<IPython.core.display.Javascript object>"
            ],
            "application/javascript": [
              "window[\"bb72d0ca-ae0c-11ed-8380-0242ac1c000c\"] = google.colab.output.getActiveOutputArea();\n",
              "//# sourceURL=js_1b5eea4a65"
            ]
          },
          "metadata": {}
        },
        {
          "output_type": "display_data",
          "data": {
            "text/plain": [
              "<IPython.core.display.Javascript object>"
            ],
            "application/javascript": [
              "window[\"bb732a52-ae0c-11ed-8380-0242ac1c000c\"] = document.querySelector(\"#id55-1-0\");\n",
              "//# sourceURL=js_989fc793ce"
            ]
          },
          "metadata": {}
        },
        {
          "output_type": "display_data",
          "data": {
            "text/plain": [
              "<IPython.core.display.Javascript object>"
            ],
            "application/javascript": [
              "window[\"bb738d8a-ae0c-11ed-8380-0242ac1c000c\"] = google.colab.output.setActiveOutputArea(window[\"bb732a52-ae0c-11ed-8380-0242ac1c000c\"]);\n",
              "//# sourceURL=js_024dde21cc"
            ]
          },
          "metadata": {}
        },
        {
          "output_type": "display_data",
          "data": {
            "text/plain": [
              "<IPython.core.display.Javascript object>"
            ],
            "application/javascript": [
              "window[\"bb971642-ae0c-11ed-8380-0242ac1c000c\"] = google.colab.output.setActiveOutputArea(window[\"bb72d0ca-ae0c-11ed-8380-0242ac1c000c\"]);\n",
              "//# sourceURL=js_b78c18b874"
            ]
          },
          "metadata": {}
        },
        {
          "output_type": "display_data",
          "data": {
            "text/plain": [
              "<IPython.core.display.Javascript object>"
            ],
            "application/javascript": [
              "window[\"bb99935e-ae0c-11ed-8380-0242ac1c000c\"] = google.colab.output.getActiveOutputArea();\n",
              "//# sourceURL=js_bfca08daec"
            ]
          },
          "metadata": {}
        },
        {
          "output_type": "display_data",
          "data": {
            "text/plain": [
              "<IPython.core.display.Javascript object>"
            ],
            "application/javascript": [
              "window[\"bb99e228-ae0c-11ed-8380-0242ac1c000c\"] = document.querySelector(\"#id55-1-1\");\n",
              "//# sourceURL=js_d66ea96ec8"
            ]
          },
          "metadata": {}
        },
        {
          "output_type": "display_data",
          "data": {
            "text/plain": [
              "<IPython.core.display.Javascript object>"
            ],
            "application/javascript": [
              "window[\"bb9a2d0a-ae0c-11ed-8380-0242ac1c000c\"] = google.colab.output.setActiveOutputArea(window[\"bb99e228-ae0c-11ed-8380-0242ac1c000c\"]);\n",
              "//# sourceURL=js_57053dadbd"
            ]
          },
          "metadata": {}
        },
        {
          "output_type": "display_data",
          "data": {
            "text/plain": [
              "<IPython.core.display.Javascript object>"
            ],
            "application/javascript": [
              "window[\"bb9f3e8a-ae0c-11ed-8380-0242ac1c000c\"] = google.colab.output.setActiveOutputArea(window[\"bb99935e-ae0c-11ed-8380-0242ac1c000c\"]);\n",
              "//# sourceURL=js_27c897f348"
            ]
          },
          "metadata": {}
        },
        {
          "output_type": "display_data",
          "data": {
            "text/plain": [
              "<IPython.core.display.Javascript object>"
            ],
            "application/javascript": [
              "window[\"bbef4786-ae0c-11ed-8380-0242ac1c000c\"] = google.colab.output.getActiveOutputArea();\n",
              "//# sourceURL=js_5b9f7722ab"
            ]
          },
          "metadata": {}
        },
        {
          "output_type": "display_data",
          "data": {
            "text/plain": [
              "<IPython.core.display.Javascript object>"
            ],
            "application/javascript": [
              "window[\"bbefe754-ae0c-11ed-8380-0242ac1c000c\"] = document.querySelector(\"#id55-1-0\");\n",
              "//# sourceURL=js_73c14f292d"
            ]
          },
          "metadata": {}
        },
        {
          "output_type": "display_data",
          "data": {
            "text/plain": [
              "<IPython.core.display.Javascript object>"
            ],
            "application/javascript": [
              "window[\"bbf0d04c-ae0c-11ed-8380-0242ac1c000c\"] = google.colab.output.setActiveOutputArea(window[\"bbefe754-ae0c-11ed-8380-0242ac1c000c\"]);\n",
              "//# sourceURL=js_ad10f988f0"
            ]
          },
          "metadata": {}
        },
        {
          "output_type": "display_data",
          "data": {
            "text/plain": [
              "<Figure size 432x288 with 1 Axes>"
            ],
            "image/png": "[encoded data removed]"
          },
          "metadata": {
            "needs_background": "light"
          }
        },
        {
          "output_type": "display_data",
          "data": {
            "text/plain": [
              "<IPython.core.display.Javascript object>"
            ],
            "application/javascript": [
              "window[\"bc0b01ba-ae0c-11ed-8380-0242ac1c000c\"] = google.colab.output.setActiveOutputArea(window[\"bbef4786-ae0c-11ed-8380-0242ac1c000c\"]);\n",
              "//# sourceURL=js_532096615b"
            ]
          },
          "metadata": {}
        },
        {
          "output_type": "display_data",
          "data": {
            "text/plain": [
              "<IPython.core.display.Javascript object>"
            ],
            "application/javascript": [
              "window[\"bc0da28a-ae0c-11ed-8380-0242ac1c000c\"] = google.colab.output.getActiveOutputArea();\n",
              "//# sourceURL=js_150f84f9b2"
            ]
          },
          "metadata": {}
        },
        {
          "output_type": "display_data",
          "data": {
            "text/plain": [
              "<IPython.core.display.Javascript object>"
            ],
            "application/javascript": [
              "window[\"bc0df2a8-ae0c-11ed-8380-0242ac1c000c\"] = document.querySelector(\"#id55-1-1\");\n",
              "//# sourceURL=js_e7161cef4e"
            ]
          },
          "metadata": {}
        },
        {
          "output_type": "display_data",
          "data": {
            "text/plain": [
              "<IPython.core.display.Javascript object>"
            ],
            "application/javascript": [
              "window[\"bc0e3600-ae0c-11ed-8380-0242ac1c000c\"] = google.colab.output.setActiveOutputArea(window[\"bc0df2a8-ae0c-11ed-8380-0242ac1c000c\"]);\n",
              "//# sourceURL=js_c2f2be59d9"
            ]
          },
          "metadata": {}
        },
        {
          "output_type": "display_data",
          "data": {
            "text/html": [
              "<html>\n",
              "<head><meta charset=\"utf-8\" /></head>\n",
              "<body>\n",
              "    <div>            <script src=\"https://cdnjs.cloudflare.com/ajax/libs/mathjax/2.7.5/MathJax.js?config=TeX-AMS-MML_SVG\"></script><script type=\"text/javascript\">if (window.MathJax) {MathJax.Hub.Config({SVG: {font: \"STIX-Web\"}});}</script>                <script type=\"text/javascript\">window.PlotlyConfig = {MathJaxConfig: 'local'};</script>\n",
              "        <script src=\"https://cdn.plot.ly/plotly-2.8.3.min.js\"></script>                <div id=\"dee595ae-2e33-471c-951b-586e7c292d79\" class=\"plotly-graph-div\" style=\"height:250px; width:400px;\"></div>            <script type=\"text/javascript\">                                    window.PLOTLYENV=window.PLOTLYENV || {};                                    if (document.getElementById(\"dee595ae-2e33-471c-951b-586e7c292d79\")) {                    Plotly.newPlot(                        \"dee595ae-2e33-471c-951b-586e7c292d79\",                        [{\"mode\":\"markers\",\"name\":\"train\",\"x\":[-1.0,-0.9797979593276978,-0.9595959782600403,-0.939393937587738,-0.9191918969154358,-0.8989899158477783,-0.8787878751754761,-0.8585858345031738,-0.8383838534355164,-0.8181818127632141,-0.7979798316955566,-0.7777777910232544,-0.7575757503509521,-0.7373737692832947,-0.7171717286109924,-0.696969747543335,-0.6767677068710327,-0.6565656661987305,-0.636363685131073,-0.6161616444587708,-0.5959596037864685,-0.575757622718811,-0.5555555820465088,-0.5353535413742065,-0.5151515007019043,-0.49494948983192444,-0.4747474491596222,-0.45454543828964233,-0.4343434274196625,-0.4141414165496826,-0.39393937587738037,-0.3737373650074005,-0.35353535413742065,-0.3333333432674408,-0.31313130259513855,-0.2929292917251587,-0.27272728085517883,-0.252525269985199,-0.23232322931289673,-0.21212121844291687,-0.19191919267177582,-0.17171716690063477,-0.1515151560306549,-0.13131313025951385,-0.1111111119389534,-0.09090909361839294,-0.07070706784725189,-0.050505056977272034,-0.03030303120613098,-0.010101011022925377,0.010101009160280228,0.03030303120613098,0.05050504952669144,0.07070706784725189,0.09090909361839294,0.1111111044883728,0.13131313025951385,0.1515151560306549,0.17171716690063477,0.19191919267177582,0.21212121844291687,0.23232322931289673,0.252525269985199,0.27272725105285645,0.2929292917251587,0.31313130259513855,0.3333333432674408,0.35353535413742065,0.3737373650074005,0.39393937587738037,0.4141414165496826,0.4343434274196625,0.4545454680919647,0.4747474789619446,0.4949495196342468,0.5151515007019043,0.5353535413742065,0.5555555820465088,0.575757622718811,0.5959596037864685,0.6161616444587708,0.636363685131073,0.6565656661987305,0.6767677068710327,0.696969747543335,0.7171717286109924,0.7373737692832947,0.7575757503509521,0.7777777910232544,0.7979798316955566,0.8181818127632141,0.8383838534355164,0.8585858941078186,0.8787878751754761,0.8989899158477783,0.9191919565200806,0.939393937587738,0.9595959782600403,0.9797979593276978,1.0],\"y\":[1.165769100189209,1.0186151266098022,1.0687886476516724,1.0596816539764404,0.8794137239456177,0.9176005721092224,0.8237406015396118,0.8865528106689453,0.76075679063797,0.6992563605308533,0.7592936158180237,0.646009087562561,0.5772888660430908,0.6077374815940857,0.6375048160552979,0.5459951162338257,0.5239220857620239,0.5914134383201599,0.436815470457077,0.5439841747283936,0.3727233111858368,0.49870526790618896,0.4126293361186981,0.4381788969039917,0.37341028451919556,0.4083748459815979,0.3870311975479126,0.28941887617111206,0.2554875612258911,0.345861554145813,0.1578187197446823,0.2173701822757721,0.199172705411911,0.1823619306087494,0.2107623964548111,0.22759410738945007,0.13705295324325562,0.09948541224002838,0.211715430021286,0.11480351537466049,0.11663210391998291,0.1865878403186798,0.14010977745056152,0.13146443665027618,0.01637755148112774,0.1809929609298706,0.11480089277029037,0.14884376525878906,0.001029102597385645,0.09804607182741165,0.07595262676477432,0.18668214976787567,0.03242852911353111,0.01638546586036682,0.12825477123260498,0.17455916106700897,0.2011646181344986,0.10960403084754944,0.07556691020727158,0.2048080861568451,0.11160147190093994,0.2316405177116394,0.2584843039512634,0.25998345017433167,0.1676422357559204,0.1565403938293457,0.1343660056591034,0.3090193271636963,0.17693869769573212,0.16051360964775085,0.2650679051876068,0.24689632654190063,0.26633602380752563,0.411953330039978,0.27087077498435974,0.32386040687561035,0.39844802021980286,0.4404880404472351,0.4813193678855896,0.3914320170879364,0.4015597105026245,0.4777129292488098,0.6059499382972717,0.5114985108375549,0.5465640425682068,0.6553778648376465,0.6376886367797852,0.7559281587600708,0.6732328534126282,0.8230233192443848,0.695754885673523,0.7889435291290283,0.8460881114006042,0.8642594218254089,0.9148620367050171,0.9506844878196716,0.9399616718292236,0.9893357157707214,0.9790088534355164,1.1188404560089111],\"type\":\"scatter\"},{\"line\":{\"color\":\"red\",\"width\":5},\"mode\":\"lines\",\"name\":\"prediction\",\"x\":[-1.0,-0.9797979593276978,-0.9595959782600403,-0.939393937587738,-0.9191918969154358,-0.8989899158477783,-0.8787878751754761,-0.8585858345031738,-0.8383838534355164,-0.8181818127632141,-0.7979798316955566,-0.7777777910232544,-0.7575757503509521,-0.7373737692832947,-0.7171717286109924,-0.696969747543335,-0.6767677068710327,-0.6565656661987305,-0.636363685131073,-0.6161616444587708,-0.5959596037864685,-0.575757622718811,-0.5555555820465088,-0.5353535413742065,-0.5151515007019043,-0.49494948983192444,-0.4747474491596222,-0.45454543828964233,-0.4343434274196625,-0.4141414165496826,-0.39393937587738037,-0.3737373650074005,-0.35353535413742065,-0.3333333432674408,-0.31313130259513855,-0.2929292917251587,-0.27272728085517883,-0.252525269985199,-0.23232322931289673,-0.21212121844291687,-0.19191919267177582,-0.17171716690063477,-0.1515151560306549,-0.13131313025951385,-0.1111111119389534,-0.09090909361839294,-0.07070706784725189,-0.050505056977272034,-0.03030303120613098,-0.010101011022925377,0.010101009160280228,0.03030303120613098,0.05050504952669144,0.07070706784725189,0.09090909361839294,0.1111111044883728,0.13131313025951385,0.1515151560306549,0.17171716690063477,0.19191919267177582,0.21212121844291687,0.23232322931289673,0.252525269985199,0.27272725105285645,0.2929292917251587,0.31313130259513855,0.3333333432674408,0.35353535413742065,0.3737373650074005,0.39393937587738037,0.4141414165496826,0.4343434274196625,0.4545454680919647,0.4747474789619446,0.4949495196342468,0.5151515007019043,0.5353535413742065,0.5555555820465088,0.575757622718811,0.5959596037864685,0.6161616444587708,0.636363685131073,0.6565656661987305,0.6767677068710327,0.696969747543335,0.7171717286109924,0.7373737692832947,0.7575757503509521,0.7777777910232544,0.7979798316955566,0.8181818127632141,0.8383838534355164,0.8585858941078186,0.8787878751754761,0.8989899158477783,0.9191919565200806,0.939393937587738,0.9595959782600403,0.9797979593276978,1.0],\"y\":[0.9940003752708435,0.9692206382751465,0.9444409608840942,0.9196611046791077,0.8948813676834106,0.8701016902923584,0.8453220129013062,0.8205421566963196,0.7957625389099121,0.7709827423095703,0.7462030649185181,0.721423327922821,0.696643590927124,0.6718639135360718,0.64708411693573,0.6223044395446777,0.5975247025489807,0.5727449655532837,0.5479652285575867,0.5231854915618896,0.4984057545661926,0.4736260771751404,0.44884631037712097,0.42406654357910156,0.39928680658340454,0.3745070695877075,0.3497273027896881,0.3249475955963135,0.30016788840293884,0.2753881514072418,0.2506083846092224,0.23638933897018433,0.223643958568573,0.21089856326580048,0.19815315306186676,0.18540775775909424,0.1726623773574829,0.15991699695587158,0.14717158675193787,0.13442617654800415,0.12168078124523163,0.10893537849187851,0.09618999063968658,0.08635835349559784,0.08081221580505371,0.07526607811450958,0.06971993297338486,0.06514555215835571,0.06190343573689461,0.06572142988443375,0.07239662110805511,0.07907181233167648,0.08574700355529785,0.09242218732833862,0.09909738600254059,0.10577256977558136,0.11244775354862213,0.1191229522228241,0.12579813599586487,0.13247331976890564,0.1391485333442688,0.14582371711730957,0.15249890089035034,0.1591740846633911,0.17697495222091675,0.19524770975112915,0.21352051198482513,0.23179326951503754,0.25006604194641113,0.26833879947662354,0.29007983207702637,0.31274259090423584,0.3354053795337677,0.3580681383609772,0.38073092699050903,0.4033936560153961,0.426056444644928,0.44871923327445984,0.4713820219039917,0.4940447211265564,0.5167075395584106,0.5393702983856201,0.5623025298118591,0.5870946049690247,0.6118866205215454,0.6366786956787109,0.6614708304405212,0.686262845993042,0.7110548615455627,0.735846996307373,0.7606390714645386,0.7854311466217041,0.8102232217788696,0.8350152969360352,0.8598073720932007,0.8845994472503662,0.909391462802887,0.9341835379600525,0.958975613117218,0.9837676882743835],\"type\":\"scatter\"}],                        {\"template\":{\"data\":{\"bar\":[{\"error_x\":{\"color\":\"#2a3f5f\"},\"error_y\":{\"color\":\"#2a3f5f\"},\"marker\":{\"line\":{\"color\":\"#E5ECF6\",\"width\":0.5},\"pattern\":{\"fillmode\":\"overlay\",\"size\":10,\"solidity\":0.2}},\"type\":\"bar\"}],\"barpolar\":[{\"marker\":{\"line\":{\"color\":\"#E5ECF6\",\"width\":0.5},\"pattern\":{\"fillmode\":\"overlay\",\"size\":10,\"solidity\":0.2}},\"type\":\"barpolar\"}],\"carpet\":[{\"aaxis\":{\"endlinecolor\":\"#2a3f5f\",\"gridcolor\":\"white\",\"linecolor\":\"white\",\"minorgridcolor\":\"white\",\"startlinecolor\":\"#2a3f5f\"},\"baxis\":{\"endlinecolor\":\"#2a3f5f\",\"gridcolor\":\"white\",\"linecolor\":\"white\",\"minorgridcolor\":\"white\",\"startlinecolor\":\"#2a3f5f\"},\"type\":\"carpet\"}],\"choropleth\":[{\"colorbar\":{\"outlinewidth\":0,\"ticks\":\"\"},\"type\":\"choropleth\"}],\"contour\":[{\"colorbar\":{\"outlinewidth\":0,\"ticks\":\"\"},\"colorscale\":[[0.0,\"#0d0887\"],[0.1111111111111111,\"#46039f\"],[0.2222222222222222,\"#7201a8\"],[0.3333333333333333,\"#9c179e\"],[0.4444444444444444,\"#bd3786\"],[0.5555555555555556,\"#d8576b\"],[0.6666666666666666,\"#ed7953\"],[0.7777777777777778,\"#fb9f3a\"],[0.8888888888888888,\"#fdca26\"],[1.0,\"#f0f921\"]],\"type\":\"contour\"}],\"contourcarpet\":[{\"colorbar\":{\"outlinewidth\":0,\"ticks\":\"\"},\"type\":\"contourcarpet\"}],\"heatmap\":[{\"colorbar\":{\"outlinewidth\":0,\"ticks\":\"\"},\"colorscale\":[[0.0,\"#0d0887\"],[0.1111111111111111,\"#46039f\"],[0.2222222222222222,\"#7201a8\"],[0.3333333333333333,\"#9c179e\"],[0.4444444444444444,\"#bd3786\"],[0.5555555555555556,\"#d8576b\"],[0.6666666666666666,\"#ed7953\"],[0.7777777777777778,\"#fb9f3a\"],[0.8888888888888888,\"#fdca26\"],[1.0,\"#f0f921\"]],\"type\":\"heatmap\"}],\"heatmapgl\":[{\"colorbar\":{\"outlinewidth\":0,\"ticks\":\"\"},\"colorscale\":[[0.0,\"#0d0887\"],[0.1111111111111111,\"#46039f\"],[0.2222222222222222,\"#7201a8\"],[0.3333333333333333,\"#9c179e\"],[0.4444444444444444,\"#bd3786\"],[0.5555555555555556,\"#d8576b\"],[0.6666666666666666,\"#ed7953\"],[0.7777777777777778,\"#fb9f3a\"],[0.8888888888888888,\"#fdca26\"],[1.0,\"#f0f921\"]],\"type\":\"heatmapgl\"}],\"histogram\":[{\"marker\":{\"pattern\":{\"fillmode\":\"overlay\",\"size\":10,\"solidity\":0.2}},\"type\":\"histogram\"}],\"histogram2d\":[{\"colorbar\":{\"outlinewidth\":0,\"ticks\":\"\"},\"colorscale\":[[0.0,\"#0d0887\"],[0.1111111111111111,\"#46039f\"],[0.2222222222222222,\"#7201a8\"],[0.3333333333333333,\"#9c179e\"],[0.4444444444444444,\"#bd3786\"],[0.5555555555555556,\"#d8576b\"],[0.6666666666666666,\"#ed7953\"],[0.7777777777777778,\"#fb9f3a\"],[0.8888888888888888,\"#fdca26\"],[1.0,\"#f0f921\"]],\"type\":\"histogram2d\"}],\"histogram2dcontour\":[{\"colorbar\":{\"outlinewidth\":0,\"ticks\":\"\"},\"colorscale\":[[0.0,\"#0d0887\"],[0.1111111111111111,\"#46039f\"],[0.2222222222222222,\"#7201a8\"],[0.3333333333333333,\"#9c179e\"],[0.4444444444444444,\"#bd3786\"],[0.5555555555555556,\"#d8576b\"],[0.6666666666666666,\"#ed7953\"],[0.7777777777777778,\"#fb9f3a\"],[0.8888888888888888,\"#fdca26\"],[1.0,\"#f0f921\"]],\"type\":\"histogram2dcontour\"}],\"mesh3d\":[{\"colorbar\":{\"outlinewidth\":0,\"ticks\":\"\"},\"type\":\"mesh3d\"}],\"parcoords\":[{\"line\":{\"colorbar\":{\"outlinewidth\":0,\"ticks\":\"\"}},\"type\":\"parcoords\"}],\"pie\":[{\"automargin\":true,\"type\":\"pie\"}],\"scatter\":[{\"marker\":{\"colorbar\":{\"outlinewidth\":0,\"ticks\":\"\"}},\"type\":\"scatter\"}],\"scatter3d\":[{\"line\":{\"colorbar\":{\"outlinewidth\":0,\"ticks\":\"\"}},\"marker\":{\"colorbar\":{\"outlinewidth\":0,\"ticks\":\"\"}},\"type\":\"scatter3d\"}],\"scattercarpet\":[{\"marker\":{\"colorbar\":{\"outlinewidth\":0,\"ticks\":\"\"}},\"type\":\"scattercarpet\"}],\"scattergeo\":[{\"marker\":{\"colorbar\":{\"outlinewidth\":0,\"ticks\":\"\"}},\"type\":\"scattergeo\"}],\"scattergl\":[{\"marker\":{\"colorbar\":{\"outlinewidth\":0,\"ticks\":\"\"}},\"type\":\"scattergl\"}],\"scattermapbox\":[{\"marker\":{\"colorbar\":{\"outlinewidth\":0,\"ticks\":\"\"}},\"type\":\"scattermapbox\"}],\"scatterpolar\":[{\"marker\":{\"colorbar\":{\"outlinewidth\":0,\"ticks\":\"\"}},\"type\":\"scatterpolar\"}],\"scatterpolargl\":[{\"marker\":{\"colorbar\":{\"outlinewidth\":0,\"ticks\":\"\"}},\"type\":\"scatterpolargl\"}],\"scatterternary\":[{\"marker\":{\"colorbar\":{\"outlinewidth\":0,\"ticks\":\"\"}},\"type\":\"scatterternary\"}],\"surface\":[{\"colorbar\":{\"outlinewidth\":0,\"ticks\":\"\"},\"colorscale\":[[0.0,\"#0d0887\"],[0.1111111111111111,\"#46039f\"],[0.2222222222222222,\"#7201a8\"],[0.3333333333333333,\"#9c179e\"],[0.4444444444444444,\"#bd3786\"],[0.5555555555555556,\"#d8576b\"],[0.6666666666666666,\"#ed7953\"],[0.7777777777777778,\"#fb9f3a\"],[0.8888888888888888,\"#fdca26\"],[1.0,\"#f0f921\"]],\"type\":\"surface\"}],\"table\":[{\"cells\":{\"fill\":{\"color\":\"#EBF0F8\"},\"line\":{\"color\":\"white\"}},\"header\":{\"fill\":{\"color\":\"#C8D4E3\"},\"line\":{\"color\":\"white\"}},\"type\":\"table\"}]},\"layout\":{\"annotationdefaults\":{\"arrowcolor\":\"#2a3f5f\",\"arrowhead\":0,\"arrowwidth\":1},\"autotypenumbers\":\"strict\",\"coloraxis\":{\"colorbar\":{\"outlinewidth\":0,\"ticks\":\"\"}},\"colorscale\":{\"diverging\":[[0,\"#8e0152\"],[0.1,\"#c51b7d\"],[0.2,\"#de77ae\"],[0.3,\"#f1b6da\"],[0.4,\"#fde0ef\"],[0.5,\"#f7f7f7\"],[0.6,\"#e6f5d0\"],[0.7,\"#b8e186\"],[0.8,\"#7fbc41\"],[0.9,\"#4d9221\"],[1,\"#276419\"]],\"sequential\":[[0.0,\"#0d0887\"],[0.1111111111111111,\"#46039f\"],[0.2222222222222222,\"#7201a8\"],[0.3333333333333333,\"#9c179e\"],[0.4444444444444444,\"#bd3786\"],[0.5555555555555556,\"#d8576b\"],[0.6666666666666666,\"#ed7953\"],[0.7777777777777778,\"#fb9f3a\"],[0.8888888888888888,\"#fdca26\"],[1.0,\"#f0f921\"]],\"sequentialminus\":[[0.0,\"#0d0887\"],[0.1111111111111111,\"#46039f\"],[0.2222222222222222,\"#7201a8\"],[0.3333333333333333,\"#9c179e\"],[0.4444444444444444,\"#bd3786\"],[0.5555555555555556,\"#d8576b\"],[0.6666666666666666,\"#ed7953\"],[0.7777777777777778,\"#fb9f3a\"],[0.8888888888888888,\"#fdca26\"],[1.0,\"#f0f921\"]]},\"colorway\":[\"#636efa\",\"#EF553B\",\"#00cc96\",\"#ab63fa\",\"#FFA15A\",\"#19d3f3\",\"#FF6692\",\"#B6E880\",\"#FF97FF\",\"#FECB52\"],\"font\":{\"color\":\"#2a3f5f\"},\"geo\":{\"bgcolor\":\"white\",\"lakecolor\":\"white\",\"landcolor\":\"#E5ECF6\",\"showlakes\":true,\"showland\":true,\"subunitcolor\":\"white\"},\"hoverlabel\":{\"align\":\"left\"},\"hovermode\":\"closest\",\"mapbox\":{\"style\":\"light\"},\"paper_bgcolor\":\"white\",\"plot_bgcolor\":\"#E5ECF6\",\"polar\":{\"angularaxis\":{\"gridcolor\":\"white\",\"linecolor\":\"white\",\"ticks\":\"\"},\"bgcolor\":\"#E5ECF6\",\"radialaxis\":{\"gridcolor\":\"white\",\"linecolor\":\"white\",\"ticks\":\"\"}},\"scene\":{\"xaxis\":{\"backgroundcolor\":\"#E5ECF6\",\"gridcolor\":\"white\",\"gridwidth\":2,\"linecolor\":\"white\",\"showbackground\":true,\"ticks\":\"\",\"zerolinecolor\":\"white\"},\"yaxis\":{\"backgroundcolor\":\"#E5ECF6\",\"gridcolor\":\"white\",\"gridwidth\":2,\"linecolor\":\"white\",\"showbackground\":true,\"ticks\":\"\",\"zerolinecolor\":\"white\"},\"zaxis\":{\"backgroundcolor\":\"#E5ECF6\",\"gridcolor\":\"white\",\"gridwidth\":2,\"linecolor\":\"white\",\"showbackground\":true,\"ticks\":\"\",\"zerolinecolor\":\"white\"}},\"shapedefaults\":{\"line\":{\"color\":\"#2a3f5f\"}},\"ternary\":{\"aaxis\":{\"gridcolor\":\"white\",\"linecolor\":\"white\",\"ticks\":\"\"},\"baxis\":{\"gridcolor\":\"white\",\"linecolor\":\"white\",\"ticks\":\"\"},\"bgcolor\":\"#E5ECF6\",\"caxis\":{\"gridcolor\":\"white\",\"linecolor\":\"white\",\"ticks\":\"\"}},\"title\":{\"x\":0.05},\"xaxis\":{\"automargin\":true,\"gridcolor\":\"white\",\"linecolor\":\"white\",\"ticks\":\"\",\"title\":{\"standoff\":15},\"zerolinecolor\":\"white\",\"zerolinewidth\":2},\"yaxis\":{\"automargin\":true,\"gridcolor\":\"white\",\"linecolor\":\"white\",\"ticks\":\"\",\"title\":{\"standoff\":15},\"zerolinecolor\":\"white\",\"zerolinewidth\":2}}},\"margin\":{\"l\":20,\"r\":20,\"t\":20,\"b\":20},\"legend\":{\"yanchor\":\"top\",\"y\":0.99,\"xanchor\":\"center\",\"x\":0.5},\"annotations\":[{\"showarrow\":false,\"text\":\"Loss=0.0044\",\"x\":0.5,\"y\":0}],\"width\":400,\"height\":250},                        {\"responsive\": true}                    ).then(function(){\n",
              "                            \n",
              "var gd = document.getElementById('dee595ae-2e33-471c-951b-586e7c292d79');\n",
              "var x = new MutationObserver(function (mutations, observer) {{\n",
              "        var display = window.getComputedStyle(gd).display;\n",
              "        if (!display || display === 'none') {{\n",
              "            console.log([gd, 'removed!']);\n",
              "            Plotly.purge(gd);\n",
              "            observer.disconnect();\n",
              "        }}\n",
              "}});\n",
              "\n",
              "// Listen for the removal of the full notebook cells\n",
              "var notebookContainer = gd.closest('#notebook-container');\n",
              "if (notebookContainer) {{\n",
              "    x.observe(notebookContainer, {childList: true});\n",
              "}}\n",
              "\n",
              "// Listen for the clearing of the current output cell\n",
              "var outputEl = gd.closest('.output');\n",
              "if (outputEl) {{\n",
              "    x.observe(outputEl, {childList: true});\n",
              "}}\n",
              "\n",
              "                        })                };                            </script>        </div>\n",
              "</body>\n",
              "</html>"
            ]
          },
          "metadata": {}
        },
        {
          "output_type": "display_data",
          "data": {
            "text/plain": [
              "<IPython.core.display.Javascript object>"
            ],
            "application/javascript": [
              "window[\"bc13adba-ae0c-11ed-8380-0242ac1c000c\"] = google.colab.output.setActiveOutputArea(window[\"bc0da28a-ae0c-11ed-8380-0242ac1c000c\"]);\n",
              "//# sourceURL=js_b4c523923b"
            ]
          },
          "metadata": {}
        }
      ]
    },
    {
      "cell_type": "code",
      "source": [],
      "metadata": {
        "id": "MWHMPZvSEUol"
      },
      "execution_count": 23,
      "outputs": []
    }
  ]
}