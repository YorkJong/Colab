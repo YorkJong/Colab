{
  "nbformat": 4,
  "nbformat_minor": 0,
  "metadata": {
    "colab": {
      "provenance": [],
      "authorship_tag": "ABX9TyPSg0SshfP2gFZN9keOx5Vf",
      "include_colab_link": true
    },
    "kernelspec": {
      "name": "python3",
      "display_name": "Python 3"
    },
    "language_info": {
      "name": "python"
    }
  },
  "cells": [
    {
      "cell_type": "markdown",
      "metadata": {
        "id": "view-in-github",
        "colab_type": "text"
      },
      "source": [
        "<a href=\"https://colab.research.google.com/github/YorkJong/Colab/blob/main/PytorchTutorial2_Regression.ipynb\" target=\"_parent\"><img src=\"https://colab.research.google.com/assets/colab-badge.svg\" alt=\"Open In Colab\"/></a>"
      ]
    },
    {
      "cell_type": "markdown",
      "source": [
        "[莫凡Pytorch教程（二）：Pytorch回归模型搭建](https://juejin.cn/post/7089612360226177037)\n",
        "\n"
      ],
      "metadata": {
        "id": "56vfv49DLxJj"
      }
    },
    {
      "cell_type": "code",
      "source": [
        "import time\n",
        "import torch\n",
        "import torch.nn.functional as F\n",
        "import matplotlib.pyplot as plt\n",
        "import plotly.express as px\n",
        "import plotly.graph_objs as go\n",
        "from google.colab import widgets\n",
        "\n",
        "# x data (tensor), shape=(100, 1)\n",
        "x = torch.unsqueeze(torch.linspace(-1, 1, 100), dim=1)   \n",
        "#x = torch.linspace(-1, 1, 100)\n",
        "\n",
        "# noisy y data (tensor), shape=(100, 1)\n",
        "y = x.pow(2) + 0.2*torch.rand(x.size())                  \n",
        "\n",
        "print(\"x.shape:\", x.shape)\n",
        "print(\"y.shape:\", y.shape)"
      ],
      "metadata": {
        "colab": {
          "base_uri": "https://localhost:8080/"
        },
        "id": "M1a7djnbL4AF",
        "outputId": "1eb39927-9883-4cec-c32e-c443aab22a54"
      },
      "execution_count": 31,
      "outputs": [
        {
          "output_type": "stream",
          "name": "stdout",
          "text": [
            "x.shape: torch.Size([100, 1])\n",
            "y.shape: torch.Size([100, 1])\n"
          ]
        }
      ]
    },
    {
      "cell_type": "code",
      "source": [
        "grid = widgets.Grid(1, 2)\n",
        "\n",
        "# Scatter with matplotlib\n",
        "with grid.output_to(0, 0):\n",
        "    plt.scatter(x, y)\n",
        "    plt.show()\n",
        "\n",
        "# Scatter with Plotly\n",
        "with grid.output_to(0, 1):\n",
        "    #fig = go.Figure(layout=go.Layout(width=500, height=500))\n",
        "    #fig.add_trace(go.Scatter(y=y[:,0], x=x[:,0], mode='markers'))\n",
        "    fig = px.scatter(y=y[:,0], x=x[:,0], width=500, height=400)\n",
        "    fig.update_layout(\n",
        "        width=400, height=250,\n",
        "        margin=dict(l=20, r=20, t=20, b=20),\n",
        "    )\n",
        "    fig.show()"
      ],
      "metadata": {
        "colab": {
          "base_uri": "https://localhost:8080/",
          "height": 271
        },
        "id": "1ukmLew0MQ30",
        "outputId": "6b9d206f-fb31-455a-84e3-d6d53eb60a9d"
      },
      "execution_count": 32,
      "outputs": [
        {
          "output_type": "display_data",
          "data": {
            "text/plain": [
              "<IPython.core.display.HTML object>"
            ],
            "text/html": [
              "<style>\n",
              "       table#id57, #id57 > tbody > tr > th, #id57 > tbody > tr > td {\n",
              "         border: 1px solid lightgray;\n",
              "         border-collapse:collapse;\n",
              "         \n",
              "        }</style>"
            ]
          },
          "metadata": {}
        },
        {
          "output_type": "display_data",
          "data": {
            "text/plain": [
              "<IPython.core.display.HTML object>"
            ],
            "text/html": [
              "<table id=id57><tr><td id=id57-0-0></td><td id=id57-0-1></td></tr></table>"
            ]
          },
          "metadata": {}
        },
        {
          "output_type": "display_data",
          "data": {
            "text/plain": [
              "<IPython.core.display.Javascript object>"
            ],
            "application/javascript": [
              "window[\"b3392fb6-ae0d-11ed-8380-0242ac1c000c\"] = google.colab.output.getActiveOutputArea();\n",
              "//# sourceURL=js_a935b03aa5"
            ]
          },
          "metadata": {}
        },
        {
          "output_type": "display_data",
          "data": {
            "text/plain": [
              "<IPython.core.display.Javascript object>"
            ],
            "application/javascript": [
              "window[\"b3398344-ae0d-11ed-8380-0242ac1c000c\"] = document.querySelector(\"#id57-0-0\");\n",
              "//# sourceURL=js_19884e712a"
            ]
          },
          "metadata": {}
        },
        {
          "output_type": "display_data",
          "data": {
            "text/plain": [
              "<IPython.core.display.Javascript object>"
            ],
            "application/javascript": [
              "window[\"b33aa206-ae0d-11ed-8380-0242ac1c000c\"] = google.colab.output.setActiveOutputArea(window[\"b3398344-ae0d-11ed-8380-0242ac1c000c\"]);\n",
              "//# sourceURL=js_fa16fa1959"
            ]
          },
          "metadata": {}
        },
        {
          "output_type": "display_data",
          "data": {
            "text/plain": [
              "<Figure size 432x288 with 1 Axes>"
            ],
            "image/png": "[encoded data removed]"
          },
          "metadata": {
            "needs_background": "light"
          }
        },
        {
          "output_type": "display_data",
          "data": {
            "text/plain": [
              "<IPython.core.display.Javascript object>"
            ],
            "application/javascript": [
              "window[\"b39f0084-ae0d-11ed-8380-0242ac1c000c\"] = google.colab.output.setActiveOutputArea(window[\"b3392fb6-ae0d-11ed-8380-0242ac1c000c\"]);\n",
              "//# sourceURL=js_447098868c"
            ]
          },
          "metadata": {}
        },
        {
          "output_type": "display_data",
          "data": {
            "text/plain": [
              "<IPython.core.display.Javascript object>"
            ],
            "application/javascript": [
              "window[\"b3a677b0-ae0d-11ed-8380-0242ac1c000c\"] = google.colab.output.getActiveOutputArea();\n",
              "//# sourceURL=js_b322d2d34d"
            ]
          },
          "metadata": {}
        },
        {
          "output_type": "display_data",
          "data": {
            "text/plain": [
              "<IPython.core.display.Javascript object>"
            ],
            "application/javascript": [
              "window[\"b3a7c5ac-ae0d-11ed-8380-0242ac1c000c\"] = document.querySelector(\"#id57-0-1\");\n",
              "//# sourceURL=js_b2003478ca"
            ]
          },
          "metadata": {}
        },
        {
          "output_type": "display_data",
          "data": {
            "text/plain": [
              "<IPython.core.display.Javascript object>"
            ],
            "application/javascript": [
              "window[\"b3a90cd2-ae0d-11ed-8380-0242ac1c000c\"] = google.colab.output.setActiveOutputArea(window[\"b3a7c5ac-ae0d-11ed-8380-0242ac1c000c\"]);\n",
              "//# sourceURL=js_ffc9a8d8e6"
            ]
          },
          "metadata": {}
        },
        {
          "output_type": "display_data",
          "data": {
            "text/html": [
              "<html>\n",
              "<head><meta charset=\"utf-8\" /></head>\n",
              "<body>\n",
              "    <div>            <script src=\"https://cdnjs.cloudflare.com/ajax/libs/mathjax/2.7.5/MathJax.js?config=TeX-AMS-MML_SVG\"></script><script type=\"text/javascript\">if (window.MathJax) {MathJax.Hub.Config({SVG: {font: \"STIX-Web\"}});}</script>                <script type=\"text/javascript\">window.PlotlyConfig = {MathJaxConfig: 'local'};</script>\n",
              "        <script src=\"https://cdn.plot.ly/plotly-2.8.3.min.js\"></script>                <div id=\"1fc058f4-0e9f-4573-90fc-4a64ecd053a4\" class=\"plotly-graph-div\" style=\"height:250px; width:400px;\"></div>            <script type=\"text/javascript\">                                    window.PLOTLYENV=window.PLOTLYENV || {};                                    if (document.getElementById(\"1fc058f4-0e9f-4573-90fc-4a64ecd053a4\")) {                    Plotly.newPlot(                        \"1fc058f4-0e9f-4573-90fc-4a64ecd053a4\",                        [{\"hovertemplate\":\"x=%{x}<br>y=%{y}<extra></extra>\",\"legendgroup\":\"\",\"marker\":{\"color\":\"#636efa\",\"symbol\":\"circle\"},\"mode\":\"markers\",\"name\":\"\",\"orientation\":\"v\",\"showlegend\":false,\"x\":[-1.0,-0.9797979593276978,-0.9595959782600403,-0.939393937587738,-0.9191918969154358,-0.8989899158477783,-0.8787878751754761,-0.8585858345031738,-0.8383838534355164,-0.8181818127632141,-0.7979798316955566,-0.7777777910232544,-0.7575757503509521,-0.7373737692832947,-0.7171717286109924,-0.696969747543335,-0.6767677068710327,-0.6565656661987305,-0.636363685131073,-0.6161616444587708,-0.5959596037864685,-0.575757622718811,-0.5555555820465088,-0.5353535413742065,-0.5151515007019043,-0.49494948983192444,-0.4747474491596222,-0.45454543828964233,-0.4343434274196625,-0.4141414165496826,-0.39393937587738037,-0.3737373650074005,-0.35353535413742065,-0.3333333432674408,-0.31313130259513855,-0.2929292917251587,-0.27272728085517883,-0.252525269985199,-0.23232322931289673,-0.21212121844291687,-0.19191919267177582,-0.17171716690063477,-0.1515151560306549,-0.13131313025951385,-0.1111111119389534,-0.09090909361839294,-0.07070706784725189,-0.050505056977272034,-0.03030303120613098,-0.010101011022925377,0.010101009160280228,0.03030303120613098,0.05050504952669144,0.07070706784725189,0.09090909361839294,0.1111111044883728,0.13131313025951385,0.1515151560306549,0.17171716690063477,0.19191919267177582,0.21212121844291687,0.23232322931289673,0.252525269985199,0.27272725105285645,0.2929292917251587,0.31313130259513855,0.3333333432674408,0.35353535413742065,0.3737373650074005,0.39393937587738037,0.4141414165496826,0.4343434274196625,0.4545454680919647,0.4747474789619446,0.4949495196342468,0.5151515007019043,0.5353535413742065,0.5555555820465088,0.575757622718811,0.5959596037864685,0.6161616444587708,0.636363685131073,0.6565656661987305,0.6767677068710327,0.696969747543335,0.7171717286109924,0.7373737692832947,0.7575757503509521,0.7777777910232544,0.7979798316955566,0.8181818127632141,0.8383838534355164,0.8585858941078186,0.8787878751754761,0.8989899158477783,0.9191919565200806,0.939393937587738,0.9595959782600403,0.9797979593276978,1.0],\"xaxis\":\"x\",\"y\":[1.0099974870681763,1.0072219371795654,1.0099247694015503,0.9611749649047852,0.9279454946517944,0.9816203117370605,0.9601155519485474,0.9141175150871277,0.728209376335144,0.7981045246124268,0.8105033040046692,0.7920137643814087,0.6284909844398499,0.6921878457069397,0.6287978887557983,0.6347944736480713,0.4599617123603821,0.546855092048645,0.5958953499794006,0.4685359299182892,0.4293646812438965,0.3328476548194885,0.45885521173477173,0.3891433775424957,0.33128294348716736,0.2812963128089905,0.3793853521347046,0.28013190627098083,0.38385850191116333,0.2957901656627655,0.17856056988239288,0.2829367518424988,0.26702553033828735,0.12371183931827545,0.29334259033203125,0.24366557598114014,0.2716286778450012,0.10515822470188141,0.16934537887573242,0.2073558270931244,0.18411926925182343,0.19121147692203522,0.16104671359062195,0.131306990981102,0.11998308449983597,0.13284242153167725,0.023279160261154175,0.07200894504785538,0.1301877647638321,0.18350090086460114,0.13594020903110504,0.016691366210579872,0.15406765043735504,0.12651130557060242,0.06869950890541077,0.19623909890651703,0.18318584561347961,0.13165216147899628,0.17924058437347412,0.23394301533699036,0.15843865275382996,0.2441789209842682,0.23037433624267578,0.2550186216831207,0.2609202265739441,0.13520386815071106,0.20630039274692535,0.17826740443706512,0.3028525114059448,0.18827319145202637,0.2889060378074646,0.20685386657714844,0.2677232027053833,0.3784557580947876,0.24910186231136322,0.3137992322444916,0.3405122756958008,0.38410139083862305,0.3660065233707428,0.4308307468891144,0.5179815888404846,0.5358548760414124,0.6262706518173218,0.6188496947288513,0.6241598129272461,0.5959782004356384,0.7233558297157288,0.7146933674812317,0.6408872604370117,0.7416176795959473,0.6951146721839905,0.7945629358291626,0.8582311868667603,0.8718222379684448,0.9456106424331665,0.8993445634841919,0.9166553616523743,0.9495737552642822,1.076291561126709,1.1565899848937988],\"yaxis\":\"y\",\"type\":\"scatter\"}],                        {\"template\":{\"data\":{\"bar\":[{\"error_x\":{\"color\":\"#2a3f5f\"},\"error_y\":{\"color\":\"#2a3f5f\"},\"marker\":{\"line\":{\"color\":\"#E5ECF6\",\"width\":0.5},\"pattern\":{\"fillmode\":\"overlay\",\"size\":10,\"solidity\":0.2}},\"type\":\"bar\"}],\"barpolar\":[{\"marker\":{\"line\":{\"color\":\"#E5ECF6\",\"width\":0.5},\"pattern\":{\"fillmode\":\"overlay\",\"size\":10,\"solidity\":0.2}},\"type\":\"barpolar\"}],\"carpet\":[{\"aaxis\":{\"endlinecolor\":\"#2a3f5f\",\"gridcolor\":\"white\",\"linecolor\":\"white\",\"minorgridcolor\":\"white\",\"startlinecolor\":\"#2a3f5f\"},\"baxis\":{\"endlinecolor\":\"#2a3f5f\",\"gridcolor\":\"white\",\"linecolor\":\"white\",\"minorgridcolor\":\"white\",\"startlinecolor\":\"#2a3f5f\"},\"type\":\"carpet\"}],\"choropleth\":[{\"colorbar\":{\"outlinewidth\":0,\"ticks\":\"\"},\"type\":\"choropleth\"}],\"contour\":[{\"colorbar\":{\"outlinewidth\":0,\"ticks\":\"\"},\"colorscale\":[[0.0,\"#0d0887\"],[0.1111111111111111,\"#46039f\"],[0.2222222222222222,\"#7201a8\"],[0.3333333333333333,\"#9c179e\"],[0.4444444444444444,\"#bd3786\"],[0.5555555555555556,\"#d8576b\"],[0.6666666666666666,\"#ed7953\"],[0.7777777777777778,\"#fb9f3a\"],[0.8888888888888888,\"#fdca26\"],[1.0,\"#f0f921\"]],\"type\":\"contour\"}],\"contourcarpet\":[{\"colorbar\":{\"outlinewidth\":0,\"ticks\":\"\"},\"type\":\"contourcarpet\"}],\"heatmap\":[{\"colorbar\":{\"outlinewidth\":0,\"ticks\":\"\"},\"colorscale\":[[0.0,\"#0d0887\"],[0.1111111111111111,\"#46039f\"],[0.2222222222222222,\"#7201a8\"],[0.3333333333333333,\"#9c179e\"],[0.4444444444444444,\"#bd3786\"],[0.5555555555555556,\"#d8576b\"],[0.6666666666666666,\"#ed7953\"],[0.7777777777777778,\"#fb9f3a\"],[0.8888888888888888,\"#fdca26\"],[1.0,\"#f0f921\"]],\"type\":\"heatmap\"}],\"heatmapgl\":[{\"colorbar\":{\"outlinewidth\":0,\"ticks\":\"\"},\"colorscale\":[[0.0,\"#0d0887\"],[0.1111111111111111,\"#46039f\"],[0.2222222222222222,\"#7201a8\"],[0.3333333333333333,\"#9c179e\"],[0.4444444444444444,\"#bd3786\"],[0.5555555555555556,\"#d8576b\"],[0.6666666666666666,\"#ed7953\"],[0.7777777777777778,\"#fb9f3a\"],[0.8888888888888888,\"#fdca26\"],[1.0,\"#f0f921\"]],\"type\":\"heatmapgl\"}],\"histogram\":[{\"marker\":{\"pattern\":{\"fillmode\":\"overlay\",\"size\":10,\"solidity\":0.2}},\"type\":\"histogram\"}],\"histogram2d\":[{\"colorbar\":{\"outlinewidth\":0,\"ticks\":\"\"},\"colorscale\":[[0.0,\"#0d0887\"],[0.1111111111111111,\"#46039f\"],[0.2222222222222222,\"#7201a8\"],[0.3333333333333333,\"#9c179e\"],[0.4444444444444444,\"#bd3786\"],[0.5555555555555556,\"#d8576b\"],[0.6666666666666666,\"#ed7953\"],[0.7777777777777778,\"#fb9f3a\"],[0.8888888888888888,\"#fdca26\"],[1.0,\"#f0f921\"]],\"type\":\"histogram2d\"}],\"histogram2dcontour\":[{\"colorbar\":{\"outlinewidth\":0,\"ticks\":\"\"},\"colorscale\":[[0.0,\"#0d0887\"],[0.1111111111111111,\"#46039f\"],[0.2222222222222222,\"#7201a8\"],[0.3333333333333333,\"#9c179e\"],[0.4444444444444444,\"#bd3786\"],[0.5555555555555556,\"#d8576b\"],[0.6666666666666666,\"#ed7953\"],[0.7777777777777778,\"#fb9f3a\"],[0.8888888888888888,\"#fdca26\"],[1.0,\"#f0f921\"]],\"type\":\"histogram2dcontour\"}],\"mesh3d\":[{\"colorbar\":{\"outlinewidth\":0,\"ticks\":\"\"},\"type\":\"mesh3d\"}],\"parcoords\":[{\"line\":{\"colorbar\":{\"outlinewidth\":0,\"ticks\":\"\"}},\"type\":\"parcoords\"}],\"pie\":[{\"automargin\":true,\"type\":\"pie\"}],\"scatter\":[{\"marker\":{\"colorbar\":{\"outlinewidth\":0,\"ticks\":\"\"}},\"type\":\"scatter\"}],\"scatter3d\":[{\"line\":{\"colorbar\":{\"outlinewidth\":0,\"ticks\":\"\"}},\"marker\":{\"colorbar\":{\"outlinewidth\":0,\"ticks\":\"\"}},\"type\":\"scatter3d\"}],\"scattercarpet\":[{\"marker\":{\"colorbar\":{\"outlinewidth\":0,\"ticks\":\"\"}},\"type\":\"scattercarpet\"}],\"scattergeo\":[{\"marker\":{\"colorbar\":{\"outlinewidth\":0,\"ticks\":\"\"}},\"type\":\"scattergeo\"}],\"scattergl\":[{\"marker\":{\"colorbar\":{\"outlinewidth\":0,\"ticks\":\"\"}},\"type\":\"scattergl\"}],\"scattermapbox\":[{\"marker\":{\"colorbar\":{\"outlinewidth\":0,\"ticks\":\"\"}},\"type\":\"scattermapbox\"}],\"scatterpolar\":[{\"marker\":{\"colorbar\":{\"outlinewidth\":0,\"ticks\":\"\"}},\"type\":\"scatterpolar\"}],\"scatterpolargl\":[{\"marker\":{\"colorbar\":{\"outlinewidth\":0,\"ticks\":\"\"}},\"type\":\"scatterpolargl\"}],\"scatterternary\":[{\"marker\":{\"colorbar\":{\"outlinewidth\":0,\"ticks\":\"\"}},\"type\":\"scatterternary\"}],\"surface\":[{\"colorbar\":{\"outlinewidth\":0,\"ticks\":\"\"},\"colorscale\":[[0.0,\"#0d0887\"],[0.1111111111111111,\"#46039f\"],[0.2222222222222222,\"#7201a8\"],[0.3333333333333333,\"#9c179e\"],[0.4444444444444444,\"#bd3786\"],[0.5555555555555556,\"#d8576b\"],[0.6666666666666666,\"#ed7953\"],[0.7777777777777778,\"#fb9f3a\"],[0.8888888888888888,\"#fdca26\"],[1.0,\"#f0f921\"]],\"type\":\"surface\"}],\"table\":[{\"cells\":{\"fill\":{\"color\":\"#EBF0F8\"},\"line\":{\"color\":\"white\"}},\"header\":{\"fill\":{\"color\":\"#C8D4E3\"},\"line\":{\"color\":\"white\"}},\"type\":\"table\"}]},\"layout\":{\"annotationdefaults\":{\"arrowcolor\":\"#2a3f5f\",\"arrowhead\":0,\"arrowwidth\":1},\"autotypenumbers\":\"strict\",\"coloraxis\":{\"colorbar\":{\"outlinewidth\":0,\"ticks\":\"\"}},\"colorscale\":{\"diverging\":[[0,\"#8e0152\"],[0.1,\"#c51b7d\"],[0.2,\"#de77ae\"],[0.3,\"#f1b6da\"],[0.4,\"#fde0ef\"],[0.5,\"#f7f7f7\"],[0.6,\"#e6f5d0\"],[0.7,\"#b8e186\"],[0.8,\"#7fbc41\"],[0.9,\"#4d9221\"],[1,\"#276419\"]],\"sequential\":[[0.0,\"#0d0887\"],[0.1111111111111111,\"#46039f\"],[0.2222222222222222,\"#7201a8\"],[0.3333333333333333,\"#9c179e\"],[0.4444444444444444,\"#bd3786\"],[0.5555555555555556,\"#d8576b\"],[0.6666666666666666,\"#ed7953\"],[0.7777777777777778,\"#fb9f3a\"],[0.8888888888888888,\"#fdca26\"],[1.0,\"#f0f921\"]],\"sequentialminus\":[[0.0,\"#0d0887\"],[0.1111111111111111,\"#46039f\"],[0.2222222222222222,\"#7201a8\"],[0.3333333333333333,\"#9c179e\"],[0.4444444444444444,\"#bd3786\"],[0.5555555555555556,\"#d8576b\"],[0.6666666666666666,\"#ed7953\"],[0.7777777777777778,\"#fb9f3a\"],[0.8888888888888888,\"#fdca26\"],[1.0,\"#f0f921\"]]},\"colorway\":[\"#636efa\",\"#EF553B\",\"#00cc96\",\"#ab63fa\",\"#FFA15A\",\"#19d3f3\",\"#FF6692\",\"#B6E880\",\"#FF97FF\",\"#FECB52\"],\"font\":{\"color\":\"#2a3f5f\"},\"geo\":{\"bgcolor\":\"white\",\"lakecolor\":\"white\",\"landcolor\":\"#E5ECF6\",\"showlakes\":true,\"showland\":true,\"subunitcolor\":\"white\"},\"hoverlabel\":{\"align\":\"left\"},\"hovermode\":\"closest\",\"mapbox\":{\"style\":\"light\"},\"paper_bgcolor\":\"white\",\"plot_bgcolor\":\"#E5ECF6\",\"polar\":{\"angularaxis\":{\"gridcolor\":\"white\",\"linecolor\":\"white\",\"ticks\":\"\"},\"bgcolor\":\"#E5ECF6\",\"radialaxis\":{\"gridcolor\":\"white\",\"linecolor\":\"white\",\"ticks\":\"\"}},\"scene\":{\"xaxis\":{\"backgroundcolor\":\"#E5ECF6\",\"gridcolor\":\"white\",\"gridwidth\":2,\"linecolor\":\"white\",\"showbackground\":true,\"ticks\":\"\",\"zerolinecolor\":\"white\"},\"yaxis\":{\"backgroundcolor\":\"#E5ECF6\",\"gridcolor\":\"white\",\"gridwidth\":2,\"linecolor\":\"white\",\"showbackground\":true,\"ticks\":\"\",\"zerolinecolor\":\"white\"},\"zaxis\":{\"backgroundcolor\":\"#E5ECF6\",\"gridcolor\":\"white\",\"gridwidth\":2,\"linecolor\":\"white\",\"showbackground\":true,\"ticks\":\"\",\"zerolinecolor\":\"white\"}},\"shapedefaults\":{\"line\":{\"color\":\"#2a3f5f\"}},\"ternary\":{\"aaxis\":{\"gridcolor\":\"white\",\"linecolor\":\"white\",\"ticks\":\"\"},\"baxis\":{\"gridcolor\":\"white\",\"linecolor\":\"white\",\"ticks\":\"\"},\"bgcolor\":\"#E5ECF6\",\"caxis\":{\"gridcolor\":\"white\",\"linecolor\":\"white\",\"ticks\":\"\"}},\"title\":{\"x\":0.05},\"xaxis\":{\"automargin\":true,\"gridcolor\":\"white\",\"linecolor\":\"white\",\"ticks\":\"\",\"title\":{\"standoff\":15},\"zerolinecolor\":\"white\",\"zerolinewidth\":2},\"yaxis\":{\"automargin\":true,\"gridcolor\":\"white\",\"linecolor\":\"white\",\"ticks\":\"\",\"title\":{\"standoff\":15},\"zerolinecolor\":\"white\",\"zerolinewidth\":2}}},\"xaxis\":{\"anchor\":\"y\",\"domain\":[0.0,1.0],\"title\":{\"text\":\"x\"}},\"yaxis\":{\"anchor\":\"x\",\"domain\":[0.0,1.0],\"title\":{\"text\":\"y\"}},\"legend\":{\"tracegroupgap\":0},\"margin\":{\"t\":20,\"l\":20,\"r\":20,\"b\":20},\"height\":250,\"width\":400},                        {\"responsive\": true}                    ).then(function(){\n",
              "                            \n",
              "var gd = document.getElementById('1fc058f4-0e9f-4573-90fc-4a64ecd053a4');\n",
              "var x = new MutationObserver(function (mutations, observer) {{\n",
              "        var display = window.getComputedStyle(gd).display;\n",
              "        if (!display || display === 'none') {{\n",
              "            console.log([gd, 'removed!']);\n",
              "            Plotly.purge(gd);\n",
              "            observer.disconnect();\n",
              "        }}\n",
              "}});\n",
              "\n",
              "// Listen for the removal of the full notebook cells\n",
              "var notebookContainer = gd.closest('#notebook-container');\n",
              "if (notebookContainer) {{\n",
              "    x.observe(notebookContainer, {childList: true});\n",
              "}}\n",
              "\n",
              "// Listen for the clearing of the current output cell\n",
              "var outputEl = gd.closest('.output');\n",
              "if (outputEl) {{\n",
              "    x.observe(outputEl, {childList: true});\n",
              "}}\n",
              "\n",
              "                        })                };                            </script>        </div>\n",
              "</body>\n",
              "</html>"
            ]
          },
          "metadata": {}
        },
        {
          "output_type": "display_data",
          "data": {
            "text/plain": [
              "<IPython.core.display.Javascript object>"
            ],
            "application/javascript": [
              "window[\"b3e659d4-ae0d-11ed-8380-0242ac1c000c\"] = google.colab.output.setActiveOutputArea(window[\"b3a677b0-ae0d-11ed-8380-0242ac1c000c\"]);\n",
              "//# sourceURL=js_1b27e66d9b"
            ]
          },
          "metadata": {}
        }
      ]
    },
    {
      "cell_type": "code",
      "source": [
        "class Net(torch.nn.Module):\n",
        "    def __init__(self, n_feature, n_hidden, n_output):\n",
        "        \"\"\" \n",
        "        Parameters\n",
        "        ----------\n",
        "        n_feature \n",
        "            represents the number of features,\n",
        "        n_hidden \n",
        "            represents the number of neurons in the hidden layer,\n",
        "        n_output \n",
        "            represents the number of output values\n",
        "        \"\"\"\n",
        "        super(Net, self).__init__()\n",
        "        self.hidden = torch.nn.Linear(n_feature, n_hidden)\n",
        "        self.predict = torch.nn.Linear(n_hidden, n_output)\n",
        "    \n",
        "    def forward(self, x):\n",
        "        \"\"\"\n",
        "        Parameters\n",
        "        ----------\n",
        "        x\n",
        "            the input data\n",
        "        \"\"\"\n",
        "        x = F.relu(self.hidden(x))\n",
        "        y = self.predict(x)\n",
        "        return y"
      ],
      "metadata": {
        "id": "X67AiFwTMc3k"
      },
      "execution_count": 33,
      "outputs": []
    },
    {
      "cell_type": "code",
      "source": [
        "# Visualizing Functions\n",
        "\n",
        "def show_regress_mpl(x, y, prediction):\n",
        "    \"\"\"Plot and show learning process with Maplotlib.\n",
        "    \"\"\"\n",
        "    plt.cla()\n",
        "    plt.scatter(x, y)\n",
        "    plt.plot(x, prediction, 'r-', lw=5)\n",
        "    plt.text(0.5, 0, f'Loss={loss:.4f}')\n",
        "    #plt.savefig(\"./img/02_\"+str(step)+\".png\")\n",
        "    #plt.pause(0.01)\n",
        "    plt.show()\n",
        "\n",
        "\n",
        "def show_regress_plotly(x, y, prediction):\n",
        "    \"\"\"Plot and show learning process with Plotly.\n",
        "    \"\"\"\n",
        "    fig = go.Figure([\n",
        "        go.Scatter(x=x, y=y, mode='markers', name='train'),\n",
        "        go.Scatter(x=x, y=prediction, mode='lines', name='prediction', \n",
        "                   line=dict(color='red', width=5))\n",
        "    ])\n",
        "    fig.update_layout(\n",
        "        annotations=[go.layout.Annotation(\n",
        "            text=f\"Loss={loss:.4f}\", x=0.5, y=0, showarrow=False)],\n",
        "        width=400, height=250,\n",
        "        margin=dict(l=20, r=20, t=20, b=20),\n",
        "        legend=dict(yanchor=\"top\", y=0.99, xanchor=\"center\", x=0.5)\n",
        "    )\n",
        "    fig.show()\n"
      ],
      "metadata": {
        "id": "eXkB9oGMcATi"
      },
      "execution_count": 34,
      "outputs": []
    },
    {
      "cell_type": "code",
      "source": [
        "net = Net(1, 11, 1)\n",
        "print(net)\n",
        "\n",
        "optimizer = torch.optim.SGD(net.parameters(), lr=0.5)  \n",
        "loss_func = torch.nn.MSELoss()    # For regression problem, use MSE\n",
        "\n",
        "grid = widgets.Grid(2, 2)\n",
        "#plt.ion()\n",
        "for step in range(100):\n",
        "    # Forward (full batch at once)\n",
        "    prediction = net(x)\n",
        "    loss = loss_func(prediction, y)\n",
        "    \n",
        "    # First, reduce all parameter gradients to zero (because this value will be \n",
        "    # kept after each calculation of gradient and not clearing it will lead to \n",
        "    # incorrect results)\n",
        "    optimizer.zero_grad()   \n",
        "                            \n",
        "    # Perform reverse transmission to calculate gradients of all nodes in the \n",
        "    # computation graph                        \n",
        "    loss.backward()         \n",
        "\n",
        "    # After calculation, use optimizer to optimize these gradients\n",
        "    optimizer.step() \n",
        "\n",
        "    if step % 20 == 0:\n",
        "        if step/20 == 1:\n",
        "            with grid.output_to(0, 0):\n",
        "                show_regress_mpl(x, y, prediction.data)\n",
        "            with grid.output_to(0, 1):\n",
        "                show_regress_plotly(x[:,0], y[:,0], prediction.data[:,0])\n",
        "        with grid.output_to(1, 0):\n",
        "            grid.clear_cell()\n",
        "            show_regress_mpl(x, y, prediction.data)\n",
        "        time.sleep(.5)\n",
        "        with grid.output_to(1, 1):\n",
        "            grid.clear_cell()\n",
        "            show_regress_plotly(x[:,0], y[:,0], prediction.data[:,0])\n",
        "        time.sleep(.5)\n",
        "\n",
        "#plt.ioff()\n",
        "plt.show()\n"
      ],
      "metadata": {
        "colab": {
          "base_uri": "https://localhost:8080/",
          "height": 593
        },
        "id": "M_FPSqIFNio4",
        "outputId": "3cdc4c38-3b9d-407b-add1-c50b95295871"
      },
      "execution_count": 37,
      "outputs": [
        {
          "output_type": "stream",
          "name": "stdout",
          "text": [
            "Net(\n",
            "  (hidden): Linear(in_features=1, out_features=11, bias=True)\n",
            "  (predict): Linear(in_features=11, out_features=1, bias=True)\n",
            ")\n"
          ]
        },
        {
          "output_type": "display_data",
          "data": {
            "text/plain": [
              "<IPython.core.display.HTML object>"
            ],
            "text/html": [
              "<style>\n",
              "       table#id63, #id63 > tbody > tr > th, #id63 > tbody > tr > td {\n",
              "         border: 1px solid lightgray;\n",
              "         border-collapse:collapse;\n",
              "         \n",
              "        }</style>"
            ]
          },
          "metadata": {}
        },
        {
          "output_type": "display_data",
          "data": {
            "text/plain": [
              "<IPython.core.display.HTML object>"
            ],
            "text/html": [
              "<table id=id63><tr><td id=id63-0-0></td><td id=id63-0-1></td></tr><tr><td id=id63-1-0></td><td id=id63-1-1></td></tr></table>"
            ]
          },
          "metadata": {}
        },
        {
          "output_type": "display_data",
          "data": {
            "text/plain": [
              "<IPython.core.display.Javascript object>"
            ],
            "application/javascript": [
              "window[\"d296ca12-ae0d-11ed-8380-0242ac1c000c\"] = google.colab.output.getActiveOutputArea();\n",
              "//# sourceURL=js_b6dc6dc7f4"
            ]
          },
          "metadata": {}
        },
        {
          "output_type": "display_data",
          "data": {
            "text/plain": [
              "<IPython.core.display.Javascript object>"
            ],
            "application/javascript": [
              "window[\"d2971d82-ae0d-11ed-8380-0242ac1c000c\"] = document.querySelector(\"#id63-1-0\");\n",
              "//# sourceURL=js_e4d7aa81e1"
            ]
          },
          "metadata": {}
        },
        {
          "output_type": "display_data",
          "data": {
            "text/plain": [
              "<IPython.core.display.Javascript object>"
            ],
            "application/javascript": [
              "window[\"d297796c-ae0d-11ed-8380-0242ac1c000c\"] = google.colab.output.setActiveOutputArea(window[\"d2971d82-ae0d-11ed-8380-0242ac1c000c\"]);\n",
              "//# sourceURL=js_b32a91c44c"
            ]
          },
          "metadata": {}
        },
        {
          "output_type": "display_data",
          "data": {
            "text/plain": [
              "<IPython.core.display.Javascript object>"
            ],
            "application/javascript": [
              "window[\"d2b3cf18-ae0d-11ed-8380-0242ac1c000c\"] = google.colab.output.setActiveOutputArea(window[\"d296ca12-ae0d-11ed-8380-0242ac1c000c\"]);\n",
              "//# sourceURL=js_9013934ba2"
            ]
          },
          "metadata": {}
        },
        {
          "output_type": "display_data",
          "data": {
            "text/plain": [
              "<IPython.core.display.Javascript object>"
            ],
            "application/javascript": [
              "window[\"d3023928-ae0d-11ed-8380-0242ac1c000c\"] = google.colab.output.getActiveOutputArea();\n",
              "//# sourceURL=js_dd7db13e24"
            ]
          },
          "metadata": {}
        },
        {
          "output_type": "display_data",
          "data": {
            "text/plain": [
              "<IPython.core.display.Javascript object>"
            ],
            "application/javascript": [
              "window[\"d30296ac-ae0d-11ed-8380-0242ac1c000c\"] = document.querySelector(\"#id63-1-1\");\n",
              "//# sourceURL=js_8ed3ca0fa1"
            ]
          },
          "metadata": {}
        },
        {
          "output_type": "display_data",
          "data": {
            "text/plain": [
              "<IPython.core.display.Javascript object>"
            ],
            "application/javascript": [
              "window[\"d302e120-ae0d-11ed-8380-0242ac1c000c\"] = google.colab.output.setActiveOutputArea(window[\"d30296ac-ae0d-11ed-8380-0242ac1c000c\"]);\n",
              "//# sourceURL=js_2940e78100"
            ]
          },
          "metadata": {}
        },
        {
          "output_type": "display_data",
          "data": {
            "text/plain": [
              "<IPython.core.display.Javascript object>"
            ],
            "application/javascript": [
              "window[\"d3084336-ae0d-11ed-8380-0242ac1c000c\"] = google.colab.output.setActiveOutputArea(window[\"d3023928-ae0d-11ed-8380-0242ac1c000c\"]);\n",
              "//# sourceURL=js_e8c46d73bd"
            ]
          },
          "metadata": {}
        },
        {
          "output_type": "display_data",
          "data": {
            "text/plain": [
              "<IPython.core.display.Javascript object>"
            ],
            "application/javascript": [
              "window[\"d35960f4-ae0d-11ed-8380-0242ac1c000c\"] = google.colab.output.getActiveOutputArea();\n",
              "//# sourceURL=js_7e97147b3f"
            ]
          },
          "metadata": {}
        },
        {
          "output_type": "display_data",
          "data": {
            "text/plain": [
              "<IPython.core.display.Javascript object>"
            ],
            "application/javascript": [
              "window[\"d35a3ae2-ae0d-11ed-8380-0242ac1c000c\"] = document.querySelector(\"#id63-0-0\");\n",
              "//# sourceURL=js_22ae9ea5ae"
            ]
          },
          "metadata": {}
        },
        {
          "output_type": "display_data",
          "data": {
            "text/plain": [
              "<IPython.core.display.Javascript object>"
            ],
            "application/javascript": [
              "window[\"d35aeec4-ae0d-11ed-8380-0242ac1c000c\"] = google.colab.output.setActiveOutputArea(window[\"d35a3ae2-ae0d-11ed-8380-0242ac1c000c\"]);\n",
              "//# sourceURL=js_9a15a5730f"
            ]
          },
          "metadata": {}
        },
        {
          "output_type": "display_data",
          "data": {
            "text/plain": [
              "<Figure size 432x288 with 1 Axes>"
            ],
            "image/png": "[encoded data removed]"
          },
          "metadata": {
            "needs_background": "light"
          }
        },
        {
          "output_type": "display_data",
          "data": {
            "text/plain": [
              "<IPython.core.display.Javascript object>"
            ],
            "application/javascript": [
              "window[\"d3751cc2-ae0d-11ed-8380-0242ac1c000c\"] = google.colab.output.setActiveOutputArea(window[\"d35960f4-ae0d-11ed-8380-0242ac1c000c\"]);\n",
              "//# sourceURL=js_eb9196aa91"
            ]
          },
          "metadata": {}
        },
        {
          "output_type": "display_data",
          "data": {
            "text/plain": [
              "<IPython.core.display.Javascript object>"
            ],
            "application/javascript": [
              "window[\"d37770b2-ae0d-11ed-8380-0242ac1c000c\"] = google.colab.output.getActiveOutputArea();\n",
              "//# sourceURL=js_e6b5da9db7"
            ]
          },
          "metadata": {}
        },
        {
          "output_type": "display_data",
          "data": {
            "text/plain": [
              "<IPython.core.display.Javascript object>"
            ],
            "application/javascript": [
              "window[\"d377b964-ae0d-11ed-8380-0242ac1c000c\"] = document.querySelector(\"#id63-0-1\");\n",
              "//# sourceURL=js_749ccc1d08"
            ]
          },
          "metadata": {}
        },
        {
          "output_type": "display_data",
          "data": {
            "text/plain": [
              "<IPython.core.display.Javascript object>"
            ],
            "application/javascript": [
              "window[\"d37802fc-ae0d-11ed-8380-0242ac1c000c\"] = google.colab.output.setActiveOutputArea(window[\"d377b964-ae0d-11ed-8380-0242ac1c000c\"]);\n",
              "//# sourceURL=js_feb3aedb33"
            ]
          },
          "metadata": {}
        },
        {
          "output_type": "display_data",
          "data": {
            "text/html": [
              "<html>\n",
              "<head><meta charset=\"utf-8\" /></head>\n",
              "<body>\n",
              "    <div>            <script src=\"https://cdnjs.cloudflare.com/ajax/libs/mathjax/2.7.5/MathJax.js?config=TeX-AMS-MML_SVG\"></script><script type=\"text/javascript\">if (window.MathJax) {MathJax.Hub.Config({SVG: {font: \"STIX-Web\"}});}</script>                <script type=\"text/javascript\">window.PlotlyConfig = {MathJaxConfig: 'local'};</script>\n",
              "        <script src=\"https://cdn.plot.ly/plotly-2.8.3.min.js\"></script>                <div id=\"afde8e18-530b-4dde-8bc5-7593d809746a\" class=\"plotly-graph-div\" style=\"height:250px; width:400px;\"></div>            <script type=\"text/javascript\">                                    window.PLOTLYENV=window.PLOTLYENV || {};                                    if (document.getElementById(\"afde8e18-530b-4dde-8bc5-7593d809746a\")) {                    Plotly.newPlot(                        \"afde8e18-530b-4dde-8bc5-7593d809746a\",                        [{\"mode\":\"markers\",\"name\":\"train\",\"x\":[-1.0,-0.9797979593276978,-0.9595959782600403,-0.939393937587738,-0.9191918969154358,-0.8989899158477783,-0.8787878751754761,-0.8585858345031738,-0.8383838534355164,-0.8181818127632141,-0.7979798316955566,-0.7777777910232544,-0.7575757503509521,-0.7373737692832947,-0.7171717286109924,-0.696969747543335,-0.6767677068710327,-0.6565656661987305,-0.636363685131073,-0.6161616444587708,-0.5959596037864685,-0.575757622718811,-0.5555555820465088,-0.5353535413742065,-0.5151515007019043,-0.49494948983192444,-0.4747474491596222,-0.45454543828964233,-0.4343434274196625,-0.4141414165496826,-0.39393937587738037,-0.3737373650074005,-0.35353535413742065,-0.3333333432674408,-0.31313130259513855,-0.2929292917251587,-0.27272728085517883,-0.252525269985199,-0.23232322931289673,-0.21212121844291687,-0.19191919267177582,-0.17171716690063477,-0.1515151560306549,-0.13131313025951385,-0.1111111119389534,-0.09090909361839294,-0.07070706784725189,-0.050505056977272034,-0.03030303120613098,-0.010101011022925377,0.010101009160280228,0.03030303120613098,0.05050504952669144,0.07070706784725189,0.09090909361839294,0.1111111044883728,0.13131313025951385,0.1515151560306549,0.17171716690063477,0.19191919267177582,0.21212121844291687,0.23232322931289673,0.252525269985199,0.27272725105285645,0.2929292917251587,0.31313130259513855,0.3333333432674408,0.35353535413742065,0.3737373650074005,0.39393937587738037,0.4141414165496826,0.4343434274196625,0.4545454680919647,0.4747474789619446,0.4949495196342468,0.5151515007019043,0.5353535413742065,0.5555555820465088,0.575757622718811,0.5959596037864685,0.6161616444587708,0.636363685131073,0.6565656661987305,0.6767677068710327,0.696969747543335,0.7171717286109924,0.7373737692832947,0.7575757503509521,0.7777777910232544,0.7979798316955566,0.8181818127632141,0.8383838534355164,0.8585858941078186,0.8787878751754761,0.8989899158477783,0.9191919565200806,0.939393937587738,0.9595959782600403,0.9797979593276978,1.0],\"y\":[1.0099974870681763,1.0072219371795654,1.0099247694015503,0.9611749649047852,0.9279454946517944,0.9816203117370605,0.9601155519485474,0.9141175150871277,0.728209376335144,0.7981045246124268,0.8105033040046692,0.7920137643814087,0.6284909844398499,0.6921878457069397,0.6287978887557983,0.6347944736480713,0.4599617123603821,0.546855092048645,0.5958953499794006,0.4685359299182892,0.4293646812438965,0.3328476548194885,0.45885521173477173,0.3891433775424957,0.33128294348716736,0.2812963128089905,0.3793853521347046,0.28013190627098083,0.38385850191116333,0.2957901656627655,0.17856056988239288,0.2829367518424988,0.26702553033828735,0.12371183931827545,0.29334259033203125,0.24366557598114014,0.2716286778450012,0.10515822470188141,0.16934537887573242,0.2073558270931244,0.18411926925182343,0.19121147692203522,0.16104671359062195,0.131306990981102,0.11998308449983597,0.13284242153167725,0.023279160261154175,0.07200894504785538,0.1301877647638321,0.18350090086460114,0.13594020903110504,0.016691366210579872,0.15406765043735504,0.12651130557060242,0.06869950890541077,0.19623909890651703,0.18318584561347961,0.13165216147899628,0.17924058437347412,0.23394301533699036,0.15843865275382996,0.2441789209842682,0.23037433624267578,0.2550186216831207,0.2609202265739441,0.13520386815071106,0.20630039274692535,0.17826740443706512,0.3028525114059448,0.18827319145202637,0.2889060378074646,0.20685386657714844,0.2677232027053833,0.3784557580947876,0.24910186231136322,0.3137992322444916,0.3405122756958008,0.38410139083862305,0.3660065233707428,0.4308307468891144,0.5179815888404846,0.5358548760414124,0.6262706518173218,0.6188496947288513,0.6241598129272461,0.5959782004356384,0.7233558297157288,0.7146933674812317,0.6408872604370117,0.7416176795959473,0.6951146721839905,0.7945629358291626,0.8582311868667603,0.8718222379684448,0.9456106424331665,0.8993445634841919,0.9166553616523743,0.9495737552642822,1.076291561126709,1.1565899848937988],\"type\":\"scatter\"},{\"line\":{\"color\":\"red\",\"width\":5},\"mode\":\"lines\",\"name\":\"prediction\",\"x\":[-1.0,-0.9797979593276978,-0.9595959782600403,-0.939393937587738,-0.9191918969154358,-0.8989899158477783,-0.8787878751754761,-0.8585858345031738,-0.8383838534355164,-0.8181818127632141,-0.7979798316955566,-0.7777777910232544,-0.7575757503509521,-0.7373737692832947,-0.7171717286109924,-0.696969747543335,-0.6767677068710327,-0.6565656661987305,-0.636363685131073,-0.6161616444587708,-0.5959596037864685,-0.575757622718811,-0.5555555820465088,-0.5353535413742065,-0.5151515007019043,-0.49494948983192444,-0.4747474491596222,-0.45454543828964233,-0.4343434274196625,-0.4141414165496826,-0.39393937587738037,-0.3737373650074005,-0.35353535413742065,-0.3333333432674408,-0.31313130259513855,-0.2929292917251587,-0.27272728085517883,-0.252525269985199,-0.23232322931289673,-0.21212121844291687,-0.19191919267177582,-0.17171716690063477,-0.1515151560306549,-0.13131313025951385,-0.1111111119389534,-0.09090909361839294,-0.07070706784725189,-0.050505056977272034,-0.03030303120613098,-0.010101011022925377,0.010101009160280228,0.03030303120613098,0.05050504952669144,0.07070706784725189,0.09090909361839294,0.1111111044883728,0.13131313025951385,0.1515151560306549,0.17171716690063477,0.19191919267177582,0.21212121844291687,0.23232322931289673,0.252525269985199,0.27272725105285645,0.2929292917251587,0.31313130259513855,0.3333333432674408,0.35353535413742065,0.3737373650074005,0.39393937587738037,0.4141414165496826,0.4343434274196625,0.4545454680919647,0.4747474789619446,0.4949495196342468,0.5151515007019043,0.5353535413742065,0.5555555820465088,0.575757622718811,0.5959596037864685,0.6161616444587708,0.636363685131073,0.6565656661987305,0.6767677068710327,0.696969747543335,0.7171717286109924,0.7373737692832947,0.7575757503509521,0.7777777910232544,0.7979798316955566,0.8181818127632141,0.8383838534355164,0.8585858941078186,0.8787878751754761,0.8989899158477783,0.9191919565200806,0.939393937587738,0.9595959782600403,0.9797979593276978,1.0],\"y\":[0.4741700291633606,0.47292816638946533,0.47168630361557007,0.4704444408416748,0.46920260787010193,0.46796074509620667,0.4667188823223114,0.4654770493507385,0.46423518657684326,0.4627143442630768,0.4611723721027374,0.45963039994239807,0.45808839797973633,0.456546425819397,0.4550044536590576,0.45346248149871826,0.4519205093383789,0.45037853717803955,0.4488365650177002,0.44729459285736084,0.4457526206970215,0.44421064853668213,0.4426686763763428,0.4411267042160034,0.4395847022533417,0.4380427300930023,0.43650075793266296,0.4349587857723236,0.43341681361198425,0.43165484070777893,0.42984482645988464,0.42803484201431274,0.42622482776641846,0.42441484332084656,0.42260482907295227,0.42079484462738037,0.4189848303794861,0.4171748459339142,0.4153648614883423,0.413554847240448,0.4117448627948761,0.4099348485469818,0.4081248641014099,0.4063148498535156,0.4045048654079437,0.40269485116004944,0.40088486671447754,0.39907485246658325,0.39726486802101135,0.3956522047519684,0.39648810029029846,0.3973240256309509,0.398159921169281,0.40029609203338623,0.4030901789665222,0.4058842360973358,0.4086782932281494,0.4114723801612854,0.4142664670944214,0.417060524225235,0.4198545813560486,0.42264866828918457,0.42544272541999817,0.42823681235313416,0.43103086948394775,0.43382495641708374,0.43661901354789734,0.4394131004810333,0.4422071576118469,0.4450012445449829,0.4477953016757965,0.4505893886089325,0.4533834457397461,0.4561775326728821,0.4589715898036957,0.4622359275817871,0.4656194746494293,0.46900299191474915,0.47238653898239136,0.4757700264453888,0.479153573513031,0.48253709077835083,0.48592060804367065,0.4893041253089905,0.4926876425743103,0.4960711598396301,0.49945467710494995,0.5028381943702698,0.5062217116355896,0.5096052289009094,0.5129887461662292,0.5163723230361938,0.5197558403015137,0.5231393575668335,0.5265228748321533,0.5299063920974731,0.533289909362793,0.5366734266281128,0.5400569438934326,0.5434404611587524],\"type\":\"scatter\"}],                        {\"template\":{\"data\":{\"bar\":[{\"error_x\":{\"color\":\"#2a3f5f\"},\"error_y\":{\"color\":\"#2a3f5f\"},\"marker\":{\"line\":{\"color\":\"#E5ECF6\",\"width\":0.5},\"pattern\":{\"fillmode\":\"overlay\",\"size\":10,\"solidity\":0.2}},\"type\":\"bar\"}],\"barpolar\":[{\"marker\":{\"line\":{\"color\":\"#E5ECF6\",\"width\":0.5},\"pattern\":{\"fillmode\":\"overlay\",\"size\":10,\"solidity\":0.2}},\"type\":\"barpolar\"}],\"carpet\":[{\"aaxis\":{\"endlinecolor\":\"#2a3f5f\",\"gridcolor\":\"white\",\"linecolor\":\"white\",\"minorgridcolor\":\"white\",\"startlinecolor\":\"#2a3f5f\"},\"baxis\":{\"endlinecolor\":\"#2a3f5f\",\"gridcolor\":\"white\",\"linecolor\":\"white\",\"minorgridcolor\":\"white\",\"startlinecolor\":\"#2a3f5f\"},\"type\":\"carpet\"}],\"choropleth\":[{\"colorbar\":{\"outlinewidth\":0,\"ticks\":\"\"},\"type\":\"choropleth\"}],\"contour\":[{\"colorbar\":{\"outlinewidth\":0,\"ticks\":\"\"},\"colorscale\":[[0.0,\"#0d0887\"],[0.1111111111111111,\"#46039f\"],[0.2222222222222222,\"#7201a8\"],[0.3333333333333333,\"#9c179e\"],[0.4444444444444444,\"#bd3786\"],[0.5555555555555556,\"#d8576b\"],[0.6666666666666666,\"#ed7953\"],[0.7777777777777778,\"#fb9f3a\"],[0.8888888888888888,\"#fdca26\"],[1.0,\"#f0f921\"]],\"type\":\"contour\"}],\"contourcarpet\":[{\"colorbar\":{\"outlinewidth\":0,\"ticks\":\"\"},\"type\":\"contourcarpet\"}],\"heatmap\":[{\"colorbar\":{\"outlinewidth\":0,\"ticks\":\"\"},\"colorscale\":[[0.0,\"#0d0887\"],[0.1111111111111111,\"#46039f\"],[0.2222222222222222,\"#7201a8\"],[0.3333333333333333,\"#9c179e\"],[0.4444444444444444,\"#bd3786\"],[0.5555555555555556,\"#d8576b\"],[0.6666666666666666,\"#ed7953\"],[0.7777777777777778,\"#fb9f3a\"],[0.8888888888888888,\"#fdca26\"],[1.0,\"#f0f921\"]],\"type\":\"heatmap\"}],\"heatmapgl\":[{\"colorbar\":{\"outlinewidth\":0,\"ticks\":\"\"},\"colorscale\":[[0.0,\"#0d0887\"],[0.1111111111111111,\"#46039f\"],[0.2222222222222222,\"#7201a8\"],[0.3333333333333333,\"#9c179e\"],[0.4444444444444444,\"#bd3786\"],[0.5555555555555556,\"#d8576b\"],[0.6666666666666666,\"#ed7953\"],[0.7777777777777778,\"#fb9f3a\"],[0.8888888888888888,\"#fdca26\"],[1.0,\"#f0f921\"]],\"type\":\"heatmapgl\"}],\"histogram\":[{\"marker\":{\"pattern\":{\"fillmode\":\"overlay\",\"size\":10,\"solidity\":0.2}},\"type\":\"histogram\"}],\"histogram2d\":[{\"colorbar\":{\"outlinewidth\":0,\"ticks\":\"\"},\"colorscale\":[[0.0,\"#0d0887\"],[0.1111111111111111,\"#46039f\"],[0.2222222222222222,\"#7201a8\"],[0.3333333333333333,\"#9c179e\"],[0.4444444444444444,\"#bd3786\"],[0.5555555555555556,\"#d8576b\"],[0.6666666666666666,\"#ed7953\"],[0.7777777777777778,\"#fb9f3a\"],[0.8888888888888888,\"#fdca26\"],[1.0,\"#f0f921\"]],\"type\":\"histogram2d\"}],\"histogram2dcontour\":[{\"colorbar\":{\"outlinewidth\":0,\"ticks\":\"\"},\"colorscale\":[[0.0,\"#0d0887\"],[0.1111111111111111,\"#46039f\"],[0.2222222222222222,\"#7201a8\"],[0.3333333333333333,\"#9c179e\"],[0.4444444444444444,\"#bd3786\"],[0.5555555555555556,\"#d8576b\"],[0.6666666666666666,\"#ed7953\"],[0.7777777777777778,\"#fb9f3a\"],[0.8888888888888888,\"#fdca26\"],[1.0,\"#f0f921\"]],\"type\":\"histogram2dcontour\"}],\"mesh3d\":[{\"colorbar\":{\"outlinewidth\":0,\"ticks\":\"\"},\"type\":\"mesh3d\"}],\"parcoords\":[{\"line\":{\"colorbar\":{\"outlinewidth\":0,\"ticks\":\"\"}},\"type\":\"parcoords\"}],\"pie\":[{\"automargin\":true,\"type\":\"pie\"}],\"scatter\":[{\"marker\":{\"colorbar\":{\"outlinewidth\":0,\"ticks\":\"\"}},\"type\":\"scatter\"}],\"scatter3d\":[{\"line\":{\"colorbar\":{\"outlinewidth\":0,\"ticks\":\"\"}},\"marker\":{\"colorbar\":{\"outlinewidth\":0,\"ticks\":\"\"}},\"type\":\"scatter3d\"}],\"scattercarpet\":[{\"marker\":{\"colorbar\":{\"outlinewidth\":0,\"ticks\":\"\"}},\"type\":\"scattercarpet\"}],\"scattergeo\":[{\"marker\":{\"colorbar\":{\"outlinewidth\":0,\"ticks\":\"\"}},\"type\":\"scattergeo\"}],\"scattergl\":[{\"marker\":{\"colorbar\":{\"outlinewidth\":0,\"ticks\":\"\"}},\"type\":\"scattergl\"}],\"scattermapbox\":[{\"marker\":{\"colorbar\":{\"outlinewidth\":0,\"ticks\":\"\"}},\"type\":\"scattermapbox\"}],\"scatterpolar\":[{\"marker\":{\"colorbar\":{\"outlinewidth\":0,\"ticks\":\"\"}},\"type\":\"scatterpolar\"}],\"scatterpolargl\":[{\"marker\":{\"colorbar\":{\"outlinewidth\":0,\"ticks\":\"\"}},\"type\":\"scatterpolargl\"}],\"scatterternary\":[{\"marker\":{\"colorbar\":{\"outlinewidth\":0,\"ticks\":\"\"}},\"type\":\"scatterternary\"}],\"surface\":[{\"colorbar\":{\"outlinewidth\":0,\"ticks\":\"\"},\"colorscale\":[[0.0,\"#0d0887\"],[0.1111111111111111,\"#46039f\"],[0.2222222222222222,\"#7201a8\"],[0.3333333333333333,\"#9c179e\"],[0.4444444444444444,\"#bd3786\"],[0.5555555555555556,\"#d8576b\"],[0.6666666666666666,\"#ed7953\"],[0.7777777777777778,\"#fb9f3a\"],[0.8888888888888888,\"#fdca26\"],[1.0,\"#f0f921\"]],\"type\":\"surface\"}],\"table\":[{\"cells\":{\"fill\":{\"color\":\"#EBF0F8\"},\"line\":{\"color\":\"white\"}},\"header\":{\"fill\":{\"color\":\"#C8D4E3\"},\"line\":{\"color\":\"white\"}},\"type\":\"table\"}]},\"layout\":{\"annotationdefaults\":{\"arrowcolor\":\"#2a3f5f\",\"arrowhead\":0,\"arrowwidth\":1},\"autotypenumbers\":\"strict\",\"coloraxis\":{\"colorbar\":{\"outlinewidth\":0,\"ticks\":\"\"}},\"colorscale\":{\"diverging\":[[0,\"#8e0152\"],[0.1,\"#c51b7d\"],[0.2,\"#de77ae\"],[0.3,\"#f1b6da\"],[0.4,\"#fde0ef\"],[0.5,\"#f7f7f7\"],[0.6,\"#e6f5d0\"],[0.7,\"#b8e186\"],[0.8,\"#7fbc41\"],[0.9,\"#4d9221\"],[1,\"#276419\"]],\"sequential\":[[0.0,\"#0d0887\"],[0.1111111111111111,\"#46039f\"],[0.2222222222222222,\"#7201a8\"],[0.3333333333333333,\"#9c179e\"],[0.4444444444444444,\"#bd3786\"],[0.5555555555555556,\"#d8576b\"],[0.6666666666666666,\"#ed7953\"],[0.7777777777777778,\"#fb9f3a\"],[0.8888888888888888,\"#fdca26\"],[1.0,\"#f0f921\"]],\"sequentialminus\":[[0.0,\"#0d0887\"],[0.1111111111111111,\"#46039f\"],[0.2222222222222222,\"#7201a8\"],[0.3333333333333333,\"#9c179e\"],[0.4444444444444444,\"#bd3786\"],[0.5555555555555556,\"#d8576b\"],[0.6666666666666666,\"#ed7953\"],[0.7777777777777778,\"#fb9f3a\"],[0.8888888888888888,\"#fdca26\"],[1.0,\"#f0f921\"]]},\"colorway\":[\"#636efa\",\"#EF553B\",\"#00cc96\",\"#ab63fa\",\"#FFA15A\",\"#19d3f3\",\"#FF6692\",\"#B6E880\",\"#FF97FF\",\"#FECB52\"],\"font\":{\"color\":\"#2a3f5f\"},\"geo\":{\"bgcolor\":\"white\",\"lakecolor\":\"white\",\"landcolor\":\"#E5ECF6\",\"showlakes\":true,\"showland\":true,\"subunitcolor\":\"white\"},\"hoverlabel\":{\"align\":\"left\"},\"hovermode\":\"closest\",\"mapbox\":{\"style\":\"light\"},\"paper_bgcolor\":\"white\",\"plot_bgcolor\":\"#E5ECF6\",\"polar\":{\"angularaxis\":{\"gridcolor\":\"white\",\"linecolor\":\"white\",\"ticks\":\"\"},\"bgcolor\":\"#E5ECF6\",\"radialaxis\":{\"gridcolor\":\"white\",\"linecolor\":\"white\",\"ticks\":\"\"}},\"scene\":{\"xaxis\":{\"backgroundcolor\":\"#E5ECF6\",\"gridcolor\":\"white\",\"gridwidth\":2,\"linecolor\":\"white\",\"showbackground\":true,\"ticks\":\"\",\"zerolinecolor\":\"white\"},\"yaxis\":{\"backgroundcolor\":\"#E5ECF6\",\"gridcolor\":\"white\",\"gridwidth\":2,\"linecolor\":\"white\",\"showbackground\":true,\"ticks\":\"\",\"zerolinecolor\":\"white\"},\"zaxis\":{\"backgroundcolor\":\"#E5ECF6\",\"gridcolor\":\"white\",\"gridwidth\":2,\"linecolor\":\"white\",\"showbackground\":true,\"ticks\":\"\",\"zerolinecolor\":\"white\"}},\"shapedefaults\":{\"line\":{\"color\":\"#2a3f5f\"}},\"ternary\":{\"aaxis\":{\"gridcolor\":\"white\",\"linecolor\":\"white\",\"ticks\":\"\"},\"baxis\":{\"gridcolor\":\"white\",\"linecolor\":\"white\",\"ticks\":\"\"},\"bgcolor\":\"#E5ECF6\",\"caxis\":{\"gridcolor\":\"white\",\"linecolor\":\"white\",\"ticks\":\"\"}},\"title\":{\"x\":0.05},\"xaxis\":{\"automargin\":true,\"gridcolor\":\"white\",\"linecolor\":\"white\",\"ticks\":\"\",\"title\":{\"standoff\":15},\"zerolinecolor\":\"white\",\"zerolinewidth\":2},\"yaxis\":{\"automargin\":true,\"gridcolor\":\"white\",\"linecolor\":\"white\",\"ticks\":\"\",\"title\":{\"standoff\":15},\"zerolinecolor\":\"white\",\"zerolinewidth\":2}}},\"margin\":{\"l\":20,\"r\":20,\"t\":20,\"b\":20},\"legend\":{\"yanchor\":\"top\",\"y\":0.99,\"xanchor\":\"center\",\"x\":0.5},\"annotations\":[{\"showarrow\":false,\"text\":\"Loss=0.0726\",\"x\":0.5,\"y\":0}],\"width\":400,\"height\":250},                        {\"responsive\": true}                    ).then(function(){\n",
              "                            \n",
              "var gd = document.getElementById('afde8e18-530b-4dde-8bc5-7593d809746a');\n",
              "var x = new MutationObserver(function (mutations, observer) {{\n",
              "        var display = window.getComputedStyle(gd).display;\n",
              "        if (!display || display === 'none') {{\n",
              "            console.log([gd, 'removed!']);\n",
              "            Plotly.purge(gd);\n",
              "            observer.disconnect();\n",
              "        }}\n",
              "}});\n",
              "\n",
              "// Listen for the removal of the full notebook cells\n",
              "var notebookContainer = gd.closest('#notebook-container');\n",
              "if (notebookContainer) {{\n",
              "    x.observe(notebookContainer, {childList: true});\n",
              "}}\n",
              "\n",
              "// Listen for the clearing of the current output cell\n",
              "var outputEl = gd.closest('.output');\n",
              "if (outputEl) {{\n",
              "    x.observe(outputEl, {childList: true});\n",
              "}}\n",
              "\n",
              "                        })                };                            </script>        </div>\n",
              "</body>\n",
              "</html>"
            ]
          },
          "metadata": {}
        },
        {
          "output_type": "display_data",
          "data": {
            "text/plain": [
              "<IPython.core.display.Javascript object>"
            ],
            "application/javascript": [
              "window[\"d37e2e84-ae0d-11ed-8380-0242ac1c000c\"] = google.colab.output.setActiveOutputArea(window[\"d37770b2-ae0d-11ed-8380-0242ac1c000c\"]);\n",
              "//# sourceURL=js_ae3f1cdf38"
            ]
          },
          "metadata": {}
        },
        {
          "output_type": "display_data",
          "data": {
            "text/plain": [
              "<IPython.core.display.Javascript object>"
            ],
            "application/javascript": [
              "window[\"d3801f1e-ae0d-11ed-8380-0242ac1c000c\"] = google.colab.output.getActiveOutputArea();\n",
              "//# sourceURL=js_a089766e60"
            ]
          },
          "metadata": {}
        },
        {
          "output_type": "display_data",
          "data": {
            "text/plain": [
              "<IPython.core.display.Javascript object>"
            ],
            "application/javascript": [
              "window[\"d3806ac8-ae0d-11ed-8380-0242ac1c000c\"] = document.querySelector(\"#id63-1-0\");\n",
              "//# sourceURL=js_78362d35e5"
            ]
          },
          "metadata": {}
        },
        {
          "output_type": "display_data",
          "data": {
            "text/plain": [
              "<IPython.core.display.Javascript object>"
            ],
            "application/javascript": [
              "window[\"d380b5d2-ae0d-11ed-8380-0242ac1c000c\"] = google.colab.output.setActiveOutputArea(window[\"d3806ac8-ae0d-11ed-8380-0242ac1c000c\"]);\n",
              "//# sourceURL=js_253d66bab9"
            ]
          },
          "metadata": {}
        },
        {
          "output_type": "display_data",
          "data": {
            "text/plain": [
              "<IPython.core.display.Javascript object>"
            ],
            "application/javascript": [
              "window[\"d39e817a-ae0d-11ed-8380-0242ac1c000c\"] = google.colab.output.setActiveOutputArea(window[\"d3801f1e-ae0d-11ed-8380-0242ac1c000c\"]);\n",
              "//# sourceURL=js_846d5d967e"
            ]
          },
          "metadata": {}
        },
        {
          "output_type": "display_data",
          "data": {
            "text/plain": [
              "<IPython.core.display.Javascript object>"
            ],
            "application/javascript": [
              "window[\"d3edab60-ae0d-11ed-8380-0242ac1c000c\"] = google.colab.output.getActiveOutputArea();\n",
              "//# sourceURL=js_af1d1a8a23"
            ]
          },
          "metadata": {}
        },
        {
          "output_type": "display_data",
          "data": {
            "text/plain": [
              "<IPython.core.display.Javascript object>"
            ],
            "application/javascript": [
              "window[\"d3edf93a-ae0d-11ed-8380-0242ac1c000c\"] = document.querySelector(\"#id63-1-1\");\n",
              "//# sourceURL=js_593a753f90"
            ]
          },
          "metadata": {}
        },
        {
          "output_type": "display_data",
          "data": {
            "text/plain": [
              "<IPython.core.display.Javascript object>"
            ],
            "application/javascript": [
              "window[\"d3ee47f0-ae0d-11ed-8380-0242ac1c000c\"] = google.colab.output.setActiveOutputArea(window[\"d3edf93a-ae0d-11ed-8380-0242ac1c000c\"]);\n",
              "//# sourceURL=js_fc68e065a8"
            ]
          },
          "metadata": {}
        },
        {
          "output_type": "display_data",
          "data": {
            "text/plain": [
              "<IPython.core.display.Javascript object>"
            ],
            "application/javascript": [
              "window[\"d3f49e20-ae0d-11ed-8380-0242ac1c000c\"] = google.colab.output.setActiveOutputArea(window[\"d3edab60-ae0d-11ed-8380-0242ac1c000c\"]);\n",
              "//# sourceURL=js_2734b9702e"
            ]
          },
          "metadata": {}
        },
        {
          "output_type": "display_data",
          "data": {
            "text/plain": [
              "<IPython.core.display.Javascript object>"
            ],
            "application/javascript": [
              "window[\"d445a2a2-ae0d-11ed-8380-0242ac1c000c\"] = google.colab.output.getActiveOutputArea();\n",
              "//# sourceURL=js_3ea6ee0407"
            ]
          },
          "metadata": {}
        },
        {
          "output_type": "display_data",
          "data": {
            "text/plain": [
              "<IPython.core.display.Javascript object>"
            ],
            "application/javascript": [
              "window[\"d445f914-ae0d-11ed-8380-0242ac1c000c\"] = document.querySelector(\"#id63-1-0\");\n",
              "//# sourceURL=js_9d2b36a12b"
            ]
          },
          "metadata": {}
        },
        {
          "output_type": "display_data",
          "data": {
            "text/plain": [
              "<IPython.core.display.Javascript object>"
            ],
            "application/javascript": [
              "window[\"d44683f2-ae0d-11ed-8380-0242ac1c000c\"] = google.colab.output.setActiveOutputArea(window[\"d445f914-ae0d-11ed-8380-0242ac1c000c\"]);\n",
              "//# sourceURL=js_d8276fb66d"
            ]
          },
          "metadata": {}
        },
        {
          "output_type": "display_data",
          "data": {
            "text/plain": [
              "<IPython.core.display.Javascript object>"
            ],
            "application/javascript": [
              "window[\"d4626202-ae0d-11ed-8380-0242ac1c000c\"] = google.colab.output.setActiveOutputArea(window[\"d445a2a2-ae0d-11ed-8380-0242ac1c000c\"]);\n",
              "//# sourceURL=js_f5169e8bc1"
            ]
          },
          "metadata": {}
        },
        {
          "output_type": "display_data",
          "data": {
            "text/plain": [
              "<IPython.core.display.Javascript object>"
            ],
            "application/javascript": [
              "window[\"d4b0e7ba-ae0d-11ed-8380-0242ac1c000c\"] = google.colab.output.getActiveOutputArea();\n",
              "//# sourceURL=js_3cecf9f90e"
            ]
          },
          "metadata": {}
        },
        {
          "output_type": "display_data",
          "data": {
            "text/plain": [
              "<IPython.core.display.Javascript object>"
            ],
            "application/javascript": [
              "window[\"d4b13288-ae0d-11ed-8380-0242ac1c000c\"] = document.querySelector(\"#id63-1-1\");\n",
              "//# sourceURL=js_eef2f93faf"
            ]
          },
          "metadata": {}
        },
        {
          "output_type": "display_data",
          "data": {
            "text/plain": [
              "<IPython.core.display.Javascript object>"
            ],
            "application/javascript": [
              "window[\"d4b2718e-ae0d-11ed-8380-0242ac1c000c\"] = google.colab.output.setActiveOutputArea(window[\"d4b13288-ae0d-11ed-8380-0242ac1c000c\"]);\n",
              "//# sourceURL=js_567002e5f7"
            ]
          },
          "metadata": {}
        },
        {
          "output_type": "display_data",
          "data": {
            "text/plain": [
              "<IPython.core.display.Javascript object>"
            ],
            "application/javascript": [
              "window[\"d4b78336-ae0d-11ed-8380-0242ac1c000c\"] = google.colab.output.setActiveOutputArea(window[\"d4b0e7ba-ae0d-11ed-8380-0242ac1c000c\"]);\n",
              "//# sourceURL=js_778234c6b2"
            ]
          },
          "metadata": {}
        },
        {
          "output_type": "display_data",
          "data": {
            "text/plain": [
              "<IPython.core.display.Javascript object>"
            ],
            "application/javascript": [
              "window[\"d508c886-ae0d-11ed-8380-0242ac1c000c\"] = google.colab.output.getActiveOutputArea();\n",
              "//# sourceURL=js_8772110322"
            ]
          },
          "metadata": {}
        },
        {
          "output_type": "display_data",
          "data": {
            "text/plain": [
              "<IPython.core.display.Javascript object>"
            ],
            "application/javascript": [
              "window[\"d5095dc8-ae0d-11ed-8380-0242ac1c000c\"] = document.querySelector(\"#id63-1-0\");\n",
              "//# sourceURL=js_a248a78693"
            ]
          },
          "metadata": {}
        },
        {
          "output_type": "display_data",
          "data": {
            "text/plain": [
              "<IPython.core.display.Javascript object>"
            ],
            "application/javascript": [
              "window[\"d509cbbe-ae0d-11ed-8380-0242ac1c000c\"] = google.colab.output.setActiveOutputArea(window[\"d5095dc8-ae0d-11ed-8380-0242ac1c000c\"]);\n",
              "//# sourceURL=js_e81db44490"
            ]
          },
          "metadata": {}
        },
        {
          "output_type": "display_data",
          "data": {
            "text/plain": [
              "<IPython.core.display.Javascript object>"
            ],
            "application/javascript": [
              "window[\"d526437a-ae0d-11ed-8380-0242ac1c000c\"] = google.colab.output.setActiveOutputArea(window[\"d508c886-ae0d-11ed-8380-0242ac1c000c\"]);\n",
              "//# sourceURL=js_4cad372f76"
            ]
          },
          "metadata": {}
        },
        {
          "output_type": "display_data",
          "data": {
            "text/plain": [
              "<IPython.core.display.Javascript object>"
            ],
            "application/javascript": [
              "window[\"d57591f0-ae0d-11ed-8380-0242ac1c000c\"] = google.colab.output.getActiveOutputArea();\n",
              "//# sourceURL=js_32dc020599"
            ]
          },
          "metadata": {}
        },
        {
          "output_type": "display_data",
          "data": {
            "text/plain": [
              "<IPython.core.display.Javascript object>"
            ],
            "application/javascript": [
              "window[\"d57601b2-ae0d-11ed-8380-0242ac1c000c\"] = document.querySelector(\"#id63-1-1\");\n",
              "//# sourceURL=js_f114db5fae"
            ]
          },
          "metadata": {}
        },
        {
          "output_type": "display_data",
          "data": {
            "text/plain": [
              "<IPython.core.display.Javascript object>"
            ],
            "application/javascript": [
              "window[\"d576868c-ae0d-11ed-8380-0242ac1c000c\"] = google.colab.output.setActiveOutputArea(window[\"d57601b2-ae0d-11ed-8380-0242ac1c000c\"]);\n",
              "//# sourceURL=js_950f5aeb94"
            ]
          },
          "metadata": {}
        },
        {
          "output_type": "display_data",
          "data": {
            "text/plain": [
              "<IPython.core.display.Javascript object>"
            ],
            "application/javascript": [
              "window[\"d57d659c-ae0d-11ed-8380-0242ac1c000c\"] = google.colab.output.setActiveOutputArea(window[\"d57591f0-ae0d-11ed-8380-0242ac1c000c\"]);\n",
              "//# sourceURL=js_ec08c672c1"
            ]
          },
          "metadata": {}
        },
        {
          "output_type": "display_data",
          "data": {
            "text/plain": [
              "<IPython.core.display.Javascript object>"
            ],
            "application/javascript": [
              "window[\"d5cdffd4-ae0d-11ed-8380-0242ac1c000c\"] = google.colab.output.getActiveOutputArea();\n",
              "//# sourceURL=js_7d9ca155cb"
            ]
          },
          "metadata": {}
        },
        {
          "output_type": "display_data",
          "data": {
            "text/plain": [
              "<IPython.core.display.Javascript object>"
            ],
            "application/javascript": [
              "window[\"d5ce664a-ae0d-11ed-8380-0242ac1c000c\"] = document.querySelector(\"#id63-1-0\");\n",
              "//# sourceURL=js_35185080bd"
            ]
          },
          "metadata": {}
        },
        {
          "output_type": "display_data",
          "data": {
            "text/plain": [
              "<IPython.core.display.Javascript object>"
            ],
            "application/javascript": [
              "window[\"d5ceeb74-ae0d-11ed-8380-0242ac1c000c\"] = google.colab.output.setActiveOutputArea(window[\"d5ce664a-ae0d-11ed-8380-0242ac1c000c\"]);\n",
              "//# sourceURL=js_af0757e8f4"
            ]
          },
          "metadata": {}
        },
        {
          "output_type": "display_data",
          "data": {
            "text/plain": [
              "<Figure size 432x288 with 1 Axes>"
            ],
            "image/png": "[encoded data removed]"
          },
          "metadata": {
            "needs_background": "light"
          }
        },
        {
          "output_type": "display_data",
          "data": {
            "text/plain": [
              "<IPython.core.display.Javascript object>"
            ],
            "application/javascript": [
              "window[\"d5e9dd26-ae0d-11ed-8380-0242ac1c000c\"] = google.colab.output.setActiveOutputArea(window[\"d5cdffd4-ae0d-11ed-8380-0242ac1c000c\"]);\n",
              "//# sourceURL=js_d3f830827f"
            ]
          },
          "metadata": {}
        },
        {
          "output_type": "display_data",
          "data": {
            "text/plain": [
              "<IPython.core.display.Javascript object>"
            ],
            "application/javascript": [
              "window[\"d638a05a-ae0d-11ed-8380-0242ac1c000c\"] = google.colab.output.getActiveOutputArea();\n",
              "//# sourceURL=js_207722a950"
            ]
          },
          "metadata": {}
        },
        {
          "output_type": "display_data",
          "data": {
            "text/plain": [
              "<IPython.core.display.Javascript object>"
            ],
            "application/javascript": [
              "window[\"d638eca4-ae0d-11ed-8380-0242ac1c000c\"] = document.querySelector(\"#id63-1-1\");\n",
              "//# sourceURL=js_271194a511"
            ]
          },
          "metadata": {}
        },
        {
          "output_type": "display_data",
          "data": {
            "text/plain": [
              "<IPython.core.display.Javascript object>"
            ],
            "application/javascript": [
              "window[\"d6393952-ae0d-11ed-8380-0242ac1c000c\"] = google.colab.output.setActiveOutputArea(window[\"d638eca4-ae0d-11ed-8380-0242ac1c000c\"]);\n",
              "//# sourceURL=js_adde5f5cb4"
            ]
          },
          "metadata": {}
        },
        {
          "output_type": "display_data",
          "data": {
            "text/html": [
              "<html>\n",
              "<head><meta charset=\"utf-8\" /></head>\n",
              "<body>\n",
              "    <div>            <script src=\"https://cdnjs.cloudflare.com/ajax/libs/mathjax/2.7.5/MathJax.js?config=TeX-AMS-MML_SVG\"></script><script type=\"text/javascript\">if (window.MathJax) {MathJax.Hub.Config({SVG: {font: \"STIX-Web\"}});}</script>                <script type=\"text/javascript\">window.PlotlyConfig = {MathJaxConfig: 'local'};</script>\n",
              "        <script src=\"https://cdn.plot.ly/plotly-2.8.3.min.js\"></script>                <div id=\"1782fcb1-1cc8-49bc-b6ed-475f0352f168\" class=\"plotly-graph-div\" style=\"height:250px; width:400px;\"></div>            <script type=\"text/javascript\">                                    window.PLOTLYENV=window.PLOTLYENV || {};                                    if (document.getElementById(\"1782fcb1-1cc8-49bc-b6ed-475f0352f168\")) {                    Plotly.newPlot(                        \"1782fcb1-1cc8-49bc-b6ed-475f0352f168\",                        [{\"mode\":\"markers\",\"name\":\"train\",\"x\":[-1.0,-0.9797979593276978,-0.9595959782600403,-0.939393937587738,-0.9191918969154358,-0.8989899158477783,-0.8787878751754761,-0.8585858345031738,-0.8383838534355164,-0.8181818127632141,-0.7979798316955566,-0.7777777910232544,-0.7575757503509521,-0.7373737692832947,-0.7171717286109924,-0.696969747543335,-0.6767677068710327,-0.6565656661987305,-0.636363685131073,-0.6161616444587708,-0.5959596037864685,-0.575757622718811,-0.5555555820465088,-0.5353535413742065,-0.5151515007019043,-0.49494948983192444,-0.4747474491596222,-0.45454543828964233,-0.4343434274196625,-0.4141414165496826,-0.39393937587738037,-0.3737373650074005,-0.35353535413742065,-0.3333333432674408,-0.31313130259513855,-0.2929292917251587,-0.27272728085517883,-0.252525269985199,-0.23232322931289673,-0.21212121844291687,-0.19191919267177582,-0.17171716690063477,-0.1515151560306549,-0.13131313025951385,-0.1111111119389534,-0.09090909361839294,-0.07070706784725189,-0.050505056977272034,-0.03030303120613098,-0.010101011022925377,0.010101009160280228,0.03030303120613098,0.05050504952669144,0.07070706784725189,0.09090909361839294,0.1111111044883728,0.13131313025951385,0.1515151560306549,0.17171716690063477,0.19191919267177582,0.21212121844291687,0.23232322931289673,0.252525269985199,0.27272725105285645,0.2929292917251587,0.31313130259513855,0.3333333432674408,0.35353535413742065,0.3737373650074005,0.39393937587738037,0.4141414165496826,0.4343434274196625,0.4545454680919647,0.4747474789619446,0.4949495196342468,0.5151515007019043,0.5353535413742065,0.5555555820465088,0.575757622718811,0.5959596037864685,0.6161616444587708,0.636363685131073,0.6565656661987305,0.6767677068710327,0.696969747543335,0.7171717286109924,0.7373737692832947,0.7575757503509521,0.7777777910232544,0.7979798316955566,0.8181818127632141,0.8383838534355164,0.8585858941078186,0.8787878751754761,0.8989899158477783,0.9191919565200806,0.939393937587738,0.9595959782600403,0.9797979593276978,1.0],\"y\":[1.0099974870681763,1.0072219371795654,1.0099247694015503,0.9611749649047852,0.9279454946517944,0.9816203117370605,0.9601155519485474,0.9141175150871277,0.728209376335144,0.7981045246124268,0.8105033040046692,0.7920137643814087,0.6284909844398499,0.6921878457069397,0.6287978887557983,0.6347944736480713,0.4599617123603821,0.546855092048645,0.5958953499794006,0.4685359299182892,0.4293646812438965,0.3328476548194885,0.45885521173477173,0.3891433775424957,0.33128294348716736,0.2812963128089905,0.3793853521347046,0.28013190627098083,0.38385850191116333,0.2957901656627655,0.17856056988239288,0.2829367518424988,0.26702553033828735,0.12371183931827545,0.29334259033203125,0.24366557598114014,0.2716286778450012,0.10515822470188141,0.16934537887573242,0.2073558270931244,0.18411926925182343,0.19121147692203522,0.16104671359062195,0.131306990981102,0.11998308449983597,0.13284242153167725,0.023279160261154175,0.07200894504785538,0.1301877647638321,0.18350090086460114,0.13594020903110504,0.016691366210579872,0.15406765043735504,0.12651130557060242,0.06869950890541077,0.19623909890651703,0.18318584561347961,0.13165216147899628,0.17924058437347412,0.23394301533699036,0.15843865275382996,0.2441789209842682,0.23037433624267578,0.2550186216831207,0.2609202265739441,0.13520386815071106,0.20630039274692535,0.17826740443706512,0.3028525114059448,0.18827319145202637,0.2889060378074646,0.20685386657714844,0.2677232027053833,0.3784557580947876,0.24910186231136322,0.3137992322444916,0.3405122756958008,0.38410139083862305,0.3660065233707428,0.4308307468891144,0.5179815888404846,0.5358548760414124,0.6262706518173218,0.6188496947288513,0.6241598129272461,0.5959782004356384,0.7233558297157288,0.7146933674812317,0.6408872604370117,0.7416176795959473,0.6951146721839905,0.7945629358291626,0.8582311868667603,0.8718222379684448,0.9456106424331665,0.8993445634841919,0.9166553616523743,0.9495737552642822,1.076291561126709,1.1565899848937988],\"type\":\"scatter\"},{\"line\":{\"color\":\"red\",\"width\":5},\"mode\":\"lines\",\"name\":\"prediction\",\"x\":[-1.0,-0.9797979593276978,-0.9595959782600403,-0.939393937587738,-0.9191918969154358,-0.8989899158477783,-0.8787878751754761,-0.8585858345031738,-0.8383838534355164,-0.8181818127632141,-0.7979798316955566,-0.7777777910232544,-0.7575757503509521,-0.7373737692832947,-0.7171717286109924,-0.696969747543335,-0.6767677068710327,-0.6565656661987305,-0.636363685131073,-0.6161616444587708,-0.5959596037864685,-0.575757622718811,-0.5555555820465088,-0.5353535413742065,-0.5151515007019043,-0.49494948983192444,-0.4747474491596222,-0.45454543828964233,-0.4343434274196625,-0.4141414165496826,-0.39393937587738037,-0.3737373650074005,-0.35353535413742065,-0.3333333432674408,-0.31313130259513855,-0.2929292917251587,-0.27272728085517883,-0.252525269985199,-0.23232322931289673,-0.21212121844291687,-0.19191919267177582,-0.17171716690063477,-0.1515151560306549,-0.13131313025951385,-0.1111111119389534,-0.09090909361839294,-0.07070706784725189,-0.050505056977272034,-0.03030303120613098,-0.010101011022925377,0.010101009160280228,0.03030303120613098,0.05050504952669144,0.07070706784725189,0.09090909361839294,0.1111111044883728,0.13131313025951385,0.1515151560306549,0.17171716690063477,0.19191919267177582,0.21212121844291687,0.23232322931289673,0.252525269985199,0.27272725105285645,0.2929292917251587,0.31313130259513855,0.3333333432674408,0.35353535413742065,0.3737373650074005,0.39393937587738037,0.4141414165496826,0.4343434274196625,0.4545454680919647,0.4747474789619446,0.4949495196342468,0.5151515007019043,0.5353535413742065,0.5555555820465088,0.575757622718811,0.5959596037864685,0.6161616444587708,0.636363685131073,0.6565656661987305,0.6767677068710327,0.696969747543335,0.7171717286109924,0.7373737692832947,0.7575757503509521,0.7777777910232544,0.7979798316955566,0.8181818127632141,0.8383838534355164,0.8585858941078186,0.8787878751754761,0.8989899158477783,0.9191919565200806,0.939393937587738,0.9595959782600403,0.9797979593276978,1.0],\"y\":[0.9205726981163025,0.9011346697807312,0.8816966414451599,0.8622586131095886,0.8428205847740173,0.8233826160430908,0.8039445281028748,0.7845065593719482,0.765068531036377,0.7456305027008057,0.7261925339698792,0.7067544460296631,0.6873164772987366,0.6678785085678101,0.648440420627594,0.6290024518966675,0.6095644235610962,0.5901263356208801,0.5706884264945984,0.5512503385543823,0.531812310218811,0.5123743414878845,0.49293631315231323,0.47349822521209717,0.45406022667884827,0.43462222814559937,0.4151841700077057,0.3957461714744568,0.3763081431388855,0.3568701446056366,0.3374320864677429,0.317994087934494,0.2985560894012451,0.27911806106567383,0.25968003273010254,0.24024201929569244,0.22080400586128235,0.20136597752571106,0.1824103444814682,0.16651566326618195,0.1506209671497345,0.13472625613212585,0.1188315749168396,0.10293687880039215,0.0870421826839447,0.07114748656749725,0.05549655854701996,0.05652956664562225,0.057562559843063354,0.05859556794166565,0.05962856858968735,0.060661569237709045,0.06169457733631134,0.06272757053375244,0.06376057863235474,0.07663439214229584,0.09199719876050949,0.10736000537872314,0.12272278219461441,0.1384778916835785,0.1578545868396759,0.17723128199577332,0.19660797715187073,0.21598462760448456,0.23536133766174316,0.2547380328178406,0.274114727973938,0.2934914231300354,0.3128681182861328,0.33224478363990784,0.35162147879600525,0.37099820375442505,0.39037489891052246,0.4097515642642975,0.4291282892227173,0.4485049843788147,0.4678816795349121,0.4872583746910095,0.5066350698471069,0.5260117650032043,0.545388400554657,0.5647651553153992,0.5841418504714966,0.6035184860229492,0.6228952407836914,0.6422719359397888,0.6616486310958862,0.6810252666473389,0.700402021408081,0.7197787165641785,0.7391552925109863,0.7585321068763733,0.7779087424278259,0.7972853779792786,0.8166621327400208,0.8360388278961182,0.8554155230522156,0.874792218208313,0.8941688537597656,0.9135456085205078],\"type\":\"scatter\"}],                        {\"template\":{\"data\":{\"bar\":[{\"error_x\":{\"color\":\"#2a3f5f\"},\"error_y\":{\"color\":\"#2a3f5f\"},\"marker\":{\"line\":{\"color\":\"#E5ECF6\",\"width\":0.5},\"pattern\":{\"fillmode\":\"overlay\",\"size\":10,\"solidity\":0.2}},\"type\":\"bar\"}],\"barpolar\":[{\"marker\":{\"line\":{\"color\":\"#E5ECF6\",\"width\":0.5},\"pattern\":{\"fillmode\":\"overlay\",\"size\":10,\"solidity\":0.2}},\"type\":\"barpolar\"}],\"carpet\":[{\"aaxis\":{\"endlinecolor\":\"#2a3f5f\",\"gridcolor\":\"white\",\"linecolor\":\"white\",\"minorgridcolor\":\"white\",\"startlinecolor\":\"#2a3f5f\"},\"baxis\":{\"endlinecolor\":\"#2a3f5f\",\"gridcolor\":\"white\",\"linecolor\":\"white\",\"minorgridcolor\":\"white\",\"startlinecolor\":\"#2a3f5f\"},\"type\":\"carpet\"}],\"choropleth\":[{\"colorbar\":{\"outlinewidth\":0,\"ticks\":\"\"},\"type\":\"choropleth\"}],\"contour\":[{\"colorbar\":{\"outlinewidth\":0,\"ticks\":\"\"},\"colorscale\":[[0.0,\"#0d0887\"],[0.1111111111111111,\"#46039f\"],[0.2222222222222222,\"#7201a8\"],[0.3333333333333333,\"#9c179e\"],[0.4444444444444444,\"#bd3786\"],[0.5555555555555556,\"#d8576b\"],[0.6666666666666666,\"#ed7953\"],[0.7777777777777778,\"#fb9f3a\"],[0.8888888888888888,\"#fdca26\"],[1.0,\"#f0f921\"]],\"type\":\"contour\"}],\"contourcarpet\":[{\"colorbar\":{\"outlinewidth\":0,\"ticks\":\"\"},\"type\":\"contourcarpet\"}],\"heatmap\":[{\"colorbar\":{\"outlinewidth\":0,\"ticks\":\"\"},\"colorscale\":[[0.0,\"#0d0887\"],[0.1111111111111111,\"#46039f\"],[0.2222222222222222,\"#7201a8\"],[0.3333333333333333,\"#9c179e\"],[0.4444444444444444,\"#bd3786\"],[0.5555555555555556,\"#d8576b\"],[0.6666666666666666,\"#ed7953\"],[0.7777777777777778,\"#fb9f3a\"],[0.8888888888888888,\"#fdca26\"],[1.0,\"#f0f921\"]],\"type\":\"heatmap\"}],\"heatmapgl\":[{\"colorbar\":{\"outlinewidth\":0,\"ticks\":\"\"},\"colorscale\":[[0.0,\"#0d0887\"],[0.1111111111111111,\"#46039f\"],[0.2222222222222222,\"#7201a8\"],[0.3333333333333333,\"#9c179e\"],[0.4444444444444444,\"#bd3786\"],[0.5555555555555556,\"#d8576b\"],[0.6666666666666666,\"#ed7953\"],[0.7777777777777778,\"#fb9f3a\"],[0.8888888888888888,\"#fdca26\"],[1.0,\"#f0f921\"]],\"type\":\"heatmapgl\"}],\"histogram\":[{\"marker\":{\"pattern\":{\"fillmode\":\"overlay\",\"size\":10,\"solidity\":0.2}},\"type\":\"histogram\"}],\"histogram2d\":[{\"colorbar\":{\"outlinewidth\":0,\"ticks\":\"\"},\"colorscale\":[[0.0,\"#0d0887\"],[0.1111111111111111,\"#46039f\"],[0.2222222222222222,\"#7201a8\"],[0.3333333333333333,\"#9c179e\"],[0.4444444444444444,\"#bd3786\"],[0.5555555555555556,\"#d8576b\"],[0.6666666666666666,\"#ed7953\"],[0.7777777777777778,\"#fb9f3a\"],[0.8888888888888888,\"#fdca26\"],[1.0,\"#f0f921\"]],\"type\":\"histogram2d\"}],\"histogram2dcontour\":[{\"colorbar\":{\"outlinewidth\":0,\"ticks\":\"\"},\"colorscale\":[[0.0,\"#0d0887\"],[0.1111111111111111,\"#46039f\"],[0.2222222222222222,\"#7201a8\"],[0.3333333333333333,\"#9c179e\"],[0.4444444444444444,\"#bd3786\"],[0.5555555555555556,\"#d8576b\"],[0.6666666666666666,\"#ed7953\"],[0.7777777777777778,\"#fb9f3a\"],[0.8888888888888888,\"#fdca26\"],[1.0,\"#f0f921\"]],\"type\":\"histogram2dcontour\"}],\"mesh3d\":[{\"colorbar\":{\"outlinewidth\":0,\"ticks\":\"\"},\"type\":\"mesh3d\"}],\"parcoords\":[{\"line\":{\"colorbar\":{\"outlinewidth\":0,\"ticks\":\"\"}},\"type\":\"parcoords\"}],\"pie\":[{\"automargin\":true,\"type\":\"pie\"}],\"scatter\":[{\"marker\":{\"colorbar\":{\"outlinewidth\":0,\"ticks\":\"\"}},\"type\":\"scatter\"}],\"scatter3d\":[{\"line\":{\"colorbar\":{\"outlinewidth\":0,\"ticks\":\"\"}},\"marker\":{\"colorbar\":{\"outlinewidth\":0,\"ticks\":\"\"}},\"type\":\"scatter3d\"}],\"scattercarpet\":[{\"marker\":{\"colorbar\":{\"outlinewidth\":0,\"ticks\":\"\"}},\"type\":\"scattercarpet\"}],\"scattergeo\":[{\"marker\":{\"colorbar\":{\"outlinewidth\":0,\"ticks\":\"\"}},\"type\":\"scattergeo\"}],\"scattergl\":[{\"marker\":{\"colorbar\":{\"outlinewidth\":0,\"ticks\":\"\"}},\"type\":\"scattergl\"}],\"scattermapbox\":[{\"marker\":{\"colorbar\":{\"outlinewidth\":0,\"ticks\":\"\"}},\"type\":\"scattermapbox\"}],\"scatterpolar\":[{\"marker\":{\"colorbar\":{\"outlinewidth\":0,\"ticks\":\"\"}},\"type\":\"scatterpolar\"}],\"scatterpolargl\":[{\"marker\":{\"colorbar\":{\"outlinewidth\":0,\"ticks\":\"\"}},\"type\":\"scatterpolargl\"}],\"scatterternary\":[{\"marker\":{\"colorbar\":{\"outlinewidth\":0,\"ticks\":\"\"}},\"type\":\"scatterternary\"}],\"surface\":[{\"colorbar\":{\"outlinewidth\":0,\"ticks\":\"\"},\"colorscale\":[[0.0,\"#0d0887\"],[0.1111111111111111,\"#46039f\"],[0.2222222222222222,\"#7201a8\"],[0.3333333333333333,\"#9c179e\"],[0.4444444444444444,\"#bd3786\"],[0.5555555555555556,\"#d8576b\"],[0.6666666666666666,\"#ed7953\"],[0.7777777777777778,\"#fb9f3a\"],[0.8888888888888888,\"#fdca26\"],[1.0,\"#f0f921\"]],\"type\":\"surface\"}],\"table\":[{\"cells\":{\"fill\":{\"color\":\"#EBF0F8\"},\"line\":{\"color\":\"white\"}},\"header\":{\"fill\":{\"color\":\"#C8D4E3\"},\"line\":{\"color\":\"white\"}},\"type\":\"table\"}]},\"layout\":{\"annotationdefaults\":{\"arrowcolor\":\"#2a3f5f\",\"arrowhead\":0,\"arrowwidth\":1},\"autotypenumbers\":\"strict\",\"coloraxis\":{\"colorbar\":{\"outlinewidth\":0,\"ticks\":\"\"}},\"colorscale\":{\"diverging\":[[0,\"#8e0152\"],[0.1,\"#c51b7d\"],[0.2,\"#de77ae\"],[0.3,\"#f1b6da\"],[0.4,\"#fde0ef\"],[0.5,\"#f7f7f7\"],[0.6,\"#e6f5d0\"],[0.7,\"#b8e186\"],[0.8,\"#7fbc41\"],[0.9,\"#4d9221\"],[1,\"#276419\"]],\"sequential\":[[0.0,\"#0d0887\"],[0.1111111111111111,\"#46039f\"],[0.2222222222222222,\"#7201a8\"],[0.3333333333333333,\"#9c179e\"],[0.4444444444444444,\"#bd3786\"],[0.5555555555555556,\"#d8576b\"],[0.6666666666666666,\"#ed7953\"],[0.7777777777777778,\"#fb9f3a\"],[0.8888888888888888,\"#fdca26\"],[1.0,\"#f0f921\"]],\"sequentialminus\":[[0.0,\"#0d0887\"],[0.1111111111111111,\"#46039f\"],[0.2222222222222222,\"#7201a8\"],[0.3333333333333333,\"#9c179e\"],[0.4444444444444444,\"#bd3786\"],[0.5555555555555556,\"#d8576b\"],[0.6666666666666666,\"#ed7953\"],[0.7777777777777778,\"#fb9f3a\"],[0.8888888888888888,\"#fdca26\"],[1.0,\"#f0f921\"]]},\"colorway\":[\"#636efa\",\"#EF553B\",\"#00cc96\",\"#ab63fa\",\"#FFA15A\",\"#19d3f3\",\"#FF6692\",\"#B6E880\",\"#FF97FF\",\"#FECB52\"],\"font\":{\"color\":\"#2a3f5f\"},\"geo\":{\"bgcolor\":\"white\",\"lakecolor\":\"white\",\"landcolor\":\"#E5ECF6\",\"showlakes\":true,\"showland\":true,\"subunitcolor\":\"white\"},\"hoverlabel\":{\"align\":\"left\"},\"hovermode\":\"closest\",\"mapbox\":{\"style\":\"light\"},\"paper_bgcolor\":\"white\",\"plot_bgcolor\":\"#E5ECF6\",\"polar\":{\"angularaxis\":{\"gridcolor\":\"white\",\"linecolor\":\"white\",\"ticks\":\"\"},\"bgcolor\":\"#E5ECF6\",\"radialaxis\":{\"gridcolor\":\"white\",\"linecolor\":\"white\",\"ticks\":\"\"}},\"scene\":{\"xaxis\":{\"backgroundcolor\":\"#E5ECF6\",\"gridcolor\":\"white\",\"gridwidth\":2,\"linecolor\":\"white\",\"showbackground\":true,\"ticks\":\"\",\"zerolinecolor\":\"white\"},\"yaxis\":{\"backgroundcolor\":\"#E5ECF6\",\"gridcolor\":\"white\",\"gridwidth\":2,\"linecolor\":\"white\",\"showbackground\":true,\"ticks\":\"\",\"zerolinecolor\":\"white\"},\"zaxis\":{\"backgroundcolor\":\"#E5ECF6\",\"gridcolor\":\"white\",\"gridwidth\":2,\"linecolor\":\"white\",\"showbackground\":true,\"ticks\":\"\",\"zerolinecolor\":\"white\"}},\"shapedefaults\":{\"line\":{\"color\":\"#2a3f5f\"}},\"ternary\":{\"aaxis\":{\"gridcolor\":\"white\",\"linecolor\":\"white\",\"ticks\":\"\"},\"baxis\":{\"gridcolor\":\"white\",\"linecolor\":\"white\",\"ticks\":\"\"},\"bgcolor\":\"#E5ECF6\",\"caxis\":{\"gridcolor\":\"white\",\"linecolor\":\"white\",\"ticks\":\"\"}},\"title\":{\"x\":0.05},\"xaxis\":{\"automargin\":true,\"gridcolor\":\"white\",\"linecolor\":\"white\",\"ticks\":\"\",\"title\":{\"standoff\":15},\"zerolinecolor\":\"white\",\"zerolinewidth\":2},\"yaxis\":{\"automargin\":true,\"gridcolor\":\"white\",\"linecolor\":\"white\",\"ticks\":\"\",\"title\":{\"standoff\":15},\"zerolinecolor\":\"white\",\"zerolinewidth\":2}}},\"margin\":{\"l\":20,\"r\":20,\"t\":20,\"b\":20},\"legend\":{\"yanchor\":\"top\",\"y\":0.99,\"xanchor\":\"center\",\"x\":0.5},\"annotations\":[{\"showarrow\":false,\"text\":\"Loss=0.0080\",\"x\":0.5,\"y\":0}],\"width\":400,\"height\":250},                        {\"responsive\": true}                    ).then(function(){\n",
              "                            \n",
              "var gd = document.getElementById('1782fcb1-1cc8-49bc-b6ed-475f0352f168');\n",
              "var x = new MutationObserver(function (mutations, observer) {{\n",
              "        var display = window.getComputedStyle(gd).display;\n",
              "        if (!display || display === 'none') {{\n",
              "            console.log([gd, 'removed!']);\n",
              "            Plotly.purge(gd);\n",
              "            observer.disconnect();\n",
              "        }}\n",
              "}});\n",
              "\n",
              "// Listen for the removal of the full notebook cells\n",
              "var notebookContainer = gd.closest('#notebook-container');\n",
              "if (notebookContainer) {{\n",
              "    x.observe(notebookContainer, {childList: true});\n",
              "}}\n",
              "\n",
              "// Listen for the clearing of the current output cell\n",
              "var outputEl = gd.closest('.output');\n",
              "if (outputEl) {{\n",
              "    x.observe(outputEl, {childList: true});\n",
              "}}\n",
              "\n",
              "                        })                };                            </script>        </div>\n",
              "</body>\n",
              "</html>"
            ]
          },
          "metadata": {}
        },
        {
          "output_type": "display_data",
          "data": {
            "text/plain": [
              "<IPython.core.display.Javascript object>"
            ],
            "application/javascript": [
              "window[\"d63f89ec-ae0d-11ed-8380-0242ac1c000c\"] = google.colab.output.setActiveOutputArea(window[\"d638a05a-ae0d-11ed-8380-0242ac1c000c\"]);\n",
              "//# sourceURL=js_dd724b46f3"
            ]
          },
          "metadata": {}
        }
      ]
    },
    {
      "cell_type": "code",
      "source": [],
      "metadata": {
        "id": "MWHMPZvSEUol"
      },
      "execution_count": 35,
      "outputs": []
    }
  ]
}